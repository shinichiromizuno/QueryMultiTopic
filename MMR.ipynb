{
  "cells": [
    {
      "cell_type": "markdown",
      "metadata": {
        "id": "view-in-github",
        "colab_type": "text"
      },
      "source": [
        "<a href=\"https://colab.research.google.com/github/shinichiromizuno/QueryMultiTopic/blob/master/MMR.ipynb\" target=\"_parent\"><img src=\"https://colab.research.google.com/assets/colab-badge.svg\" alt=\"Open In Colab\"/></a>"
      ]
    },
    {
      "cell_type": "code",
      "source": [
        "# Mount your Google Drive.\n",
        "# Connect to GPU in Google Colab."
      ],
      "metadata": {
        "id": "tX25swA4EnlJ"
      },
      "execution_count": null,
      "outputs": []
    },
    {
      "cell_type": "code",
      "source": [
        "################ Preprocess ################"
      ],
      "metadata": {
        "id": "Mk8ebZlKqMvU"
      },
      "execution_count": null,
      "outputs": []
    },
    {
      "cell_type": "code",
      "execution_count": null,
      "metadata": {
        "id": "0A6bzOL-JdYg"
      },
      "outputs": [],
      "source": [
        "# Configure working directories.　We use the preprocessed dataset output of Multi-BERTSum by configuring it as the source directory.\n",
        "work_dir =  '/content/drive/MyDrive/work_MMR'\n",
        "source_dir = '/content/drive/MyDrive/work_Multi_BERTSum'"
      ]
    },
    {
      "cell_type": "code",
      "execution_count": null,
      "metadata": {
        "id": "LwbeCO0rWTSs"
      },
      "outputs": [],
      "source": [
        "# Skipping Step1~4, as we use the preprocessed dataset output of Multi-BERTSum."
      ]
    },
    {
      "cell_type": "code",
      "source": [
        "# Preprocesing Dataset\n",
        "import json\n",
        "import torch\n",
        "import os\n",
        "import random\n",
        "from glob import glob\n",
        "import nltk\n",
        "\n",
        "from sklearn.feature_extraction.text import CountVectorizer\n",
        "from sklearn.feature_extraction.text import TfidfTransformer\n",
        "from sklearn.metrics.pairwise import cosine_similarity\n",
        "\n",
        "nltk.download('punkt')\n",
        "nltk.download('averaged_perceptron_tagger')\n",
        "nltk.download('maxent_ne_chunker')\n",
        "nltk.download('words')\n",
        "\n",
        "src_doc_train = []\n",
        "src_doc_valid = []\n",
        "tgt_list_valid = []\n",
        "src_doc_test = []\n",
        "tgt_list_test = []\n",
        "for data in sorted(glob(source_dir + '/json_data_labeled/*')):\n",
        "  filetype = data.split('/')[-1].split('.')[1]\n",
        "  json_open = open(data)\n",
        "  json_load = json.load(json_open)\n",
        "  src_txt = json_load['src_txt']\n",
        "  tagged_txt = [nltk.pos_tag(nltk.word_tokenize(sentence)) for sentence in src_txt]\n",
        "  selected_txt = []\n",
        "  for tagged_sent in tagged_txt:\n",
        "    sent_after_selection = []\n",
        "    for word_tupple in tagged_sent:\n",
        "      if word_tupple[1] in ['JJ', 'JJR', 'JJS', 'NN', 'NNS', 'NNP', 'NNPS', 'PRP', 'PRP$', 'RB', 'RBR', 'RBS', 'VB', 'VBD', 'VBG', 'VBN', 'VBP', 'VBZ']:\n",
        "        sent_after_selection.append(word_tupple[0]) \n",
        "    selected_txt.append(' '.join(sent_after_selection))\n",
        "  if filetype == 'train':\n",
        "    src_doc_train.append(selected_txt)\n",
        "  elif filetype == 'valid':\n",
        "    src_doc_valid.append(selected_txt)\n",
        "    tgt_list = []\n",
        "    for i in range(1,18):\n",
        "      tgt_list.append(json_load['tgt'+str(i)])\n",
        "    tgt_list_valid.append(tgt_list)\n",
        "  elif filetype == 'test':\n",
        "    src_doc_test.append(selected_txt)\n",
        "    tgt_list = []\n",
        "    for i in range(1,18):\n",
        "      tgt_list.append(json_load['tgt'+str(i)])\n",
        "    tgt_list_test.append(tgt_list)\n",
        "\n",
        "src_doc_train_concat = []\n",
        "for doc in src_doc_train:\n",
        "  src_doc_train_concat.append(' '.join(doc))\n",
        "\n",
        "vectorizer = CountVectorizer(token_pattern=u'(?u)\\\\b\\\\w+\\\\b')\n",
        "transformer = TfidfTransformer()\n",
        "\n",
        "tf = vectorizer.fit_transform(src_doc_train_concat)\n",
        "tfidf = transformer.fit_transform(tf)\n",
        "\n",
        "sdgsdir = '/content/drive/MyDrive/DatasetESG/0-SDGs/'\n",
        "\n",
        "all_query_txt = []\n",
        "for goal in sorted(glob(sdgsdir + '/*')):\n",
        "  query_txt = []\n",
        "  with open(goal, mode='r') as f:\n",
        "    for line in f:\n",
        "      query_txt.append(line.strip())\n",
        "  tagged_query_txt = nltk.pos_tag(nltk.word_tokenize(' '.join(query_txt)))\n",
        "  query_txt_after_selection = []\n",
        "  for word_tupple in tagged_query_txt:\n",
        "    if word_tupple[1] in ['JJ', 'JJR', 'JJS', 'NN', 'NNS', 'NNP', 'NNPS', 'PRP', 'PRP$', 'RB', 'RBR', 'RBS', 'VB', 'VBD', 'VBG', 'VBN', 'VBP', 'VBZ']:\n",
        "      query_txt_after_selection.append(word_tupple[0])\n",
        "  all_query_txt.append(' '.join(query_txt_after_selection))\n",
        "\n",
        "query_src_cs_list_valid = []\n",
        "src_src_cs_list_valid = []\n",
        "for src_doc in src_doc_valid:\n",
        "  tf_src_doc = vectorizer.transform(src_doc)\n",
        "  tfidf_src_doc = transformer.transform(tf_src_doc)\n",
        "  tf_all_query_txt = vectorizer.transform(all_query_txt)\n",
        "  tfidf_all_query_txt = transformer.transform(tf_all_query_txt)\n",
        "  cs = cosine_similarity(tfidf_all_query_txt, tfidf_src_doc)\n",
        "  query_src_cs_list_valid.append(cs)\n",
        "  cs = cosine_similarity(tfidf_src_doc, tfidf_src_doc)\n",
        "  src_src_cs_list_valid.append(cs)\n",
        "\n",
        "query_src_cs_list_test = []\n",
        "src_src_cs_list_test = []\n",
        "for src_doc in src_doc_test:\n",
        "  tf_src_doc = vectorizer.transform(src_doc)\n",
        "  tfidf_src_doc = transformer.transform(tf_src_doc)\n",
        "  tf_all_query_txt = vectorizer.transform(all_query_txt)\n",
        "  tfidf_all_query_txt = transformer.transform(tf_all_query_txt)\n",
        "  cs = cosine_similarity(tfidf_all_query_txt, tfidf_src_doc)\n",
        "  query_src_cs_list_test.append(cs)\n",
        "  cs = cosine_similarity(tfidf_src_doc, tfidf_src_doc)\n",
        "  src_src_cs_list_test.append(cs)\n",
        "\n",
        "dataset = {'query_src_cs_list_valid': query_src_cs_list_valid, 'src_src_cs_list_valid': src_src_cs_list_valid, 'tgt_list_valid': tgt_list_valid, 'query_src_cs_list_test': query_src_cs_list_test, 'src_src_cs_list_test': src_src_cs_list_test, 'tgt_list_test': tgt_list_test}\n",
        "torch.save(dataset, work_dir + '/dataset.pt')  "
      ],
      "metadata": {
        "colab": {
          "base_uri": "https://localhost:8080/"
        },
        "id": "XpUrXB474BcG",
        "outputId": "bb749eba-da8a-4cb2-af42-c983e9502272"
      },
      "execution_count": null,
      "outputs": [
        {
          "output_type": "stream",
          "name": "stdout",
          "text": [
            "[nltk_data] Downloading package punkt to /root/nltk_data...\n",
            "[nltk_data]   Package punkt is already up-to-date!\n",
            "[nltk_data] Downloading package averaged_perceptron_tagger to\n",
            "[nltk_data]     /root/nltk_data...\n",
            "[nltk_data]   Package averaged_perceptron_tagger is already up-to-\n",
            "[nltk_data]       date!\n",
            "[nltk_data] Downloading package maxent_ne_chunker to\n",
            "[nltk_data]     /root/nltk_data...\n",
            "[nltk_data]   Package maxent_ne_chunker is already up-to-date!\n",
            "[nltk_data] Downloading package words to /root/nltk_data...\n",
            "[nltk_data]   Package words is already up-to-date!\n"
          ]
        }
      ]
    },
    {
      "cell_type": "code",
      "source": [
        "################ Validation ################"
      ],
      "metadata": {
        "id": "mnPyFkiLMLwg"
      },
      "execution_count": null,
      "outputs": []
    },
    {
      "cell_type": "code",
      "source": [
        "import numpy as np\n",
        "\n",
        "def mmr(query_src_cs_list, src_src_cs_list, lambda_):\n",
        "  all_sumset = []\n",
        "  for d in range(len(query_src_cs_list)):\n",
        "    qry = np.array(query_src_cs_list[d])\n",
        "    src = np.array(src_src_cs_list[d])\n",
        "    doc_sumset = []\n",
        "    for i in range(len(qry)):\n",
        "      sumset = []\n",
        "      diff = lambda_ * qry[i] - (1-lambda_) * src\n",
        "      for j in range(len(diff)):\n",
        "        diff[j, j] = -float('inf')\n",
        "      qry_max = np.argmax(qry[i])\n",
        "      sumset.append(qry_max)\n",
        "      diff[:, qry_max] -= float('inf')\n",
        "      for j in range(len(diff) - 1):\n",
        "        ind = np.zeros(len(diff), dtype=bool)\n",
        "        ind[sumset] = True\n",
        "        maxind = np.unravel_index(np.argmax(diff[ind]), diff.shape)[1]\n",
        "        sumset.append(maxind)\n",
        "        diff[:, maxind] -= float('inf')\n",
        "      doc_sumset.append(sumset)\n",
        "    all_sumset.append(doc_sumset)\n",
        "  return all_sumset"
      ],
      "metadata": {
        "id": "RCL8KpZ-IYZn"
      },
      "execution_count": null,
      "outputs": []
    },
    {
      "cell_type": "code",
      "source": [
        "def predict_goals(all_sumset, num_sent):\n",
        "  mmr_pred = []\n",
        "  for sumset in all_sumset:\n",
        "    ind = np.zeros(len(sumset))\n",
        "    ind[sumset[0:num_sent]] = 1\n",
        "    mmr_pred.append(ind.tolist())\n",
        "  return mmr_pred"
      ],
      "metadata": {
        "id": "Yc3KO57VTl8A"
      },
      "execution_count": null,
      "outputs": []
    },
    {
      "cell_type": "code",
      "source": [
        "# Showing F1 Score and Accuracy in all an by qry\n",
        "import numpy as np\n",
        "from sklearn.metrics import f1_score, accuracy_score\n",
        "\n",
        "def show_statistics_valid(all_predited_list, all_tgt_list, thres_list):\n",
        "  best_all_predited_list = []\n",
        "  for i in range(17):\n",
        "    by_thres_predicted = []\n",
        "    f1_list, acc_list = [], []\n",
        "    for j, thres in enumerate(thres_list):\n",
        "      by_qry_predicted = []\n",
        "      by_qry_tgt = []\n",
        "      for doc_pred, doc_tgt in zip(all_predited_list, all_tgt_list):\n",
        "        by_qry_predicted += doc_pred[j][i]\n",
        "        by_qry_tgt += doc_tgt[i]\n",
        "      f1 = f1_score(by_qry_predicted, by_qry_tgt)\n",
        "      acc = accuracy_score(by_qry_predicted, by_qry_tgt)\n",
        "      f1_list.append(f1)\n",
        "      acc_list.append(acc)\n",
        "    bs = np.argmax(f1_list)\n",
        "    print(f'Goal{i+1}, threshold: {thres_list[bs]}, f1_score: {round(f1_list[bs], 3)}, accuracy: {round(acc_list[bs], 3)}')\n",
        "    best_all_predited_list.append([doc_pred[bs][i] for doc_pred in all_predited_list])\n",
        "  \n",
        "  best_all_predited_list_t = np.array(best_all_predited_list).T.tolist()\n",
        "  single_predicted = []\n",
        "  single_tgt = []\n",
        "  for doc_pred, doc_tgt in zip(best_all_predited_list_t, all_tgt_list):\n",
        "    for qry_pred, qry_tgt in zip(doc_pred, doc_tgt):\n",
        "      single_predicted += qry_pred\n",
        "      single_tgt += qry_tgt\n",
        "  best_f1 = f1_score(single_predicted, single_tgt)\n",
        "  best_acc = accuracy_score(single_predicted, single_tgt)\n",
        "  print(f'Total Best f1_score:{round(best_f1, 3)}, accuracy:{round(best_acc, 3)}')"
      ],
      "metadata": {
        "id": "hB9EPfGdot1Z"
      },
      "execution_count": null,
      "outputs": []
    },
    {
      "cell_type": "code",
      "source": [
        "import torch\n",
        "from glob import glob\n",
        "import numpy as np\n",
        "\n",
        "def validate_execute(validation_list):\n",
        "  dataset = torch.load(glob(work_dir + '/dataset.pt')[0])\n",
        "  for lambda_ in validation_list:\n",
        "    print(lambda_)\n",
        "    all_sumset = mmr(query_src_cs_list_valid, src_src_cs_list_valid, lambda_=lambda_)\n",
        "    all_sumset_t = np.array(all_sumset).T\n",
        "    num_sent_range = range(5, 305, 5)\n",
        "    src_pred_list = []\n",
        "    for i in range(17):\n",
        "      src_pred_list_by_thres = []\n",
        "      for j in num_sent_range:\n",
        "        src_pred = predict_goals(all_sumset_t[i], num_sent=j)\n",
        "        src_pred_list_by_thres.append(src_pred)\n",
        "      src_pred_list.append(src_pred_list_by_thres)\n",
        "    src_pred_list_t = np.array(src_pred_list).T.tolist()\n",
        "    show_statistics_valid(src_pred_list_t, dataset['tgt_list_valid'], [i for i in num_sent_range])"
      ],
      "metadata": {
        "id": "7G930EVwF1YO"
      },
      "execution_count": null,
      "outputs": []
    },
    {
      "cell_type": "code",
      "source": [
        "# Showing Optimal Hyperparameters\n",
        "valiation_list = [1.0, 0.9, 0.8, 0.7, 0.6, 0.5, 0.4, 0.3, 0.2, 0.1, 0.0]\n",
        "validate_execute(valiation_list)"
      ],
      "metadata": {
        "colab": {
          "base_uri": "https://localhost:8080/"
        },
        "id": "7uoXs2pYF4lu",
        "outputId": "4f364eec-8dc5-41e3-bef0-f3b551e5f0ee"
      },
      "execution_count": null,
      "outputs": [
        {
          "output_type": "stream",
          "name": "stderr",
          "text": [
            "/usr/local/lib/python3.7/dist-packages/ipykernel_launcher.py:9: VisibleDeprecationWarning: Creating an ndarray from ragged nested sequences (which is a list-or-tuple of lists-or-tuples-or ndarrays with different lengths or shapes) is deprecated. If you meant to do this, you must specify 'dtype=object' when creating the ndarray.\n",
            "  if __name__ == '__main__':\n",
            "/usr/local/lib/python3.7/dist-packages/ipykernel_launcher.py:18: VisibleDeprecationWarning: Creating an ndarray from ragged nested sequences (which is a list-or-tuple of lists-or-tuples-or ndarrays with different lengths or shapes) is deprecated. If you meant to do this, you must specify 'dtype=object' when creating the ndarray.\n"
          ]
        },
        {
          "output_type": "stream",
          "name": "stdout",
          "text": [
            "Goal1, threshold: 285, f1_score: 0.031, accuracy: 0.59\n",
            "Goal2, threshold: 20, f1_score: 0.04, accuracy: 0.963\n",
            "Goal3, threshold: 120, f1_score: 0.154, accuracy: 0.802\n",
            "Goal4, threshold: 115, f1_score: 0.088, accuracy: 0.827\n",
            "Goal5, threshold: 30, f1_score: 0.135, accuracy: 0.929\n",
            "Goal6, threshold: 10, f1_score: 0.069, accuracy: 0.977\n",
            "Goal7, threshold: 80, f1_score: 0.141, accuracy: 0.86\n",
            "Goal8, threshold: 185, f1_score: 0.156, accuracy: 0.716\n",
            "Goal9, threshold: 300, f1_score: 0.126, accuracy: 0.572\n",
            "Goal10, threshold: 110, f1_score: 0.057, accuracy: 0.829\n",
            "Goal11, threshold: 160, f1_score: 0.093, accuracy: 0.758\n",
            "Goal12, threshold: 185, f1_score: 0.153, accuracy: 0.723\n",
            "Goal13, threshold: 235, f1_score: 0.115, accuracy: 0.656\n",
            "Goal14, threshold: 20, f1_score: 0.074, accuracy: 0.952\n",
            "Goal15, threshold: 50, f1_score: 0.089, accuracy: 0.905\n",
            "Goal16, threshold: 75, f1_score: 0.079, accuracy: 0.877\n",
            "Goal17, threshold: 295, f1_score: 0.103, accuracy: 0.57\n"
          ]
        },
        {
          "output_type": "stream",
          "name": "stderr",
          "text": [
            "/usr/local/lib/python3.7/dist-packages/ipykernel_launcher.py:24: VisibleDeprecationWarning: Creating an ndarray from ragged nested sequences (which is a list-or-tuple of lists-or-tuples-or ndarrays with different lengths or shapes) is deprecated. If you meant to do this, you must specify 'dtype=object' when creating the ndarray.\n"
          ]
        },
        {
          "output_type": "stream",
          "name": "stdout",
          "text": [
            "Total Best f1_score:0.107, accuracy:0.794\n"
          ]
        },
        {
          "output_type": "stream",
          "name": "stderr",
          "text": [
            "/usr/local/lib/python3.7/dist-packages/ipykernel_launcher.py:9: VisibleDeprecationWarning: Creating an ndarray from ragged nested sequences (which is a list-or-tuple of lists-or-tuples-or ndarrays with different lengths or shapes) is deprecated. If you meant to do this, you must specify 'dtype=object' when creating the ndarray.\n",
            "  if __name__ == '__main__':\n",
            "/usr/local/lib/python3.7/dist-packages/ipykernel_launcher.py:18: VisibleDeprecationWarning: Creating an ndarray from ragged nested sequences (which is a list-or-tuple of lists-or-tuples-or ndarrays with different lengths or shapes) is deprecated. If you meant to do this, you must specify 'dtype=object' when creating the ndarray.\n"
          ]
        },
        {
          "output_type": "stream",
          "name": "stdout",
          "text": [
            "Goal1, threshold: 50, f1_score: 0.031, accuracy: 0.918\n",
            "Goal2, threshold: 20, f1_score: 0.04, accuracy: 0.963\n",
            "Goal3, threshold: 120, f1_score: 0.154, accuracy: 0.802\n",
            "Goal4, threshold: 115, f1_score: 0.088, accuracy: 0.827\n",
            "Goal5, threshold: 30, f1_score: 0.135, accuracy: 0.929\n",
            "Goal6, threshold: 10, f1_score: 0.069, accuracy: 0.977\n",
            "Goal7, threshold: 80, f1_score: 0.141, accuracy: 0.86\n",
            "Goal8, threshold: 185, f1_score: 0.156, accuracy: 0.716\n",
            "Goal9, threshold: 295, f1_score: 0.127, accuracy: 0.578\n",
            "Goal10, threshold: 110, f1_score: 0.057, accuracy: 0.829\n",
            "Goal11, threshold: 160, f1_score: 0.093, accuracy: 0.758\n",
            "Goal12, threshold: 185, f1_score: 0.153, accuracy: 0.723\n",
            "Goal13, threshold: 200, f1_score: 0.117, accuracy: 0.701\n",
            "Goal14, threshold: 20, f1_score: 0.074, accuracy: 0.952\n",
            "Goal15, threshold: 50, f1_score: 0.089, accuracy: 0.905\n",
            "Goal16, threshold: 75, f1_score: 0.079, accuracy: 0.877\n",
            "Goal17, threshold: 295, f1_score: 0.104, accuracy: 0.57\n"
          ]
        },
        {
          "output_type": "stream",
          "name": "stderr",
          "text": [
            "/usr/local/lib/python3.7/dist-packages/ipykernel_launcher.py:24: VisibleDeprecationWarning: Creating an ndarray from ragged nested sequences (which is a list-or-tuple of lists-or-tuples-or ndarrays with different lengths or shapes) is deprecated. If you meant to do this, you must specify 'dtype=object' when creating the ndarray.\n"
          ]
        },
        {
          "output_type": "stream",
          "name": "stdout",
          "text": [
            "Total Best f1_score:0.115, accuracy:0.817\n"
          ]
        },
        {
          "output_type": "stream",
          "name": "stderr",
          "text": [
            "/usr/local/lib/python3.7/dist-packages/ipykernel_launcher.py:9: VisibleDeprecationWarning: Creating an ndarray from ragged nested sequences (which is a list-or-tuple of lists-or-tuples-or ndarrays with different lengths or shapes) is deprecated. If you meant to do this, you must specify 'dtype=object' when creating the ndarray.\n",
            "  if __name__ == '__main__':\n",
            "/usr/local/lib/python3.7/dist-packages/ipykernel_launcher.py:18: VisibleDeprecationWarning: Creating an ndarray from ragged nested sequences (which is a list-or-tuple of lists-or-tuples-or ndarrays with different lengths or shapes) is deprecated. If you meant to do this, you must specify 'dtype=object' when creating the ndarray.\n"
          ]
        },
        {
          "output_type": "stream",
          "name": "stdout",
          "text": [
            "Goal1, threshold: 50, f1_score: 0.031, accuracy: 0.918\n",
            "Goal2, threshold: 35, f1_score: 0.039, accuracy: 0.942\n",
            "Goal3, threshold: 120, f1_score: 0.154, accuracy: 0.802\n",
            "Goal4, threshold: 115, f1_score: 0.088, accuracy: 0.827\n",
            "Goal5, threshold: 30, f1_score: 0.135, accuracy: 0.929\n",
            "Goal6, threshold: 10, f1_score: 0.065, accuracy: 0.977\n",
            "Goal7, threshold: 80, f1_score: 0.141, accuracy: 0.86\n",
            "Goal8, threshold: 185, f1_score: 0.156, accuracy: 0.716\n",
            "Goal9, threshold: 295, f1_score: 0.127, accuracy: 0.578\n",
            "Goal10, threshold: 110, f1_score: 0.057, accuracy: 0.829\n",
            "Goal11, threshold: 160, f1_score: 0.093, accuracy: 0.758\n",
            "Goal12, threshold: 185, f1_score: 0.153, accuracy: 0.723\n",
            "Goal13, threshold: 200, f1_score: 0.117, accuracy: 0.701\n",
            "Goal14, threshold: 20, f1_score: 0.074, accuracy: 0.952\n",
            "Goal15, threshold: 50, f1_score: 0.089, accuracy: 0.905\n",
            "Goal16, threshold: 75, f1_score: 0.079, accuracy: 0.877\n",
            "Goal17, threshold: 295, f1_score: 0.104, accuracy: 0.57\n"
          ]
        },
        {
          "output_type": "stream",
          "name": "stderr",
          "text": [
            "/usr/local/lib/python3.7/dist-packages/ipykernel_launcher.py:24: VisibleDeprecationWarning: Creating an ndarray from ragged nested sequences (which is a list-or-tuple of lists-or-tuples-or ndarrays with different lengths or shapes) is deprecated. If you meant to do this, you must specify 'dtype=object' when creating the ndarray.\n"
          ]
        },
        {
          "output_type": "stream",
          "name": "stdout",
          "text": [
            "Total Best f1_score:0.114, accuracy:0.816\n"
          ]
        },
        {
          "output_type": "stream",
          "name": "stderr",
          "text": [
            "/usr/local/lib/python3.7/dist-packages/ipykernel_launcher.py:9: VisibleDeprecationWarning: Creating an ndarray from ragged nested sequences (which is a list-or-tuple of lists-or-tuples-or ndarrays with different lengths or shapes) is deprecated. If you meant to do this, you must specify 'dtype=object' when creating the ndarray.\n",
            "  if __name__ == '__main__':\n",
            "/usr/local/lib/python3.7/dist-packages/ipykernel_launcher.py:18: VisibleDeprecationWarning: Creating an ndarray from ragged nested sequences (which is a list-or-tuple of lists-or-tuples-or ndarrays with different lengths or shapes) is deprecated. If you meant to do this, you must specify 'dtype=object' when creating the ndarray.\n"
          ]
        },
        {
          "output_type": "stream",
          "name": "stdout",
          "text": [
            "Goal1, threshold: 50, f1_score: 0.031, accuracy: 0.918\n",
            "Goal2, threshold: 35, f1_score: 0.039, accuracy: 0.942\n",
            "Goal3, threshold: 120, f1_score: 0.154, accuracy: 0.802\n",
            "Goal4, threshold: 115, f1_score: 0.088, accuracy: 0.827\n",
            "Goal5, threshold: 30, f1_score: 0.135, accuracy: 0.929\n",
            "Goal6, threshold: 10, f1_score: 0.065, accuracy: 0.977\n",
            "Goal7, threshold: 80, f1_score: 0.141, accuracy: 0.86\n",
            "Goal8, threshold: 185, f1_score: 0.156, accuracy: 0.716\n",
            "Goal9, threshold: 295, f1_score: 0.127, accuracy: 0.578\n",
            "Goal10, threshold: 110, f1_score: 0.057, accuracy: 0.829\n",
            "Goal11, threshold: 160, f1_score: 0.093, accuracy: 0.758\n",
            "Goal12, threshold: 185, f1_score: 0.153, accuracy: 0.723\n",
            "Goal13, threshold: 200, f1_score: 0.117, accuracy: 0.701\n",
            "Goal14, threshold: 25, f1_score: 0.074, accuracy: 0.946\n",
            "Goal15, threshold: 50, f1_score: 0.089, accuracy: 0.905\n",
            "Goal16, threshold: 75, f1_score: 0.079, accuracy: 0.877\n",
            "Goal17, threshold: 295, f1_score: 0.104, accuracy: 0.57\n"
          ]
        },
        {
          "output_type": "stream",
          "name": "stderr",
          "text": [
            "/usr/local/lib/python3.7/dist-packages/ipykernel_launcher.py:24: VisibleDeprecationWarning: Creating an ndarray from ragged nested sequences (which is a list-or-tuple of lists-or-tuples-or ndarrays with different lengths or shapes) is deprecated. If you meant to do this, you must specify 'dtype=object' when creating the ndarray.\n"
          ]
        },
        {
          "output_type": "stream",
          "name": "stdout",
          "text": [
            "Total Best f1_score:0.114, accuracy:0.815\n"
          ]
        },
        {
          "output_type": "stream",
          "name": "stderr",
          "text": [
            "/usr/local/lib/python3.7/dist-packages/ipykernel_launcher.py:9: VisibleDeprecationWarning: Creating an ndarray from ragged nested sequences (which is a list-or-tuple of lists-or-tuples-or ndarrays with different lengths or shapes) is deprecated. If you meant to do this, you must specify 'dtype=object' when creating the ndarray.\n",
            "  if __name__ == '__main__':\n",
            "/usr/local/lib/python3.7/dist-packages/ipykernel_launcher.py:18: VisibleDeprecationWarning: Creating an ndarray from ragged nested sequences (which is a list-or-tuple of lists-or-tuples-or ndarrays with different lengths or shapes) is deprecated. If you meant to do this, you must specify 'dtype=object' when creating the ndarray.\n"
          ]
        },
        {
          "output_type": "stream",
          "name": "stdout",
          "text": [
            "Goal1, threshold: 50, f1_score: 0.031, accuracy: 0.918\n",
            "Goal2, threshold: 35, f1_score: 0.039, accuracy: 0.942\n",
            "Goal3, threshold: 120, f1_score: 0.154, accuracy: 0.802\n",
            "Goal4, threshold: 115, f1_score: 0.088, accuracy: 0.827\n",
            "Goal5, threshold: 30, f1_score: 0.135, accuracy: 0.929\n",
            "Goal6, threshold: 10, f1_score: 0.065, accuracy: 0.977\n",
            "Goal7, threshold: 80, f1_score: 0.141, accuracy: 0.86\n",
            "Goal8, threshold: 185, f1_score: 0.156, accuracy: 0.716\n",
            "Goal9, threshold: 295, f1_score: 0.127, accuracy: 0.578\n",
            "Goal10, threshold: 110, f1_score: 0.057, accuracy: 0.829\n",
            "Goal11, threshold: 160, f1_score: 0.093, accuracy: 0.758\n",
            "Goal12, threshold: 185, f1_score: 0.153, accuracy: 0.723\n",
            "Goal13, threshold: 200, f1_score: 0.117, accuracy: 0.701\n",
            "Goal14, threshold: 75, f1_score: 0.073, accuracy: 0.879\n",
            "Goal15, threshold: 50, f1_score: 0.089, accuracy: 0.905\n",
            "Goal16, threshold: 75, f1_score: 0.079, accuracy: 0.877\n",
            "Goal17, threshold: 295, f1_score: 0.104, accuracy: 0.57\n"
          ]
        },
        {
          "output_type": "stream",
          "name": "stderr",
          "text": [
            "/usr/local/lib/python3.7/dist-packages/ipykernel_launcher.py:24: VisibleDeprecationWarning: Creating an ndarray from ragged nested sequences (which is a list-or-tuple of lists-or-tuples-or ndarrays with different lengths or shapes) is deprecated. If you meant to do this, you must specify 'dtype=object' when creating the ndarray.\n"
          ]
        },
        {
          "output_type": "stream",
          "name": "stdout",
          "text": [
            "Total Best f1_score:0.113, accuracy:0.811\n"
          ]
        },
        {
          "output_type": "stream",
          "name": "stderr",
          "text": [
            "/usr/local/lib/python3.7/dist-packages/ipykernel_launcher.py:9: VisibleDeprecationWarning: Creating an ndarray from ragged nested sequences (which is a list-or-tuple of lists-or-tuples-or ndarrays with different lengths or shapes) is deprecated. If you meant to do this, you must specify 'dtype=object' when creating the ndarray.\n",
            "  if __name__ == '__main__':\n",
            "/usr/local/lib/python3.7/dist-packages/ipykernel_launcher.py:18: VisibleDeprecationWarning: Creating an ndarray from ragged nested sequences (which is a list-or-tuple of lists-or-tuples-or ndarrays with different lengths or shapes) is deprecated. If you meant to do this, you must specify 'dtype=object' when creating the ndarray.\n"
          ]
        },
        {
          "output_type": "stream",
          "name": "stdout",
          "text": [
            "Goal1, threshold: 50, f1_score: 0.031, accuracy: 0.918\n",
            "Goal2, threshold: 10, f1_score: 0.039, accuracy: 0.977\n",
            "Goal3, threshold: 120, f1_score: 0.154, accuracy: 0.802\n",
            "Goal4, threshold: 115, f1_score: 0.088, accuracy: 0.827\n",
            "Goal5, threshold: 30, f1_score: 0.135, accuracy: 0.929\n",
            "Goal6, threshold: 10, f1_score: 0.062, accuracy: 0.977\n",
            "Goal7, threshold: 80, f1_score: 0.141, accuracy: 0.86\n",
            "Goal8, threshold: 185, f1_score: 0.156, accuracy: 0.716\n",
            "Goal9, threshold: 295, f1_score: 0.127, accuracy: 0.578\n",
            "Goal10, threshold: 110, f1_score: 0.057, accuracy: 0.829\n",
            "Goal11, threshold: 160, f1_score: 0.093, accuracy: 0.758\n",
            "Goal12, threshold: 185, f1_score: 0.153, accuracy: 0.723\n",
            "Goal13, threshold: 200, f1_score: 0.117, accuracy: 0.701\n",
            "Goal14, threshold: 75, f1_score: 0.073, accuracy: 0.879\n",
            "Goal15, threshold: 50, f1_score: 0.089, accuracy: 0.905\n",
            "Goal16, threshold: 75, f1_score: 0.079, accuracy: 0.877\n",
            "Goal17, threshold: 295, f1_score: 0.104, accuracy: 0.57\n"
          ]
        },
        {
          "output_type": "stream",
          "name": "stderr",
          "text": [
            "/usr/local/lib/python3.7/dist-packages/ipykernel_launcher.py:24: VisibleDeprecationWarning: Creating an ndarray from ragged nested sequences (which is a list-or-tuple of lists-or-tuples-or ndarrays with different lengths or shapes) is deprecated. If you meant to do this, you must specify 'dtype=object' when creating the ndarray.\n"
          ]
        },
        {
          "output_type": "stream",
          "name": "stdout",
          "text": [
            "Total Best f1_score:0.114, accuracy:0.813\n"
          ]
        },
        {
          "output_type": "stream",
          "name": "stderr",
          "text": [
            "/usr/local/lib/python3.7/dist-packages/ipykernel_launcher.py:9: VisibleDeprecationWarning: Creating an ndarray from ragged nested sequences (which is a list-or-tuple of lists-or-tuples-or ndarrays with different lengths or shapes) is deprecated. If you meant to do this, you must specify 'dtype=object' when creating the ndarray.\n",
            "  if __name__ == '__main__':\n",
            "/usr/local/lib/python3.7/dist-packages/ipykernel_launcher.py:18: VisibleDeprecationWarning: Creating an ndarray from ragged nested sequences (which is a list-or-tuple of lists-or-tuples-or ndarrays with different lengths or shapes) is deprecated. If you meant to do this, you must specify 'dtype=object' when creating the ndarray.\n"
          ]
        },
        {
          "output_type": "stream",
          "name": "stdout",
          "text": [
            "Goal1, threshold: 50, f1_score: 0.031, accuracy: 0.918\n",
            "Goal2, threshold: 40, f1_score: 0.039, accuracy: 0.935\n",
            "Goal3, threshold: 120, f1_score: 0.154, accuracy: 0.802\n",
            "Goal4, threshold: 115, f1_score: 0.088, accuracy: 0.827\n",
            "Goal5, threshold: 30, f1_score: 0.135, accuracy: 0.929\n",
            "Goal6, threshold: 10, f1_score: 0.062, accuracy: 0.977\n",
            "Goal7, threshold: 80, f1_score: 0.141, accuracy: 0.86\n",
            "Goal8, threshold: 185, f1_score: 0.156, accuracy: 0.716\n",
            "Goal9, threshold: 295, f1_score: 0.127, accuracy: 0.578\n",
            "Goal10, threshold: 110, f1_score: 0.057, accuracy: 0.829\n",
            "Goal11, threshold: 160, f1_score: 0.093, accuracy: 0.758\n",
            "Goal12, threshold: 185, f1_score: 0.153, accuracy: 0.723\n",
            "Goal13, threshold: 200, f1_score: 0.117, accuracy: 0.701\n",
            "Goal14, threshold: 75, f1_score: 0.073, accuracy: 0.879\n",
            "Goal15, threshold: 50, f1_score: 0.089, accuracy: 0.905\n",
            "Goal16, threshold: 75, f1_score: 0.079, accuracy: 0.877\n",
            "Goal17, threshold: 295, f1_score: 0.104, accuracy: 0.57\n"
          ]
        },
        {
          "output_type": "stream",
          "name": "stderr",
          "text": [
            "/usr/local/lib/python3.7/dist-packages/ipykernel_launcher.py:24: VisibleDeprecationWarning: Creating an ndarray from ragged nested sequences (which is a list-or-tuple of lists-or-tuples-or ndarrays with different lengths or shapes) is deprecated. If you meant to do this, you must specify 'dtype=object' when creating the ndarray.\n"
          ]
        },
        {
          "output_type": "stream",
          "name": "stdout",
          "text": [
            "Total Best f1_score:0.113, accuracy:0.811\n"
          ]
        },
        {
          "output_type": "stream",
          "name": "stderr",
          "text": [
            "/usr/local/lib/python3.7/dist-packages/ipykernel_launcher.py:9: VisibleDeprecationWarning: Creating an ndarray from ragged nested sequences (which is a list-or-tuple of lists-or-tuples-or ndarrays with different lengths or shapes) is deprecated. If you meant to do this, you must specify 'dtype=object' when creating the ndarray.\n",
            "  if __name__ == '__main__':\n",
            "/usr/local/lib/python3.7/dist-packages/ipykernel_launcher.py:18: VisibleDeprecationWarning: Creating an ndarray from ragged nested sequences (which is a list-or-tuple of lists-or-tuples-or ndarrays with different lengths or shapes) is deprecated. If you meant to do this, you must specify 'dtype=object' when creating the ndarray.\n"
          ]
        },
        {
          "output_type": "stream",
          "name": "stdout",
          "text": [
            "Goal1, threshold: 50, f1_score: 0.031, accuracy: 0.918\n",
            "Goal2, threshold: 10, f1_score: 0.039, accuracy: 0.977\n",
            "Goal3, threshold: 120, f1_score: 0.154, accuracy: 0.802\n",
            "Goal4, threshold: 115, f1_score: 0.088, accuracy: 0.827\n",
            "Goal5, threshold: 30, f1_score: 0.135, accuracy: 0.929\n",
            "Goal6, threshold: 10, f1_score: 0.062, accuracy: 0.977\n",
            "Goal7, threshold: 80, f1_score: 0.141, accuracy: 0.86\n",
            "Goal8, threshold: 185, f1_score: 0.156, accuracy: 0.716\n",
            "Goal9, threshold: 295, f1_score: 0.127, accuracy: 0.578\n",
            "Goal10, threshold: 110, f1_score: 0.057, accuracy: 0.829\n",
            "Goal11, threshold: 160, f1_score: 0.093, accuracy: 0.758\n",
            "Goal12, threshold: 185, f1_score: 0.153, accuracy: 0.723\n",
            "Goal13, threshold: 200, f1_score: 0.117, accuracy: 0.701\n",
            "Goal14, threshold: 75, f1_score: 0.073, accuracy: 0.879\n",
            "Goal15, threshold: 50, f1_score: 0.089, accuracy: 0.905\n",
            "Goal16, threshold: 75, f1_score: 0.079, accuracy: 0.877\n",
            "Goal17, threshold: 295, f1_score: 0.104, accuracy: 0.57\n"
          ]
        },
        {
          "output_type": "stream",
          "name": "stderr",
          "text": [
            "/usr/local/lib/python3.7/dist-packages/ipykernel_launcher.py:24: VisibleDeprecationWarning: Creating an ndarray from ragged nested sequences (which is a list-or-tuple of lists-or-tuples-or ndarrays with different lengths or shapes) is deprecated. If you meant to do this, you must specify 'dtype=object' when creating the ndarray.\n"
          ]
        },
        {
          "output_type": "stream",
          "name": "stdout",
          "text": [
            "Total Best f1_score:0.114, accuracy:0.813\n"
          ]
        },
        {
          "output_type": "stream",
          "name": "stderr",
          "text": [
            "/usr/local/lib/python3.7/dist-packages/ipykernel_launcher.py:9: VisibleDeprecationWarning: Creating an ndarray from ragged nested sequences (which is a list-or-tuple of lists-or-tuples-or ndarrays with different lengths or shapes) is deprecated. If you meant to do this, you must specify 'dtype=object' when creating the ndarray.\n",
            "  if __name__ == '__main__':\n",
            "/usr/local/lib/python3.7/dist-packages/ipykernel_launcher.py:18: VisibleDeprecationWarning: Creating an ndarray from ragged nested sequences (which is a list-or-tuple of lists-or-tuples-or ndarrays with different lengths or shapes) is deprecated. If you meant to do this, you must specify 'dtype=object' when creating the ndarray.\n"
          ]
        },
        {
          "output_type": "stream",
          "name": "stdout",
          "text": [
            "Goal1, threshold: 50, f1_score: 0.031, accuracy: 0.918\n",
            "Goal2, threshold: 10, f1_score: 0.039, accuracy: 0.977\n",
            "Goal3, threshold: 120, f1_score: 0.154, accuracy: 0.802\n",
            "Goal4, threshold: 115, f1_score: 0.088, accuracy: 0.827\n",
            "Goal5, threshold: 30, f1_score: 0.135, accuracy: 0.929\n",
            "Goal6, threshold: 20, f1_score: 0.059, accuracy: 0.963\n",
            "Goal7, threshold: 80, f1_score: 0.141, accuracy: 0.86\n",
            "Goal8, threshold: 185, f1_score: 0.156, accuracy: 0.716\n",
            "Goal9, threshold: 295, f1_score: 0.127, accuracy: 0.578\n",
            "Goal10, threshold: 110, f1_score: 0.057, accuracy: 0.829\n",
            "Goal11, threshold: 160, f1_score: 0.093, accuracy: 0.758\n",
            "Goal12, threshold: 185, f1_score: 0.153, accuracy: 0.723\n",
            "Goal13, threshold: 200, f1_score: 0.117, accuracy: 0.701\n",
            "Goal14, threshold: 75, f1_score: 0.073, accuracy: 0.879\n",
            "Goal15, threshold: 50, f1_score: 0.089, accuracy: 0.905\n",
            "Goal16, threshold: 75, f1_score: 0.079, accuracy: 0.877\n",
            "Goal17, threshold: 295, f1_score: 0.104, accuracy: 0.57\n"
          ]
        },
        {
          "output_type": "stream",
          "name": "stderr",
          "text": [
            "/usr/local/lib/python3.7/dist-packages/ipykernel_launcher.py:24: VisibleDeprecationWarning: Creating an ndarray from ragged nested sequences (which is a list-or-tuple of lists-or-tuples-or ndarrays with different lengths or shapes) is deprecated. If you meant to do this, you must specify 'dtype=object' when creating the ndarray.\n"
          ]
        },
        {
          "output_type": "stream",
          "name": "stdout",
          "text": [
            "Total Best f1_score:0.114, accuracy:0.812\n"
          ]
        },
        {
          "output_type": "stream",
          "name": "stderr",
          "text": [
            "/usr/local/lib/python3.7/dist-packages/ipykernel_launcher.py:9: VisibleDeprecationWarning: Creating an ndarray from ragged nested sequences (which is a list-or-tuple of lists-or-tuples-or ndarrays with different lengths or shapes) is deprecated. If you meant to do this, you must specify 'dtype=object' when creating the ndarray.\n",
            "  if __name__ == '__main__':\n",
            "/usr/local/lib/python3.7/dist-packages/ipykernel_launcher.py:18: VisibleDeprecationWarning: Creating an ndarray from ragged nested sequences (which is a list-or-tuple of lists-or-tuples-or ndarrays with different lengths or shapes) is deprecated. If you meant to do this, you must specify 'dtype=object' when creating the ndarray.\n"
          ]
        },
        {
          "output_type": "stream",
          "name": "stdout",
          "text": [
            "Goal1, threshold: 50, f1_score: 0.031, accuracy: 0.918\n",
            "Goal2, threshold: 10, f1_score: 0.039, accuracy: 0.977\n",
            "Goal3, threshold: 120, f1_score: 0.154, accuracy: 0.802\n",
            "Goal4, threshold: 115, f1_score: 0.088, accuracy: 0.827\n",
            "Goal5, threshold: 30, f1_score: 0.135, accuracy: 0.929\n",
            "Goal6, threshold: 20, f1_score: 0.059, accuracy: 0.963\n",
            "Goal7, threshold: 80, f1_score: 0.141, accuracy: 0.86\n",
            "Goal8, threshold: 185, f1_score: 0.156, accuracy: 0.716\n",
            "Goal9, threshold: 295, f1_score: 0.127, accuracy: 0.578\n",
            "Goal10, threshold: 110, f1_score: 0.057, accuracy: 0.829\n",
            "Goal11, threshold: 160, f1_score: 0.093, accuracy: 0.758\n",
            "Goal12, threshold: 185, f1_score: 0.153, accuracy: 0.723\n",
            "Goal13, threshold: 200, f1_score: 0.117, accuracy: 0.701\n",
            "Goal14, threshold: 75, f1_score: 0.073, accuracy: 0.879\n",
            "Goal15, threshold: 50, f1_score: 0.089, accuracy: 0.905\n",
            "Goal16, threshold: 75, f1_score: 0.079, accuracy: 0.877\n",
            "Goal17, threshold: 295, f1_score: 0.104, accuracy: 0.57\n"
          ]
        },
        {
          "output_type": "stream",
          "name": "stderr",
          "text": [
            "/usr/local/lib/python3.7/dist-packages/ipykernel_launcher.py:24: VisibleDeprecationWarning: Creating an ndarray from ragged nested sequences (which is a list-or-tuple of lists-or-tuples-or ndarrays with different lengths or shapes) is deprecated. If you meant to do this, you must specify 'dtype=object' when creating the ndarray.\n"
          ]
        },
        {
          "output_type": "stream",
          "name": "stdout",
          "text": [
            "Total Best f1_score:0.114, accuracy:0.812\n"
          ]
        },
        {
          "output_type": "stream",
          "name": "stderr",
          "text": [
            "/usr/local/lib/python3.7/dist-packages/ipykernel_launcher.py:9: VisibleDeprecationWarning: Creating an ndarray from ragged nested sequences (which is a list-or-tuple of lists-or-tuples-or ndarrays with different lengths or shapes) is deprecated. If you meant to do this, you must specify 'dtype=object' when creating the ndarray.\n",
            "  if __name__ == '__main__':\n",
            "/usr/local/lib/python3.7/dist-packages/ipykernel_launcher.py:18: VisibleDeprecationWarning: Creating an ndarray from ragged nested sequences (which is a list-or-tuple of lists-or-tuples-or ndarrays with different lengths or shapes) is deprecated. If you meant to do this, you must specify 'dtype=object' when creating the ndarray.\n"
          ]
        },
        {
          "output_type": "stream",
          "name": "stdout",
          "text": [
            "Goal1, threshold: 245, f1_score: 0.039, accuracy: 0.649\n",
            "Goal2, threshold: 90, f1_score: 0.046, accuracy: 0.867\n",
            "Goal3, threshold: 245, f1_score: 0.126, accuracy: 0.638\n",
            "Goal4, threshold: 135, f1_score: 0.065, accuracy: 0.796\n",
            "Goal5, threshold: 230, f1_score: 0.074, accuracy: 0.657\n",
            "Goal6, threshold: 60, f1_score: 0.028, accuracy: 0.906\n",
            "Goal7, threshold: 250, f1_score: 0.101, accuracy: 0.633\n",
            "Goal8, threshold: 260, f1_score: 0.125, accuracy: 0.611\n",
            "Goal9, threshold: 245, f1_score: 0.122, accuracy: 0.639\n",
            "Goal10, threshold: 300, f1_score: 0.042, accuracy: 0.564\n",
            "Goal11, threshold: 245, f1_score: 0.1, accuracy: 0.649\n",
            "Goal12, threshold: 270, f1_score: 0.119, accuracy: 0.604\n",
            "Goal13, threshold: 245, f1_score: 0.104, accuracy: 0.638\n",
            "Goal14, threshold: 165, f1_score: 0.061, accuracy: 0.755\n",
            "Goal15, threshold: 105, f1_score: 0.075, accuracy: 0.83\n",
            "Goal16, threshold: 195, f1_score: 0.046, accuracy: 0.708\n",
            "Goal17, threshold: 300, f1_score: 0.078, accuracy: 0.552\n"
          ]
        },
        {
          "output_type": "stream",
          "name": "stderr",
          "text": [
            "/usr/local/lib/python3.7/dist-packages/ipykernel_launcher.py:24: VisibleDeprecationWarning: Creating an ndarray from ragged nested sequences (which is a list-or-tuple of lists-or-tuples-or ndarrays with different lengths or shapes) is deprecated. If you meant to do this, you must specify 'dtype=object' when creating the ndarray.\n"
          ]
        },
        {
          "output_type": "stream",
          "name": "stdout",
          "text": [
            "Total Best f1_score:0.086, accuracy:0.688\n"
          ]
        }
      ]
    },
    {
      "cell_type": "code",
      "source": [
        "################ Test ################"
      ],
      "metadata": {
        "id": "Njwunz99F4nw"
      },
      "execution_count": null,
      "outputs": []
    },
    {
      "cell_type": "code",
      "source": [
        "# Showing F1 Score and Accuracy in all an by qry\n",
        "import numpy as np\n",
        "from sklearn.metrics import f1_score, accuracy_score\n",
        "\n",
        "def show_statistics_test(all_predited_list, all_tgt_list):\n",
        "  by_qry_tgt_list = []\n",
        "  by_qry_pred_list = []\n",
        "  for i in range(17):\n",
        "    by_qry_tgt = []\n",
        "    for data in all_tgt_list:\n",
        "      by_qry_tgt += data[i]\n",
        "    by_qry_pred = []\n",
        "    for data in all_predited_list:\n",
        "      by_qry_pred += data[i]\n",
        "    f1 = f1_score(by_qry_pred, by_qry_tgt)\n",
        "    acc = accuracy_score(by_qry_pred, by_qry_tgt)\n",
        "    print(f'Goal{i+1}, f1_score: {round(f1, 3)}, accuracy: {round(acc, 3)}')\n",
        "\n",
        "    by_qry_tgt_list.append(by_qry_tgt)\n",
        "    by_qry_pred_list.append(by_qry_pred)\n",
        "  \n",
        "  tgt_list_all = []\n",
        "  pred_list_all = []\n",
        "  for by_qry_tgt in by_qry_tgt_list:\n",
        "    tgt_list_all += by_qry_tgt\n",
        "  for by_qry_pred in by_qry_pred_list:\n",
        "    pred_list_all += by_qry_pred\n",
        "  \n",
        "  f1_all = f1_score(pred_list_all, tgt_list_all)\n",
        "  acc_all = accuracy_score(pred_list_all, tgt_list_all)\n",
        "  print(f'Total, f1_score: {round(f1_all, 3)}, accuracy: {round(acc_all, 3)}')"
      ],
      "metadata": {
        "id": "MhMTiVjrMQsX"
      },
      "execution_count": null,
      "outputs": []
    },
    {
      "cell_type": "code",
      "source": [
        "import torch\n",
        "from glob import glob\n",
        "import numpy as np\n",
        "\n",
        "def test_execute(sent_length_list, lambda_):\n",
        "  dataset = torch.load(glob(work_dir + '/dataset.pt')[0])\n",
        "  print(lambda_)\n",
        "  all_sumset = mmr(query_src_cs_list_test, src_src_cs_list_test, lambda_=lambda_)\n",
        "  all_sumset_t = np.array(all_sumset).T \n",
        "  \n",
        "  src_pred_list = []\n",
        "  for i in range(17):\n",
        "    src_pred = predict_goals(all_sumset_t[i], num_sent=sent_length_list[i])\n",
        "    src_pred_list.append(src_pred)\n",
        "  src_pred_list_t = np.array(src_pred_list).T.tolist()\n",
        "  show_statistics_test(src_pred_list_t, dataset['tgt_list_test'])"
      ],
      "metadata": {
        "id": "6r0fKbC5ODts"
      },
      "execution_count": null,
      "outputs": []
    },
    {
      "cell_type": "code",
      "source": [
        "# Showing Test Results\n",
        "sent_length_list = [50, 20, 120, 115, 30, 10, 80, 185, 295, 110, 160, 185, 200, 20, 50, 75, 295]\n",
        "all_sumset_t = test_execute(sent_length_list, 0.9)"
      ],
      "metadata": {
        "colab": {
          "base_uri": "https://localhost:8080/"
        },
        "id": "uFSHFINoQDwW",
        "outputId": "29099bed-6bfe-4ed9-f2f9-bb03b67ba92f"
      },
      "execution_count": null,
      "outputs": [
        {
          "output_type": "stream",
          "name": "stdout",
          "text": [
            "0.9\n"
          ]
        },
        {
          "output_type": "stream",
          "name": "stderr",
          "text": [
            "/usr/local/lib/python3.7/dist-packages/ipykernel_launcher.py:10: VisibleDeprecationWarning: Creating an ndarray from ragged nested sequences (which is a list-or-tuple of lists-or-tuples-or ndarrays with different lengths or shapes) is deprecated. If you meant to do this, you must specify 'dtype=object' when creating the ndarray.\n",
            "  # Remove the CWD from sys.path while we load stuff.\n",
            "/usr/local/lib/python3.7/dist-packages/ipykernel_launcher.py:17: VisibleDeprecationWarning: Creating an ndarray from ragged nested sequences (which is a list-or-tuple of lists-or-tuples-or ndarrays with different lengths or shapes) is deprecated. If you meant to do this, you must specify 'dtype=object' when creating the ndarray.\n"
          ]
        },
        {
          "output_type": "stream",
          "name": "stdout",
          "text": [
            "Goal1, f1_score: 0.017, accuracy: 0.92\n",
            "Goal2, f1_score: 0.054, accuracy: 0.965\n",
            "Goal3, f1_score: 0.087, accuracy: 0.8\n",
            "Goal4, f1_score: 0.075, accuracy: 0.825\n",
            "Goal5, f1_score: 0.115, accuracy: 0.936\n",
            "Goal6, f1_score: 0.125, accuracy: 0.972\n",
            "Goal7, f1_score: 0.113, accuracy: 0.861\n",
            "Goal8, f1_score: 0.131, accuracy: 0.714\n",
            "Goal9, f1_score: 0.097, accuracy: 0.563\n",
            "Goal10, f1_score: 0.041, accuracy: 0.825\n",
            "Goal11, f1_score: 0.072, accuracy: 0.751\n",
            "Goal12, f1_score: 0.125, accuracy: 0.715\n",
            "Goal13, f1_score: 0.116, accuracy: 0.684\n",
            "Goal14, f1_score: 0.079, accuracy: 0.954\n",
            "Goal15, f1_score: 0.095, accuracy: 0.913\n",
            "Goal16, f1_score: 0.045, accuracy: 0.875\n",
            "Goal17, f1_score: 0.084, accuracy: 0.567\n",
            "Total, f1_score: 0.093, accuracy: 0.814\n"
          ]
        }
      ]
    },
    {
      "cell_type": "code",
      "source": [],
      "metadata": {
        "id": "s9XEzG3wWMLX"
      },
      "execution_count": null,
      "outputs": []
    },
    {
      "cell_type": "code",
      "source": [],
      "metadata": {
        "id": "dzsXAGZ7WMNa"
      },
      "execution_count": null,
      "outputs": []
    }
  ],
  "metadata": {
    "colab": {
      "collapsed_sections": [],
      "provenance": [],
      "mount_file_id": "1qTdW9RIs_Ku4G3xOWIBWs1SQUbgPCSlV",
      "authorship_tag": "ABX9TyPQ1Y7ApVx1sDkNx4X9LkwX",
      "include_colab_link": true
    },
    "kernelspec": {
      "display_name": "Python 3",
      "name": "python3"
    },
    "language_info": {
      "name": "python"
    }
  },
  "nbformat": 4,
  "nbformat_minor": 0
}