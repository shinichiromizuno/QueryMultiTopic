{
  "cells": [
    {
      "cell_type": "markdown",
      "metadata": {
        "id": "view-in-github",
        "colab_type": "text"
      },
      "source": [
        "<a href=\"https://colab.research.google.com/github/shinichiromizuno/QueryMultiTopic/blob/master/BERT_Base.ipynb\" target=\"_parent\"><img src=\"https://colab.research.google.com/assets/colab-badge.svg\" alt=\"Open In Colab\"/></a>"
      ]
    },
    {
      "cell_type": "code",
      "execution_count": null,
      "metadata": {
        "id": "oXT9Fnk8qPX6"
      },
      "outputs": [],
      "source": [
        "# Mount your Google Drive.\n",
        "# Connect to GPU in Google Colab."
      ]
    },
    {
      "cell_type": "code",
      "source": [
        "################ Preprocess ################"
      ],
      "metadata": {
        "id": "eXyQr9CW1jWQ"
      },
      "execution_count": null,
      "outputs": []
    },
    {
      "cell_type": "code",
      "execution_count": null,
      "metadata": {
        "id": "yC3Krf46qiUe"
      },
      "outputs": [],
      "source": [
        "# Configure working directories.\n",
        "work_dir =  '/content/drive/MyDrive/work_BERT_Base'"
      ]
    },
    {
      "cell_type": "code",
      "source": [
        "# Install required packages and configure module path.\n",
        "!pip install transformers\n",
        "!pip install pyrouge\n",
        "%env MODULE_PATH=/content/drive/MyDrive/QueryMultiTopic"
      ],
      "metadata": {
        "id": "SJ3e_pREyKQw"
      },
      "execution_count": null,
      "outputs": []
    },
    {
      "cell_type": "code",
      "execution_count": null,
      "metadata": {
        "id": "0fgOWJxtrCcO"
      },
      "outputs": [],
      "source": [
        "# Step1. Data Cleansing for ESG Dataset\n",
        "from glob import glob\n",
        "import os\n",
        "import shutil\n",
        "\n",
        "dir = work_dir + '/DatasetBeforeTokenization'\n",
        "if os.path.exists(dir):\n",
        "  shutil.rmtree(dir)\n",
        "os.mkdir(dir)\n",
        "\n",
        "dsdirs = '/content/drive/MyDrive/DatasetSDGs/'\n",
        "years = ['2021', '2020', '2019', '2018', '2017']\n",
        "\n",
        "for dsdir in sorted(glob(dsdirs + '/*')):\n",
        "  for year in years:\n",
        "    for filename in sorted(glob(dsdir + '/' + year + '/*')):\n",
        "      text = []\n",
        "      if filename[-4:] == '.txt':\n",
        "        with open(filename, mode='r') as f:\n",
        "          prev = ''\n",
        "          for line in f:\n",
        "            line = line.strip().replace('\\u2028', ' ').replace('\\u2029', ' ')\n",
        "            if line == '':\n",
        "              continue\n",
        "            if line[-1:] in ('-', ','):\n",
        "              prev += line + ' '\n",
        "              continue\n",
        "            if line[0].islower() and prev != '':\n",
        "              line = prev + line\n",
        "            if line[0].isupper() and line[-1:] == '.':\n",
        "              line = line.replace('- ', '')\n",
        "              text.append(line)\n",
        "            prev = ''\n",
        "        filename = filename.split('/')[-1].replace('doc.txt', 'doc-.txt')\n",
        "        with open(dir + '/' + dsdir.split('/')[-1] + '-' + year + '-' + filename.split('/')[-1], mode='w') as f:\n",
        "          text = ' '.join(text)\n",
        "          f.write(text)"
      ]
    },
    {
      "cell_type": "code",
      "execution_count": null,
      "metadata": {
        "id": "jkRrqY6awTAD"
      },
      "outputs": [],
      "source": [
        "# Step2. Sentence Split & Tokenization\n",
        "\n",
        "# Download Stanford CoreNLP\n",
        "!wget https://nlp.stanford.edu/software/stanford-corenlp-4.2.2.zip\n",
        "!unzip stanford-corenlp-4.2.2.zip\n",
        "!rm stanford-corenlp-4.2.2.zip\n",
        "%env PYTHONDONTWRITEBYTECODE=1\n",
        "\n",
        "# Configuration\n",
        "%env CLASSPATH=/content/stanford-corenlp-4.2.2/stanford-corenlp-4.2.2.jar\n",
        "%env RAW_PATH=$work_dir/DatasetBeforeTokenization"
      ]
    },
    {
      "cell_type": "code",
      "source": [
        "# Sentence Splitting and Tokenization\n",
        "import os\n",
        "import shutil\n",
        "dir = work_dir + '/DatasetAfterTokenization'\n",
        "if os.path.exists(dir):\n",
        "  shutil.rmtree(dir)\n",
        "os.mkdir(dir)\n",
        "\n",
        "%env TOKENIZED_PATH=$work_dir/DatasetAfterTokenization\n",
        "!mkdir logs\n",
        "!python $MODULE_PATH/src/preprocess.py -mode tokenize -raw_path $RAW_PATH -save_path $TOKENIZED_PATH -log_file /content/logs/preprocess.log"
      ],
      "metadata": {
        "id": "GECXVU6rFpyb"
      },
      "execution_count": null,
      "outputs": []
    },
    {
      "cell_type": "code",
      "execution_count": null,
      "metadata": {
        "id": "-V_ax0-ywnof"
      },
      "outputs": [],
      "source": [
        "# Step3. Creating Simple JSON Files\n",
        "import json\n",
        "import os\n",
        "import shutil\n",
        "from glob import glob\n",
        "\n",
        "dir = work_dir + '/json_data'\n",
        "if os.path.exists(dir):\n",
        "  shutil.rmtree(dir)\n",
        "os.mkdir(dir)\n",
        "\n",
        "key = ''\n",
        "dict = {}\n",
        "for data in sorted(glob(work_dir + '/DatasetAfterTokenization/*')):\n",
        "  json_open = open(data)\n",
        "  json_load = json.load(json_open)\n",
        "  s_list = [[w['word'] for w in s['tokens']] for s in json_load['sentences']]\n",
        "  num, cmp, year, dtype, labels = data.replace(work_dir + '/DatasetAfterTokenization/', '').split('-')\n",
        "  labels, _, _ = labels.split('.')\n",
        "  if key != (num + '.' + cmp + '.' + year):\n",
        "    if any(dict) == True:\n",
        "      with open(dir + '/' + key + '.json', mode='w') as f:\n",
        "        f.write(json.dumps(dict))\n",
        "      dict = {}\n",
        "    key = num + '.' + cmp + '.' + year\n",
        "  if dtype == 'doc':\n",
        "    dict['src'] = s_list\n",
        "  if dtype[:3] == 'sum':\n",
        "    for label in labels.split(','):\n",
        "      tgt = 'tgt' + label\n",
        "      if not dict.get(tgt):\n",
        "        dict[tgt] = []\n",
        "      dict[tgt] = dict[tgt] + [s_list]\n",
        "  else:\n",
        "    None\n",
        "\n",
        "if any(dict) == True:\n",
        "  with open(dir + '/' + key + '.json', mode='w') as f:\n",
        "    f.write(json.dumps(dict))"
      ]
    },
    {
      "cell_type": "code",
      "execution_count": null,
      "metadata": {
        "id": "rYVXFXRbww9Z"
      },
      "outputs": [],
      "source": [
        "# Excluding short sentences\n",
        "threshold = 8\n",
        "\n",
        "for data in sorted(glob(work_dir + '/json_data/*')):\n",
        "  json_open = open(data)\n",
        "  json_load = json.load(json_open)\n",
        "  json_load_trimmed = {}\n",
        "  json_load_trimmed['src'] = [s for s in json_load['src'] if len(s) > threshold]\n",
        "  keys = list(json_load.keys())\n",
        "  keys.remove('src')\n",
        "  \n",
        "  for i in range(1,17+1):\n",
        "    tgt_idx = 'tgt' + str(i)\n",
        "    if tgt_idx not in keys:\n",
        "      continue\n",
        "    tgts = json_load[tgt_idx]\n",
        "    tgts_trimmed = []\n",
        "    for tgt in tgts:\n",
        "      tgts_trimmed.append([s for s in tgt if len(s) > threshold])\n",
        "    json_load_trimmed[tgt_idx] = tgts_trimmed\n",
        "  with open(data, mode='w') as f:\n",
        "    f.write(json.dumps(json_load_trimmed))"
      ]
    },
    {
      "cell_type": "code",
      "source": [
        "# Splitting Train, Validation and Test Data\n",
        "import os\n",
        "import random\n",
        "\n",
        "def train_test_valid_list_gen(l_size, tr=0.7, te=0.15, v=0.15):\n",
        "  if round(tr+te+v, 10) != 1:\n",
        "    raise Exception('Total allocation is not equal to 1')\n",
        "  n_te = round(l_size * te)\n",
        "  n_v = round(l_size * v)\n",
        "  n_tr = l_size - (n_te + n_v)\n",
        "  ttvl = ['train'] * n_tr\n",
        "  ttvl += ['test'] * n_te\n",
        "  ttvl += ['valid'] * n_v\n",
        "  random.shuffle(ttvl)\n",
        "  return ttvl\n",
        "\n",
        "ttvl = train_test_valid_list_gen(len(glob(work_dir + '/json_data/*')))\n",
        "\n",
        "for data, filetype in zip(sorted(glob(work_dir + '/json_data/*')), ttvl):\n",
        "  os.rename(data, work_dir + '/json_data/' + filetype + '.' + data.split('/')[-1])"
      ],
      "metadata": {
        "id": "dmjYwHrBiI2q"
      },
      "execution_count": null,
      "outputs": []
    },
    {
      "cell_type": "code",
      "source": [
        "# Check Statistics\n",
        "from glob import glob\n",
        "import json\n",
        "\n",
        "for filetype in ['train', 'test', 'valid']:\n",
        "  cnt_dict = {'src':0}\n",
        "  for i in range(1,17+1):\n",
        "    cnt_dict['tgt' + str(i)] = 0\n",
        "  for data in sorted(glob(work_dir + '/json_data/' + filetype + '*')):\n",
        "    json_open = open(data)\n",
        "    json_load = json.load(json_open)\n",
        "    keys = list(json_load.keys())\n",
        "    cnt_dict['src'] += len(json_load['src'])\n",
        "    for i in range(1,17+1):\n",
        "      tgt_idx = 'tgt' + str(i)\n",
        "      if tgt_idx not in keys:\n",
        "        continue\n",
        "      for j in json_load[tgt_idx]:\n",
        "        cnt_dict[tgt_idx] += len(j)\n",
        "  filetype = 'all' if filetype == '' else filetype\n",
        "  print(f'{filetype}: {cnt_dict}')"
      ],
      "metadata": {
        "colab": {
          "base_uri": "https://localhost:8080/"
        },
        "id": "2hEt0TJ7mQOf",
        "outputId": "94a6f4e0-8968-4316-d538-62b97d9e52e1"
      },
      "execution_count": null,
      "outputs": [
        {
          "output_type": "stream",
          "name": "stdout",
          "text": [
            "train: {'src': 123081, 'tgt1': 1090, 'tgt2': 925, 'tgt3': 6620, 'tgt4': 2951, 'tgt5': 4673, 'tgt6': 2306, 'tgt7': 4907, 'tgt8': 7278, 'tgt9': 5417, 'tgt10': 3587, 'tgt11': 4516, 'tgt12': 7092, 'tgt13': 6169, 'tgt14': 1901, 'tgt15': 3175, 'tgt16': 2774, 'tgt17': 4377}\n",
            "test: {'src': 24920, 'tgt1': 201, 'tgt2': 187, 'tgt3': 1015, 'tgt4': 458, 'tgt5': 682, 'tgt6': 416, 'tgt7': 963, 'tgt8': 1339, 'tgt9': 1277, 'tgt10': 473, 'tgt11': 770, 'tgt12': 1311, 'tgt13': 1527, 'tgt14': 508, 'tgt15': 550, 'tgt16': 491, 'tgt17': 1008}\n",
            "valid: {'src': 25663, 'tgt1': 310, 'tgt2': 251, 'tgt3': 1554, 'tgt4': 612, 'tgt5': 995, 'tgt6': 272, 'tgt7': 1251, 'tgt8': 1797, 'tgt9': 1491, 'tgt10': 594, 'tgt11': 931, 'tgt12': 1550, 'tgt13': 1312, 'tgt14': 579, 'tgt15': 817, 'tgt16': 651, 'tgt17': 1407}\n"
          ]
        }
      ]
    },
    {
      "cell_type": "code",
      "execution_count": null,
      "metadata": {
        "id": "DgdMJvxBw2OR",
        "colab": {
          "base_uri": "https://localhost:8080/",
          "height": 113,
          "referenced_widgets": [
            "f09b65eb8fbc4e708573fc3952212a0c",
            "5a5f33dae0f443bd8d7f9100d9859fee",
            "9c8c9b6b653843feb49967946fa3617f",
            "1407d83b31a041cebb72e65359b4d4ce",
            "4d2175e1fb414649920dc3079e96c4ac",
            "2b7e88fd063342999cfb5a88803f9e61",
            "bb2dd47e48e74dcf98977f4b9a335fff",
            "9353a79b00e242b4b20e6b0deb4610ec",
            "60f1225156a241df9aa8f1962cc4d00b",
            "346f144ea8ef4f6391e10c66cf24b97f",
            "bdf779451eeb442fbb3fd76e96fd2208",
            "b31c35b5d11c44ffabb806c668c0a98d",
            "126e2205dd8a4496829990eafb396b8d",
            "4fec8e8ea7b04c7389069b21b0da46a1",
            "f4e69b12c87f4eb5abb26e4426a24637",
            "a01511457eab49078c0498dcfea0d637",
            "5f145858c9d44932913e21fd8f0a963c",
            "46e9eb36bf8c41ddba7bbbdf7460289d",
            "077f124847da4ab1bda56cc854ef5f06",
            "d07cf334c4304a2fb08b36ac77260535",
            "ce18b640ef0249d1bfa548859c1d9872",
            "b930d596cc1b434f8ca05242f7dd2ae0",
            "2eab8b9d07584321b5c7936697a70fe8",
            "44aea291e47344adb46b8711fa34a9f6",
            "2ad4d11428bf44bd91ab585a58dd22cc",
            "a69ae616144f4db588614e098f9dfe2a",
            "7eb86b72d3cc4c4aae956c3cb3188fb6",
            "21568fcc06ad41e881c0c6125bce1b74",
            "830e92262bad4ab3957021baff02f025",
            "9f0e361d8f93494fa6d2469701cccd4b",
            "58d6bdea93f34e5c8cecd4813970159d",
            "0b8d0b28e48b4af6a9210b78abf82fd0",
            "95c7953aba4e41dcb67f4193a060b2cc"
          ]
        },
        "outputId": "a99af5d3-5ebe-41e8-b66f-6928c6f864b8"
      },
      "outputs": [
        {
          "output_type": "display_data",
          "data": {
            "text/plain": [
              "Downloading:   0%|          | 0.00/226k [00:00<?, ?B/s]"
            ],
            "application/vnd.jupyter.widget-view+json": {
              "version_major": 2,
              "version_minor": 0,
              "model_id": "f09b65eb8fbc4e708573fc3952212a0c"
            }
          },
          "metadata": {}
        },
        {
          "output_type": "display_data",
          "data": {
            "text/plain": [
              "Downloading:   0%|          | 0.00/28.0 [00:00<?, ?B/s]"
            ],
            "application/vnd.jupyter.widget-view+json": {
              "version_major": 2,
              "version_minor": 0,
              "model_id": "b31c35b5d11c44ffabb806c668c0a98d"
            }
          },
          "metadata": {}
        },
        {
          "output_type": "display_data",
          "data": {
            "text/plain": [
              "Downloading:   0%|          | 0.00/570 [00:00<?, ?B/s]"
            ],
            "application/vnd.jupyter.widget-view+json": {
              "version_major": 2,
              "version_minor": 0,
              "model_id": "2eab8b9d07584321b5c7936697a70fe8"
            }
          },
          "metadata": {}
        }
      ],
      "source": [
        "# Step4. Creating Labeled JSON Files\n",
        "import json\n",
        "import torch\n",
        "from transformers import BertTokenizer\n",
        "import os\n",
        "import shutil\n",
        "from glob import glob\n",
        "\n",
        "dir = work_dir + '/json_data_labeled'\n",
        "if os.path.exists(dir):\n",
        "  shutil.rmtree(dir)\n",
        "os.mkdir(dir)\n",
        "\n",
        "# stride = float('inf')\n",
        "stride = 5\n",
        "\n",
        "qrys = ['End poverty in all its forms everywhere', 'End hunger, achieve food security and improved nutrition and promote sustainable agriculture', 'Ensure healthy lives and promote well-being for all at all ages', 'Ensure inclusive and equitable quality education and promote lifelong learning opportunities for all', 'Achieve gender equality and empower all women and girls', 'Ensure availability and sustainable management of water and sanitation for all', 'Ensure access to affordable, reliable, sustainable and modern energy for all', 'Promote sustained, inclusive and sustainable economic growth, full and productive employment and decent work for all', 'Build resilient infrastructure, promote inclusive and sustainable industrialization and foster innovation', 'Reduce inequality within and among countries', 'Make cities and human settlements inclusive, safe, resilient and sustainable', 'Ensure sustainable consumption and production patterns', 'Take urgent action to combat climate change and its impacts*', 'Conserve and sustainably use the oceans, seas and marine resources for sustainable development', 'Protect, restore and promote sustainable use of terrestrial ecosystems, sustainably manage forests, combat desertification, and halt and reverse land degradation and halt biodiversity loss', 'Promote peaceful and inclusive societies for sustainable development, provide access to justice for all and build effective, accountable and inclusive institutions at all levels', 'Strengthen the means of implementation and revitalize the global partnership for sustainable development']\n",
        "qry_subtokens_idxs_list = []\n",
        "qry_subtokens_list = []\n",
        "tokenizer = BertTokenizer.from_pretrained('bert-base-uncased', do_lower_case=False)\n",
        "tokenizer.add_tokens(['[L1]'])\n",
        "for qry in qrys:\n",
        "  qry_text =  '[L1] ' + qry\n",
        "  qry_subtokens = tokenizer.tokenize(qry_text)\n",
        "  qry_subtokens_list.append(qry_subtokens)\n",
        "  qry_subtoken_idxs = tokenizer.convert_tokens_to_ids(qry_subtokens)\n",
        "  qry_subtokens_idxs_list.append(qry_subtoken_idxs)\n",
        "\n",
        "tokenizer = BertTokenizer.from_pretrained('bert-base-uncased', do_lower_case=True)\n",
        "for data in sorted(glob(work_dir + '/json_data/*')):\n",
        "  json_open = open(data)\n",
        "  json_load = json.load(json_open)\n",
        "  keys = list(json_load.keys())\n",
        "  keys.remove('src')\n",
        "  src = json_load['src']\n",
        "  ds_dict = {}\n",
        "  \n",
        "  for i, qry_subtoken_idxs in enumerate(qry_subtokens_idxs_list):\n",
        "    ds_dict['qry_ids'+str(i+1)] = qry_subtoken_idxs\n",
        "  for i, qry in enumerate(qrys):\n",
        "    ds_dict['qry_txt'+str(i+1)] = qry\n",
        "\n",
        "  # Adding labels by category\n",
        "  for i in range(1,17+1):\n",
        "    labels = [0] * len(src)\n",
        "    tgt_idx = 'tgt' + str(i)\n",
        "    if tgt_idx not in keys:\n",
        "      ds_dict[tgt_idx] = labels\n",
        "      continue\n",
        "    tgts = json_load[tgt_idx]\n",
        "    for tgt in tgts:\n",
        "      lent = len(tgt)\n",
        "      tcon = []\n",
        "      for j in tgt[0:lent]:\n",
        "          tcon += j\n",
        "      tjoin = ' '.join(tcon)\n",
        "      last = len(src) - lent\n",
        "      for k in range(0, last+1):\n",
        "        scon = []\n",
        "        for m in src[k:k+lent]:\n",
        "          scon += m\n",
        "        sjoin = ' '.join(scon)\n",
        "        if sjoin == tjoin:\n",
        "          for l in range(k, k+lent):\n",
        "            labels[l] = 1\n",
        "    ds_dict[tgt_idx] = labels\n",
        "  \n",
        "  # Adding CLS and SEP, and tokenize to ids\n",
        "  src_subtoken_idxs_list = []\n",
        "  src_txt = []\n",
        "  for sent in src:\n",
        "    text = ' '.join(sent)\n",
        "    src_txt.append(text)\n",
        "    src_subtokens = tokenizer.tokenize('[CLS] ' + text + ' [SEP]')\n",
        "    src_subtoken_idxs = tokenizer.convert_tokens_to_ids(src_subtokens)\n",
        "    src_subtoken_idxs_list.append(src_subtoken_idxs)\n",
        "\n",
        "  # Adding starting positions(stpos) and number of sentences to be included(nstbi)\n",
        "  for i in range(1,17+1):\n",
        "    stpos, nstbi, ipos, scnt, nums, tflag = [], [], 0, 0, 0, False\n",
        "    max_scnt = 512 - len(qry_subtokens_idxs_list[i-1])\n",
        "    while ipos < len(src_subtoken_idxs_list) and tflag is False:\n",
        "      nums, scnt = 0, 0\n",
        "      if len(src_subtoken_idxs_list[ipos+nums]) > max_scnt:\n",
        "        src_subtoken_idxs_list[ipos+nums] = src_subtoken_idxs_list[ipos+nums][:max_scnt]\n",
        "      # Ending process if it exceeds 512 tokens or processes last token\n",
        "      while scnt <= max_scnt:\n",
        "        # Ending with Terminate flag if it processes last token\n",
        "        if ipos+nums > len(src_subtoken_idxs_list) - 1:\n",
        "          tflag = True\n",
        "          nums += 1\n",
        "          break\n",
        "        scnt += len(src_subtoken_idxs_list[ipos+nums])\n",
        "        nums += 1\n",
        "      nums -= 1\n",
        "      stpos.append(ipos)\n",
        "      nstbi.append(nums)\n",
        "      ipos += stride if nums > stride else nums\n",
        "    ds_dict['stpos'+str(i)] = stpos\n",
        "    ds_dict['nstbi'+str(i)] = nstbi\n",
        "\n",
        "  ds_dict['src_ids'] = src_subtoken_idxs_list\n",
        "  ds_dict['src_txt'] = src_txt\n",
        "  \n",
        "  filename = data.split('/')[-1]\n",
        "  with open(dir + '/Baseline.' + filename, mode='w') as f:\n",
        "    f.write(json.dumps(ds_dict))"
      ]
    },
    {
      "cell_type": "code",
      "source": [
        "# Check Statistics\n",
        "from glob import glob\n",
        "import json\n",
        "\n",
        "cnt_dict = {'src':0}\n",
        "for i in range(1,17+1):\n",
        "  cnt_dict['tgt' + str(i)] = 0\n",
        "\n",
        "for data in sorted(glob(work_dir + '/json_data_labeled/*')):\n",
        "  json_open = open(data)\n",
        "  json_load = json.load(json_open)\n",
        "  keys = list(json_load.keys())\n",
        "  cnt_dict['src'] += len(json_load['src_txt'])\n",
        "  for i in range(1,17+1):\n",
        "    tgt_idx = 'tgt' + str(i)\n",
        "    cnt_dict[tgt_idx] += sum(json_load[tgt_idx])\n",
        "print(cnt_dict)"
      ],
      "metadata": {
        "colab": {
          "base_uri": "https://localhost:8080/"
        },
        "id": "H7rwSRB4M5Sn",
        "outputId": "1cb9a706-0c31-473e-a9de-d6c64bfdc734"
      },
      "execution_count": null,
      "outputs": [
        {
          "output_type": "stream",
          "name": "stdout",
          "text": [
            "{'src': 173664, 'tgt1': 1493, 'tgt2': 1338, 'tgt3': 8891, 'tgt4': 3932, 'tgt5': 6201, 'tgt6': 2849, 'tgt7': 6938, 'tgt8': 10217, 'tgt9': 8102, 'tgt10': 4522, 'tgt11': 6078, 'tgt12': 9676, 'tgt13': 8761, 'tgt14': 2985, 'tgt15': 4482, 'tgt16': 3815, 'tgt17': 6630}\n"
          ]
        }
      ]
    },
    {
      "cell_type": "code",
      "execution_count": null,
      "metadata": {
        "id": "MpbUbaKa4-yW"
      },
      "outputs": [],
      "source": [
        "# Step5. Creating PT Files\n",
        "import json\n",
        "import itertools\n",
        "import os\n",
        "import shutil\n",
        "from glob import glob\n",
        "import torch\n",
        "from transformers import BertTokenizer\n",
        "\n",
        "tokenizer = BertTokenizer.from_pretrained('bert-base-uncased')\n",
        "\n",
        "dir = work_dir + '/pt_data'\n",
        "if os.path.exists(dir):\n",
        "  shutil.rmtree(dir)\n",
        "os.mkdir(dir)\n",
        "\n",
        "sep_vid = tokenizer.vocab['[SEP]']\n",
        "cls_vid = tokenizer.vocab['[CLS]']\n",
        "pad_vid = tokenizer.vocab['[PAD]']\n",
        "\n",
        "for data in sorted(glob(work_dir + '/json_data_labeled/*')):\n",
        "  json_open = open(data)\n",
        "  json_load = json.load(json_open)\n",
        "  src_ids = json_load['src_ids']\n",
        "  dataset = {'src': json_load['src_txt'], 'tgts': {}}\n",
        "  datasets = []\n",
        "  for idx in range(1, 18):\n",
        "    tgt = 'tgt' + str(idx)\n",
        "    dataset['tgts'][str(idx)] = json_load[tgt]\n",
        "    for stpos, nstbi in zip(json_load['stpos'+str(idx)], json_load['nstbi'+str(idx)]):\n",
        "      pt_dict = {}\n",
        "      pt_dict['qry'] = str(idx)\n",
        "      # Adding start position and end position\n",
        "      pt_dict['stpos'] = stpos\n",
        "      enpos = stpos + nstbi\n",
        "      pt_dict['enpos'] = enpos\n",
        "      # Adding source ids and source text\n",
        "      src_subtoken_idxs = list(itertools.chain.from_iterable(src_ids[stpos:enpos]))\n",
        "      qry_src_subtoken_idxs = json_load['qry_ids'+str(idx)] + src_subtoken_idxs\n",
        "      pt_dict['src_ids'] = qry_src_subtoken_idxs\n",
        "      # Adding Segment ID\n",
        "      segments_ids = len(json_load['qry_ids'+str(idx)]) * [0]\n",
        "      segments_ids += len(src_subtoken_idxs)* [1]\n",
        "      pt_dict['segs'] = segments_ids\n",
        "      # Adding CLS positions\n",
        "      cls_ids = [i for i, t in enumerate(qry_src_subtoken_idxs) if t == cls_vid]\n",
        "      pt_dict['clss'] = cls_ids\n",
        "      # Adding labels\n",
        "      pt_dict['tgt'] = json_load[tgt][stpos:enpos]\n",
        "      datasets.append(pt_dict)\n",
        "  dataset['ds'] = datasets\n",
        "  filename = '.'.join(data.split('/')[-1].split('.')[1:5])\n",
        "  torch.save(dataset, dir + '/' + filename + '.pt')"
      ]
    },
    {
      "cell_type": "code",
      "source": [
        "# Check Number of Dataset\n",
        "from glob import glob\n",
        "import torch\n",
        "ds_counts = []\n",
        "zero_sent_cnts = []\n",
        "z_cnt = 0\n",
        "o_cnt = 0\n",
        "for data_type in ['train', 'test', 'valid']:\n",
        "  ds_list = glob(work_dir + '/pt_data/' + data_type + '.*')\n",
        "  ds_count = 0\n",
        "  for ds in ds_list:\n",
        "    dataset = torch.load(ds)\n",
        "    ds_count += len(dataset['ds'])\n",
        "    for d in dataset['ds']:\n",
        "      z_cnt += len([j for j in d['tgt'] if j == 0])\n",
        "      o_cnt += len([j for j in d['tgt'] if j == 1])\n",
        "  ds_counts.append(ds_count)\n",
        "print(f'train: {ds_counts[0]}, test: {ds_counts[1]}, valid: {ds_counts[2]}, ds_total: {ds_counts[0] + ds_counts[1] + ds_counts[2]}, zero_sent_in_ds: {z_cnt}, one_sent_in_ds: {o_cnt}')"
      ],
      "metadata": {
        "colab": {
          "base_uri": "https://localhost:8080/"
        },
        "id": "0gkMN_MaCJJ9",
        "outputId": "f3dc542f-8612-4c23-c81a-f1b17b73e3be"
      },
      "execution_count": null,
      "outputs": [
        {
          "output_type": "stream",
          "name": "stdout",
          "text": [
            "train: 413167, test: 83580, valid: 86139, ds_total: 582886, zero_sent_in_ds: 8288904, one_sent_in_ds: 285986\n"
          ]
        }
      ]
    },
    {
      "cell_type": "code",
      "source": [
        "# Check Number of Dataset by Query\n",
        "from glob import glob\n",
        "import torch\n",
        "for i in range(1,17+1):\n",
        "  ds_counts = []\n",
        "  zero_sent_cnts = []\n",
        "  z_cnt = 0\n",
        "  o_cnt = 0\n",
        "  for data_type in ['train', 'test', 'valid']:\n",
        "    ds_list = glob(work_dir + '/pt_data/' + data_type + '.*')\n",
        "    ds_count = 0\n",
        "    for ds in ds_list:\n",
        "      dataset = torch.load(ds)\n",
        "      for d in dataset['ds']:\n",
        "        if d['qry'] == str(i):\n",
        "          z_cnt += len([j for j in d['tgt'] if j == 0])\n",
        "          o_cnt += len([j for j in d['tgt'] if j == 1])\n",
        "          ds_count += 1\n",
        "    ds_counts.append(ds_count)\n",
        "  print(f'qry: {i}, train: {ds_counts[0]}, test: {ds_counts[1]}, valid: {ds_counts[2]}, ds_total: {ds_counts[0] + ds_counts[1] + ds_counts[2]}, zero_sent_in_ds: {z_cnt}, one_sent_in_ds: {o_cnt}')\n",
        "  # break"
      ],
      "metadata": {
        "colab": {
          "base_uri": "https://localhost:8080/"
        },
        "id": "EcjZvwRyGMsC",
        "outputId": "cebdf0fb-0a90-4275-b2ee-2d30cdf2ea68"
      },
      "execution_count": null,
      "outputs": [
        {
          "output_type": "stream",
          "name": "stdout",
          "text": [
            "qry: 1, train: 24296, test: 4914, valid: 5065, ds_total: 34275, zero_sent_in_ds: 507023, one_sent_in_ds: 4389\n",
            "qry: 2, train: 24304, test: 4916, valid: 5067, ds_total: 34287, zero_sent_in_ds: 501610, one_sent_in_ds: 3765\n",
            "qry: 3, train: 24304, test: 4916, valid: 5067, ds_total: 34287, zero_sent_in_ds: 479025, one_sent_in_ds: 26350\n",
            "qry: 4, train: 24304, test: 4918, valid: 5067, ds_total: 34289, zero_sent_in_ds: 492703, one_sent_in_ds: 11640\n",
            "qry: 5, train: 24301, test: 4915, valid: 5066, ds_total: 34282, zero_sent_in_ds: 489762, one_sent_in_ds: 18614\n",
            "qry: 6, train: 24302, test: 4915, valid: 5067, ds_total: 34284, zero_sent_in_ds: 498716, one_sent_in_ds: 8667\n",
            "qry: 7, train: 24304, test: 4916, valid: 5067, ds_total: 34287, zero_sent_in_ds: 484713, one_sent_in_ds: 20662\n",
            "qry: 8, train: 24307, test: 4918, valid: 5067, ds_total: 34292, zero_sent_in_ds: 470572, one_sent_in_ds: 29765\n",
            "qry: 9, train: 24304, test: 4918, valid: 5067, ds_total: 34289, zero_sent_in_ds: 479634, one_sent_in_ds: 23697\n",
            "qry: 10, train: 24296, test: 4914, valid: 5065, ds_total: 34275, zero_sent_in_ds: 498590, one_sent_in_ds: 13868\n",
            "qry: 11, train: 24304, test: 4918, valid: 5067, ds_total: 34289, zero_sent_in_ds: 486512, one_sent_in_ds: 17831\n",
            "qry: 12, train: 24296, test: 4914, valid: 5065, ds_total: 34275, zero_sent_in_ds: 483298, one_sent_in_ds: 29160\n",
            "qry: 13, train: 24302, test: 4915, valid: 5067, ds_total: 34284, zero_sent_in_ds: 481516, one_sent_in_ds: 25867\n",
            "qry: 14, train: 24304, test: 4918, valid: 5067, ds_total: 34289, zero_sent_in_ds: 494528, one_sent_in_ds: 8803\n",
            "qry: 15, train: 24319, test: 4919, valid: 5071, ds_total: 34309, zero_sent_in_ds: 475116, one_sent_in_ds: 12978\n",
            "qry: 16, train: 24316, test: 4918, valid: 5070, ds_total: 34304, zero_sent_in_ds: 481579, one_sent_in_ds: 10606\n",
            "qry: 17, train: 24304, test: 4918, valid: 5067, ds_total: 34289, zero_sent_in_ds: 484007, one_sent_in_ds: 19324\n"
          ]
        }
      ]
    },
    {
      "cell_type": "code",
      "source": [
        "# Check Output\n",
        "from glob import glob\n",
        "import torch\n",
        "dataset = torch.load(glob(work_dir + '/pt_data/*.1.Ahresty.2020.pt')[0])\n",
        "print(dataset['src'])\n",
        "print(dataset['tgts'])\n",
        "print(len(dataset['ds']))\n",
        "for d in dataset['ds']:\n",
        "  print(d)\n",
        "  break"
      ],
      "metadata": {
        "colab": {
          "base_uri": "https://localhost:8080/"
        },
        "id": "cbbs78TTgrHd",
        "outputId": "44ee3006-5ead-4615-8906-806372dd6477"
      },
      "execution_count": null,
      "outputs": [
        {
          "output_type": "stream",
          "name": "stdout",
          "text": [
            "['We aim to create an affluent society by pursuing each of these areas and integrating them .', 'Our corporate name , Ahresty , comes from “ RST . ”', 'It was created by linking together the pronunciation of the first letters in Research , Service , and Technology .', 'Research means continuous research , investigation , and development of new technologies , new markets , and new sales techniques .', 'Service means providing warm , attentive service through personal interaction .', 'Technology means truly excellent technology that incorporates both physical and soft aspects and is highly beneficial for society .', 'These three areas of Research , Service , and Technology can not be considered independently .', 'Both technology and a spirit of service are necessary to accomplish the research involved in R&D .', 'To explain it in another way , research , service , and technology are intricately linked and each supports the others .', 'It is an organic relationship in which each component refines the others to produce an end product that is even better than the sum of its components .', 'We have therefore adopted this concept of integrated Research , Service , and Technology as our corporate philosophy and named the company Ahresty to encompass it in our corporate name .', 'We intend to use this corporate philosophy , wisely to fulfill our mission of being of service to society in many different ways , through our many products .', 'The Tag line “ Casting Our Eyes on the Future ” embodies our business attitude of always moving forward by taking the initiative in Research and Development , Service and Technology and by keeping all of our attention here at Ahresty focused on our customers , the global environment and the future of Ahresty itself , to realize the corporate philosophy represented in our name .', 'The word “ Casting ” in the tag line combines the meaning of “ to throw one ’s gaze ” with its other meaning of “ to shape molten metal in a mold ” which is our main line of business , die casting .', 'The RST Way ’s five criteria for action — conscientious , proactive , speedy , learning , and challenge — are the basis of each employee ’s way of thinking and action to realize the Corporate Philosophy .', 'We earnestly and sincerely make efforts for our customers and all stakeholders .', 'We strive to understand diverse opinions , thoughts and values , listening to them with open minds .', 'We are self - driven and enthusiastically strive for success .', 'Each of us takes the initiative so that our actions lead to significant improvements .', 'We act quickly , sensing changes in social needs and the global market .', 'We consistently strive to enhance and reform our work methods and our technologies .', 'We advance ourselves by having inquiring minds to achieve expectations .', 'We work unflinchingly on aggressive targets to achieve them .', 'We consistently challenge ourselves through theories and experiments without fear of failure , respecting originality and invention .', 'I sincerely offer my deepest condolences to those who have lost their lives due to the novel coronavirus ( COVID - 19 ) pandemic .', 'I also sincerely express my gratitude to healthcare workers , and pray for early recovery of patients hospitalized .', 'I earnestly hope that vaccines and treatments for COVID - 19 , which has had tremendous impacts on our lives and economies , will be developed and delivered as fast as possible .', 'In FY2019 , we suffered a decline in sales due to steep drops in auto sales for our major customers and the sluggish auto markets in India and China .', 'In terms of profits as well , the result was very disappointing , such as a reversal of deferred tax assets since a decrease in our future sales is projected .', 'Furthermore , as the coronavirus pandemic was spreading across the globe , starting with the plants in China in February 2020 , all die casting plants outside Japan suspended or reduced production volume sharply .', 'However , the plants in China have resumed production from mid-February , followed by the U.S plant from mid-May , the plant in Mexico from late May and the plant in India from early June , so all plants have now resumed production .', 'Unfortunately , partially because new car demand fell sharply , we have not yet reached full - scale operation and are now implementing flexible operation under the production structure that have been established to respond to the demand .', 'In Japan , administrative departments have considerably expanded the use of teleworking and off - peak commute since late March .', 'We will continue to adopt new ways of working based on lessons learned from our response to “ new lifestyle ” .', 'Although an unprecedented decline in auto sales in the first half of FY2020 has been projected , the demand is expected to recover slowly over a period from the fourth quarter to FY2021 .', 'There are also some positive factors , such as each nation ’s large economic stimulus package , and shifting from public transportation to private cars .', 'We will proceed with necessary transformation from perspectives of “ with corona ( coexistence with corona ) ” and “ post-corona ” both .', 'We strive to earn a high reputation on quality from our customers .', 'To this end , we are working to reinforce the assurance within one ’s own process and promote the sharing of excellent systems and work methods across the Group .', 'In FY2019 as well , we have attained some high evaluations from our customers both in and outside of Japan .', 'In terms of sales , in addition to conventional internal combustion engine ( ICE ) , we are actively working to acquire orders for components for electric vehicles , such as hybrid vehicles , plug - in hybrid vehicles and battery electric vehicles , which should contribute to our sales for FY2021 onwards .', 'We are also actively working on technology development and proposal to contribute to reducing the weight of automobiles .', 'To achieve sustainable growth as a company which society needs , the Ahresty Group believes that it is important for us to address social challenges through our business activities .', 'In the aluminum die casting business , the Ahresty Group strives to reduce our environmental burden in the production process , including reduction in CO2 emissions , water usage and waste generated , through introduction of melting furnaces with high efficiency , operational control for heat treating furnaces , and increase in productivity , in addition to use of secondary aluminum alloy , which is excellent in recyclability and energy efficiency , as primary material .', 'By using aluminum for automotive components , the weight will be nearly half of one made from iron , achieving a lightweight car with higher fuel efficiency .', 'Also , the Ahresty Group has established the management structure that allows transparent and fast decision making , aiming to increase our corporate value .', 'To enhance fairness , transparency and objectiveness of the process for nomination of director and determination of compensation and reinforce our corporate governance , in January 2019 , we established the Nomination and Compensation Committee that consists of more than half of committee members from outside the Group , as an optional advisory body of the Board of Directors .', 'Furthermore , the Ahresty Group has adopted a stock compensation plan for Executive Officers and above to share the value with shareholders and investors and increase the linkage with the business performance .', 'The world economy situation is extremely uncertain due to the coronavirus pandemic , and our business climate is very severe .', 'However , we would like to turn this crisis into an opportunity for transformation and will strive to strengthen our business foundation while refining the basis of monozukuri ( manufacturing ) .', 'Since the company was founded in 1938 , Ahresty has mainly focused its business on manufacturing aluminum die cast products for use in automobiles .', 'Our streamlined production process improves productivity and maintains quality along the entire process , from aluminum alloy ingot production to design and manufacture of molds , casting , and machine processing .', 'We also manufacture and sell MOVAFLOR , a proprietary raised floor system , and peripheral equipment for die cast production .', 'We have also standardized our systems for quality , production , and maintenance at all locations and provide consistent production quality worldwide .', 'The same production quality achieved in Japan and five overseas countries Ahresty has operations at eight sites in five countries , namely , the United States , Mexico , China , India and Thailand , in addition to 13 sites in Japan .', 'We have systems in each country to ensure that we offer products of the same quality from a single drawing in response to the needs of the automobile industry , where commonization of parts and globalization of production have been accelerating .', 'This not only helps our customers reduce man - hours for development but also enables complementary production between plants across borders , including Japan , and the capability to flexibly respond to changes in production due to fluctuations in sales volumes .', 'Demand for aluminum die - cast products is expected to expand globally , in response to the trends to reduce the weight of automobiles and tighter fuel economy regulations .', 'Ahresty owns over 100 large casting machines in Japan and overseas .', 'For production of large , complex items , we cooperate with our customers from the development stage to reduce the weight of vehicles .', 'In addition to conventional engine blocks and transmissions , we are also engaged in developing body parts and parts for electric vehicles for the future automobile market .', 'Anticipating advances in die - casting and future customer needs , we invest in research and development of new production methods and products .', 'The unique production methods Ahresty has developed include the HiGF method , which achieves a higher vacuum within a cavity than conventional low - pressure die - casting methods , and can therefore be used to produce higher quality , large thin - walled products , and the NI method , which enables production of mechanically superior products and contributes to reducing the weight of suspension - related parts , associated with improved fuel efficiency and operational safety .', 'Development of human resources that underpin our MONOZUKURI Global human resources development is essential for globally integrated MONOZUKURI , or manufacturing .', 'Ahresty has established a system that allows employees at all sites to receive systematic educational and training programs of the same quality , including Global RST Learning , designed to pass on the skills accumulated since its founding , Global Kaizen Meeting , for which engineers from all bases gather together , and training programs for plant supervisors and executive candidates .', 'Ahresty focuses its efforts specifically on human resources development to ensure improvements to its technology and quality .', 'Shimura Aluminum Co. , Ltd. , Ahresty ’s predecessor , was founded with a capital of 400,000 yen as a small factory in Itabashi , Tokyo , with three employees .', '“ Do not tell a lie for the convenience of business ” and “ Always propose what is best for the benefit of customers ” are the words of the late Aiji Takahashi , our founder .', 'This conscientious stance resulted in gaining the trust of the public , serving as the driving force for the subsequent development of the company .', 'Shimura Aluminum Co. , Ltd. , Ahresty ’s predecessor , founded in Itabashi , Tokyo Started manufacturing aluminum alloy ingots , die cast products and aluminum sand mold castings .', 'Fuso Light Alloys Co. , Ltd. ( now Ahresty Corporation ) established .', 'Awarded in NADCA International Die - Casting Awards .', 'Stock listed on the Second Section of the Tokyo Stock Exchange .', 'Launched MOVAFLOR , first raised floor system in Japan .', 'ICEPET developed by Fuso Light Alloys won the Champion Award at the International Home Show .', 'Mass production of aluminum diecast monocoque frame for scooters started for the first time in the world .', 'Company name changed from Fuso Light Alloys Co. , Ltd. to Ahresty Corporation .', 'Awarded Deming Prize for the year 1989 ( Small and Mid-range Industries ) .', 'Mass production of alternator brackets for automobiles by the NI ( New Injection ) method ( Ahresty ’s proprietary casting method ) started .', 'Received the Minister of Economy , Trade and Industry Award in the 20th Materials Process Technology Commendation .', 'Started RST Gakuen ( academy ) aimed at early development of engineers .', 'Listing of the shares changed from the Second Section to the First Section of the Tokyo Stock Exchange .', 'Pursue MONOZUKURI , provide products and services that are excellent in QCDD ; Quality , Cost , Delivery , and Development , and contribute to customers ’ business development .', 'Always think customers first and respond to expectations and trust .', 'Over 90 % of Ahresty ’s aluminum die - cast products are installed in automobiles .', 'As the automobile industry is undergoing a once - in - a-century transformation , affected also by significant market fluctuations due to the COVID - 19 pandemic , the environment surrounding Ahresty is dramatically changing .', 'Escalation of the electrification of vehicles such as HVs , PHVs , and EVs in response to the growing public awareness of global warming , is associated with changes in powertrains , which is likely to be a major risk for Ahresty , and we should be prepared for this risk .', 'We aim to create an affluent society by pursuing each of these areas and integrating them .', 'In such a business environment , we will identify and utilize our competitive advantages and management resources and work to solve social issues through our business activities , thereby not only reducing the risks facing us but also creating earnings opportunities .', 'Aluminum is one - third of the weight of iron .', 'By further developing Ahresty ’s aluminum die casting technology , and thereby contributing to reducing the weight of vehicles to satisfy the needs of car manufacturers , we believe that Ahresty will be able to achieve sustainable growth along with society .', 'In addition to conventional product groups , we focus efforts on the development and sales of structural materials that satisfy customer needs in response to the trends to reduce the weight of vehicles and tighter fuel economy regulations .', 'We also aim to achieve a higher level of quality and productivity by enhancing our technological capabilities in each process , thereby gaining increased trust from customers .', 'Improving MONOZUKURI capabilities based on the technology roadmap In view of the changes in the automotive market , we will focus our efforts on developing structural materials and parts for electric vehicles , in addition to conventional engine blocks , transmissions and other parts for vehicles with internal combustion engines , so as to cater to customer needs regarding the trend to reduce the weight of automobiles and tighter fuel economy regulations .', 'To support this , we will enhance our technological capabilities in each of the manufacturing processes , including casting , processing , molding and alloying , based on the technology roadmap , thereby improving our MONOZUKURI capabilities and ensuring competitive advantages by solving technological issues .', 'Ahresty has been working on formulating Ahresty Standards , common rules for the Group , with the aim of bringing MONOZUKURI ( manufacturing ) of the same quality level to all of its operation sites worldwide .', 'We believe that the key to this goal is to adhere to the basics of MONOZUKURI and improve the assurance level for the completion of each process .', 'For new products , we will further strengthen ties with the design team to improve our production preparations , aiming to ensure stable quality and improve productivity in mass production .', 'In fiscal 2019 , we were able to reduce the number of complaints , nonconforming items , and process failures related to new products by more than 30 % over the previous year .', 'For mass production , we have been working to reduce variations in quality in manufacturing processes by examining the process quality control sheet and actual operations , thereby improving each process .', 'Ahresty will make continuous efforts to constantly provide products of stable quality , so as to gain a higher level of trust from our customers .', 'We believe that high evaluations by our customers will help each of the employees working at Ahresty to take pride in their manufacturing and develop an increased motivation for work .', 'We will promote productivity improvements and reduce manufacturing costs by implementing MONOZUKURI with Optimal Process Condition Control ( OPCC ) .', 'We will also introduce streamlining and manpower savings in the production system , inventory reductions and other initiatives with the aim of improving our price competitiveness .', 'To implement MONOZUKURI processes under Optimal Process Condition Control , or OPCC , we are working to improve productivity and reduce the defect rate .', 'The process fields in which we will pursue OPCC in the three years of the 1921 Medium - Term Management Plan include design of materials and dies , process design , setting manufacturing conditions and equipment / dies maintenance and operational management .', 'In these processes , we will identify tasks that will reduce cycle times , reduce defects , improve the utilization rate , improve maintenance management and other purposes , prioritize them based on past activity data and start implementing measures that will produce greater effects , thereby improving productivity and quality .', 'For each of the priority products , a 2D code is given in the casting process , so that the measured values of various production parameters correspond to the product quality .', 'We form hypotheses on the mechanisms by which defects are generated , and verify them by employing design of experiments and statistical approaches .', 'Identifying the relationship between each influencing factor and the quality and taking the appropriate measures substantially lowers the defect rate in delivered materials , which improves the percentage of items that can be sent directly to customers ’ production lines with no adjustments .', 'To maintain the optimal production condition for die cast machines , Ahresty has been installing utility monitors on its production lines .', 'By capturing detailed fluctuations in utilities , the monitors not only acquire data on the supply condition on the infrastructure side but also demand data on the machine side .', 'Monitoring both the supply and demand sides enables a stable supply of products .', 'Analyzing the collected data will contribute to effective preventive maintenance of equipment and to reducing the consumption of energy resources such as water and electricity in the future .', 'Comprehensive streamlining of the production system and manpower savings We are working to establish a system to produce good products efficiently , through comprehensive streamlining and manpower savings .', 'We will eliminate unnecessary processes and operations by introducing Kaizen , automating inspection processes , and through the use of “ karakuri ” mechanisms , thereby reducing costs and increasing value - added operations , thus improving productivity and reducing manufacturing costs .', 'Examples of manpower savings through Kaizen in work processes Reducing distances workpieces are moved when preparing casting fittings , palletizing , repositioning dollies for returning materials , etc. , eliminating operations with high workloads , such as overturning heavy materials for inspection , and other Kaizen initiatives to identify and improve unnecessary processes at production sites enabled casting operations and appearance inspections to be integrated , resulting in significant savings in manpower .', 'We will improve working conditions to create workplaces where no work - related accidents or injuries occur and where employees can work safely and comfortably in a healthy mental and physical state .', 'We will also develop globally competitive human resources to create a company that enables employees to grow together with the company while finding their work rewarding and taking pride in it .', 'Using ergonomics to create workplaces where workloads are low We have improved the workplace environment to reduce operations involving high physical workloads and making the workplace safe and comfortable for workers .', 'Targeting mainly operations that require the use of heavy tools or the handling of heavy items , we are implementing Kaizen initiatives to reduce workloads while employing automation and Karakuri mechanisms to improve the production efficiency .', 'The effects of Kaizen improvements are evaluated by asking actual workers for feedback .', 'To develop comfortable working conditions , we improved ambient temperatures by installing air - conditioners and other equipment that heats up or cools down , and reduced noise , including mainly the noise of hammering and air lines in the casting process .', 'We shortened the time air lines are used in the manufacturing process by employing a technique that applies a small amount of mold - release agent to lower noise levels .', 'We will introduce this technique in many of our facilities .', 'Ahresty has established Ahresty Safety Awareness codes based on the principle of safety first and production activities are conducted following Safety Awareness .', 'Adopting the safety slogan “ Find potential hazards in your workplace !', 'Think and act safely by observing the rules ! ”', 'for the three years from fiscal 2019 to 2021 , Ahresty as a whole aims to develop a safe and comfortable working environment through carrying out a variety of safety activities , including providing safety training programs , conducting safety patrols , improving equipment safety functions and providing basic education to prevent fires and accidents .', 'Case of improvement : Introduced a Karakuri device that eliminates the use of hammers Introduced a Karakuri device ( employing leverage to amplify the stepping force by 10 to 20 times ) for removing casting gates , eliminating the use of metal hammers .', 'Significant decrease from the previous year mainly due to the decrease in global production volumes of car manufacturers , our main customers , and the decline in aluminum market conditions .', 'Income decreased despite efforts to reduce manufacturing costs by improving productivity through reductions in costs and expenditures , which could not cover the significant decrease in sales .', 'Income substantially decreased due to the increase in tax expenses and other factors associated with a reversal of deferred tax assets of approx. 1 billion yen , which was carried out as a result of a careful examination of the collectability of future deferred tax assets .', 'Interest - bearing debts increased along with an increase in investments but the equity ratio and other indicators of financial performance remained at healthy levels .', 'Taking advantage of our management resources and strengths mainly in BMSE ( Block : engine blocks , Mission : transmission , Structure : structural components , and Electric : parts for electric vehicles ) , our optimal sales activities are tailored to the needs of each region and customer .', 'In fiscal 2019 , car sales significantly declined both in Japan and overseas due to the impact of sluggish car exports in Japan , which continued from fiscal 2018 , and economic slowdowns in China and India .', 'Under these circumstances , along with the global spread of COVID - 19 , our orders received and production volumes decreased substantially .', 'Meanwhile , the percentage of electric vehicles ( EVs ) and hybrid vehicles ( HVs ) in the total number of new vehicles sold has been growing year by year , and the need for lighter automotive parts will continue to increase as a key to reducing CO2 emissions and extending the cruising distance of EVs , as well as a solution to the increases in vehicle body weight associated with strengthening the vehicle body frame to improve collision safety and improving collision - prevention devices .', 'In the Japanese automobile market , the production volume of car manufacturers , our main customers , fell short of that of the previous year due to a slowdown in domestic demand and a decrease in exports for North America and Southeast Asia , which affected our business , leading to a decrease in orders received .', 'Net sales came to ¥ 59,500 million ( down 12.5 % year on year ) partly due to a decline in the condition of the aluminum market .', 'On the profitability side , despite our efforts to reduce manufacturing costs , etc. , the segment recorded a loss of ¥ 444 million ( a segment profit of ¥ 871 million was recorded a year earlier ) due to the significant impact of the decrease in net sales .', 'In China , while overall car sales continued to decrease , a decline in sales of Chinese local car manufacturers in particular had a significant impact on orders received by the Company .', 'Meanwhile , in India , affected by the tightened lending standards for auto loans and enhanced emissions control , which restrained purchases , car sales continued to fall short of that of the previous year , leading to a significant decrease in our orders received .', 'In addition to the impact of these decreases in car sales in China and India , due to the impacts of a fall in aluminum prices , Asian sales fell 20.4 % year on year to ¥ 23,846 million .', 'In terms of profitability , the segment recorded a profit of ¥ 3 million ( down 99.8 % year on year ) due to the significant impact of the decrease in net sales .', 'Based on our pillar policy of securing sales mainly of BMSE parts , Ahresty has carried out various initiatives , including planning / implementing optimal product groups and sales strategies tailored to each region and customer , capturing customer needs and developing technologies in the S segment , increasing orders and enhancing production capacity in the E segment and reinforcing sales activities to acquire new European and American customers .', 'Orders for products in the B and M segments for our major customers in Japan increased mainly for Toyota Motor Corporation .', 'Our Indian operation has received large orders ( total of five items including engine parts and transmission parts ) .', 'In the E segment , mass production of some products has started and further growth in this segment is expected .', 'We will enhance our sales activities to increase orders for the S and E segments by paying careful attention to the trends in the automotive industry and our customers .', 'For major overseas customers , the sales environment changed dramatically mainly due to the impact of the COVID - 19 pandemic in addition to the sluggish market conditions .', 'We narrowed down our product groups by examining the amounts invested and development capabilities and conducted focused sales activities .', 'Through “ selection and concentration ” of our sales strategies , we increased the rate at which we receive orders .', 'However , despite unified efforts by the sales , engineering and manufacturing departments to improve productivity , reduce the defect rate and enhance our technological capabilities according to the BMSE technology roadmap to achieve the targets , sales for the die casting business for fiscal 2019 , affected by fluctuations in aluminum prices and foreign exchange , turned out to be lower than the target .', 'Although COVID - 19 makes the future outlook unclear , the automobile industry is undergoing a once - in - a-century transformation and significant improvements in automobile fuel economy are required in response to the tightening of environmental regulations in various countries and from the viewpoint of environmental preservation , resulting in a greater need to reduce weight .', 'Aluminum die - cast products , which are light and have a high degree of design freedom , have a significant potential to reduce the weight of automobiles .', 'To contribute to reducing vehicle weight mainly through electrification , Ahresty will endeavor to fulfill this important role by conducting proactive sales activities .', 'Ahresty Yamagata started a new business with Toyota Motor East Japan , a company dedicated to production of the Toyota Group ’s compact cars .', 'Mass production and delivery of products began in May 2020 , along with production by the Tokai Plant and Ahresty Pretech .', 'Faced by changes in the external environment , acceleration of customer trends towards internal production and local sales and manufacturing and escalating competition with competitors , Ahresty will focus its sales promotions on parts for electrified vehicles ( HVs , PHVs and EVs ) and electrification - related parts , taking advantage of its management resources and strengths , and will make group - wide efforts to become a good strategic partner for our major customers both in Japan and overseas .', 'We will also solve specific problems at each of our manufacturing sites and improve their revenues and asset turnover rates , thereby securing profits for Ahresty as a whole .', 'Further develop MONOZUKURI technologies by employing accumulated knowledge and data to improve productivity and earnings .', 'In the midst of a slowdown in the Japanese economy , affected by sluggish domestic sales of automobiles after the consumption tax hike and a decline in exports , as well as a decrease in overseas production by Japanese car manufacturers , demand for castings and die - cast products for automobiles , which are our mainstay products , declined .', 'Adding to this the global spread of COVID - 19 , further worsening the business environment , resulted in a significant decrease in demand .', 'In the Aluminum business , net sales decreased 14.7 % year on year to ¥ 3,993 million due to a lower unit sales price affected by the decline in the aluminum market price , although sales volume maintained about the same level of sales in weight as that of the previous year .', 'On the profitability side , segment profit increased 50.9 % year on year to ¥ 169 million , reflecting lower material prices attributable to a fall in the market price of aluminum .', 'Under the basic policy of “ winning customers ’ absolute trust by 2025 ” in the Ahresty 10 - Year Vision , our Kumagaya Plant has been working to improve productivity and reduce costs in manufacturing ingots .', 'With the goal of “ improving productivity by employing optimal alloy production plans and melting methods ” included in the 1921 Medium - Term Management Plan , studies were made of the components and melting yields of each material in fiscal 2019 to identify problems and implement improvements , thereby reducing the number of times re-alloying is needed .', 'We also revised the melting method to increase the work efficiency and melting speed .', 'By standardizing the revised method , we were able to improve productivity .', 'We will continue to promote initiatives to improve productivity and reduce costs under the safety - first principle , with the aim of making our alloy plants unrivaled in MONOZUKURI .', 'As the COVID - 19 pandemic has cooled markets around the world , including Japan , the aluminum market is suffering severely with low prices and small demand .', 'However , we expect the market to turn for the better along with a recovery in economic activities and a rise in demand in all industries .', 'In the automobile industry , in particular , with its strong demand for weight reduction , expectations are high for aluminum materials .', 'We will therefore take this opportunity to expand demand and promote production activities to better satisfy the needs of our customers .', 'In fiscal 2020 , based on the data on melting for each material obtained in fiscal 2019 in addition to the knowledge accumulated so far , we will further deepen our technological knowhow to further improve productivity and increase earnings .', 'As the COVID - 19 pandemic has cooled markets around the world , including Japan , the aluminum market is suffering severely with low prices and small demand .', 'However , we expect the market to turn for the better along with a recovery in economic activities and a rise in demand in all industries .', 'In the automobile industry , in particular , with its strong demand for weight reduction , expectations are high for aluminum materials .', 'We will therefore take this opportunity to expand demand and promote production activities to better satisfy the needs of our customers .', 'In fiscal 2020 , based on the data on melting for each material obtained in fiscal 2019 in addition to the knowledge accumulated so far , we will further deepen our technological knowhow to further improve productivity and increase earnings .', 'Aluminum is a valuable resource , which can be recycled and reused over and over again .', 'At our Kumagaya plant , die casting products that have been produced in the die casting plant and finished their life on the market , come back to have their life renewed as new material .', 'We have set specific environmental targets for our production activities to reduce the environmental impact of our manufacturing processes .', 'In fiscal 2019 , the raised floor system ( aluminum ) market in Japan declined significantly to 72 % of the previous year , mainly due to a decrease in the number of construction projects as a result of the slowdown in the Japanese economy .', 'In fiscal 2020 and beyond , despite uncertainties remaining due to the impact of COVID - 19 , demand for data centers associated with the expansion of the use of automated driving and the spread of IoT , AI , 5G and other cloud services , and the demand for clean rooms for manufacturing semiconductors are expected to grow .', 'In the Proprietary Products business , net sales decreased 12.5 % year on year to ¥ 2,603 million , mainly reflecting a decrease in orders for projects of the Company ’s main customers , namely a clean room at a semiconductor - related company and a data center at a telecommunications company .', 'On the profitability front , segment profit decreased 11.9 % year on year to ¥ 277 million chiefly due to the impact of decreased orders .', 'We will secure the top share in the raised floor system market in Japan .', 'We conducted strategic sales promotion activities based on an analysis of markets and customers , and obtained continuous orders for a large clean room project for semiconductor plants .', 'As a result , we achieved our sales targets for FY2019 .', 'We are also increasing sales activities to develop new customers for fiscal 2020 and 2021 .', 'Ahresty developed the first raised floor system , “ MOVAFLOR ” , in Japan in 1962 and has been devoted to the quality research and development of raised floor systems thereafter for nearly half a century .', 'MOVAFLOR is delivered to all prefectures of Japan from Hokkaido to Okinawa Prefecture , and is widely used in clean rooms , data centers , factories , offices , etc. .', 'We are proud to hold the No. 1 market share for clean rooms in Japan for over 10 years .', 'It has applied in the Tokyo Metropolitan Government Building , Tokyo Sky Tree , Yokohama Landmark Tower , Kansai International Airport , etc. .', 'While continuing strategic sales activities in Japan , we will also conduct sales activities focusing on China and Southeast Asia .', 'In China , which is a big market , we will make the most of Ahresty ’s MOVAFLOR production base in the country .', 'Aiming to achieve better quality , more competitive prices , and higher productivity than all our competitors , we will strengthen ties with Chinese customers , proactively offer technological proposals and quotations from the design drawing stage , and aggressively conduct other activities based on interdepartmental collaboration between manufacturing and sales to expand our sales channels .', 'We believe that in order to fulfill our corporate social responsibilities and grow sustainably , it is important for Ahresty to address social issues through its business activities taking advantage of its strengths .', 'To win greater trust from its stakeholders by responding to their expectations and to achieve sustainable growth by solving social issues through its business activities , Ahresty decided to hold a Sustainability Meeting in March 2020 .', 'At this meeting , which is held twice each year , KPIs of Ahresty ’s priority tasks approved by the Board of Directors are examined and determined , monitoring tasks are decided , and PDCA management and the handling of other issues are discussed .', 'The tasks decided at the Sustainability Meeting will be promoted by relevant departments and committees in the Ahresty Group .', 'In fiscal 2020 , we will focus on examining and determining KPIs for priority tasks , deciding monitoring tasks , and implementing relevant measures .', 'At Ahresty , social issues that should be addressed are classified based on two criteria — their impact on stakeholders and their impact on Ahresty , in light of the SDGs that form the common goals of the international community decided at the UN Sustainable Development Summit .', 'With the approval of the Board of Directors , Ahresty has selected Goal 7 and Goal 13 of these SDGs as priority tasks that may contribute significantly to solving social issues and that are closely related to manufacturing aluminum die castings , Ahresty ’s main business .', 'In manufacturing processes , we will improve production efficiency and reduce the amount of fossil fuel resources used , thereby raising the rate of improvement of energy efficiency .', 'We will also help reduce the weight of cars and improve fuel efficiency through manufacturing and sales of our products , with the aim of reducing CO2 emissions to mitigate the impact of climate change .', 'For monitoring tasks , we will continue to advance various initiatives in our daily business activities , including enhancing our corporate governance structure and developing a corporate culture in which employees can observe their personal development and find their work rewarding .', 'Our aluminum die - cast products contribute to reducing the weight of vehicles .', 'Ahresty is making efforts to improve its corporate governance , thereby boosting profitability of the entire Ahresty Group and improving its management and capital efficiency and increasing its corporate value .', 'Ahresty believes that the basic policies of corporate governance should be to clarify its management responsibilities and accountability to all of its shareholders and other stakeholders and to establish a management system capable of making decisions promptly with a high level of transparency .', 'Ahresty also focuses its efforts on improving its internal control and risk management systems , and establishing a management system capable of supervising the business activities of the entire Group .', 'Since it became a company with an audit and supervisory committee in 2015 , Ahresty has implemented various initiatives to enhance its corporate governance , including the introduction of a restricted stock compensation plan and evaluation of the effectiveness of the Board of Directors ( questionnaire survey ) in 2018 and setting up of the Nomination and Compensation Committee in 2019 to discuss the appointment / dismissal of directors , remunerations and requirements for director candidates .', 'Our basic policy on return of profits is to provide appropriate returns to shareholders while bolstering the financial structure and management base for business development in the medium and long terms .', 'In the first half of fiscal 2019 , in addition to an interim dividend payment , Ahresty carried out a buyback of its shares ( worth 300 million yen ( about 2 % of outstanding shares ) ) .', 'We regret that we are unable to pay year - end dividends in view of the rapid changes in the external environment caused by the outbreak of COVID - 19 in the fourth quarter .', 'However , we will make continuous efforts to further improve our corporate governance while working to increase our corporate value and returns to our shareholders .', 'Evaluation of the effectiveness of the Board of Directors ( questionnaire survey ) introduced .', 'Became a company with an Audit and Supervisory Committee .', 'Ahresty became a company with an Audit and Supervisory Committee in 2015 .', 'The purpose of this shift was to improve its governance .', 'We have appointed four Independent Directors who are Audit and Supervisory Committee members to listen to opinions of outsiders from a broad viewpoint , thereby improving the effectiveness of the Board of Directors .', 'Ahresty has implemented various initiatives to improve governance , such as introducing an evaluation of the effectiveness of the Board of Directors in 2018 and setting up of the Nomination and Compensation Committee in 2019 , and it will make continuous efforts to deepen management ’s understanding of the purpose of the Corporate Governance Code and to increase transparency and effectiveness of our governance .', 'At the Board of Directors meetings , active discussions are held on management strategies , corporate governance , capital investment and various other management issues and business execution , while opinions are exchanged with Independent Directors .', 'In fiscal 2019 , 13 meetings of the Board of Directors were held .', 'Ahresty evaluates the effectiveness of its Board of Directors to reinforce the supervising function of the Board of Directors and increase its effectiveness .', 'The role of the Board of Directors is constantly discussed in view of changes in the business environment and expansion of our business on a global scale , and a questionnaire survey was introduced to enable the directors themselves to evaluate the effectiveness of the Board of Directors .', 'The evaluation concluded that the composition of the Board of Directors was appropriate and that its effectiveness was ensured , and active discussions were held mainly on the Medium - Term Management Plan and other management strategies .', 'Further improvements to the quality of information were pointed out as a task for the future .', 'With a view to achieving the 10 - Year Vision and the medium - term management plan , Ahresty introduced a restricted stock compensation plan in FY2018 to ( i ) provide executives with an incentive to continuously improve the corporate value of Ahresty , ( ii ) facilitate their sense of shared values with shareholders and ( iii ) establish greater linkage with mediumto long - term performance goals .', 'The restricted stock compensation plan consists of performance - linked shares with transfer restrictions , which are subject to Ahresty achieving its mediumto long - term performance goals , and work - continuation - linked shares with transfer restrictions subject to continuous service as directors of Ahresty over a certain period of time .', 'Under the restricted stock compensation plan , a certain amount of the restricted stock is designed to reflect the degree to which the medium - term management plans are attained , performance results and other factors .', 'Ahresty will strive to improve its performance results and promote further value sharing with its shareholders from the mediumto long - term perspectives .', 'Ahresty ’s action principle for risk management is to avoid risks that may seriously affect its business management and address any risk that arises promptly and properly in a manner that will not undermine the safety , health or interest of any stakeholder so as to achieve a quick recovery while working to protect its management resources and minimize any damage from the risk , thereby ensuring the continuity of its business management .', 'Based on the Risk Management Rule it has established regarding risks associated with its business activities , Ahresty identifies , analyzes and evaluates risks regularly in light of the environment and trends both inside and outside the Company , holds discussions on priority activities and their aims , and checks improvements to risk management systems and frameworks for the entire Group .', 'Ahresty selected 11 risk items as its risk management items for fiscal 2019 and appointed departments to be responsible for each risk .', 'These included “ transactions and compliance , ” “ disasters , ” and “ products and services . ”', 'By clarifying the degree of impact and causes of each risk , Ahresty has been working to enhance prevention , initial response and measures for recovery .', 'Formulated guidelines for responses to typhoons and heavy rain and implemented measures against disasters , such as the introduction of emergency communication devices .', 'Formulated guidelines on how to respond to the COVID - 19 new coronavirus , and implemented measures to prevent the infection of employees , including introducing teleworking and staggered commuting hours .', 'Also clarified measures to prevent the spread of the virus by infected employees that would enable business to continue in the event of an emergency .', 'Established internal rules , strengthened management of information devices , and limited access to information , thereby preventing leakage of information due to internal fraud or external cyberattacks , etc. .', 'Ahresty considers the trust of its stakeholders to be the starting point in conducting all of its business activities , and follows a management philosophy of making constant efforts to raise its corporate value .', 'The Compliance Principles and the Ahresty Group Code of Conduct have been established as standards to be observed by all executives and employees .', 'By repeatedly communicating these standards with the proper timing and in a suitable manner , Ahresty aims to prevent illegal acts in advance .', 'We will not only observe and adhere to laws and company rules but also engage in fair and honest business activities , in compliance with our corporate ethics and the standards of ethical behavior expected by society .', 'Ahresty has established a Global Compliance Committee to promote compliance at all of its business locations globally .', 'The Global Compliance Committee holds regular meetings twice each year and extra meetings as necessary to plan and implement all aspects of the Group ’s compliance framework and to discuss compliance - related problems for the entire Group and decide on solutions .', 'Each site or department is also required to establish a compliance committee to implement a series of initiatives to plan , promote , and evaluate activities appropriate for the compliance risks of the site or department .', 'For employees , training programs using e-learning or by other means that are designed to raise their awareness of compliance are offered in a timely manner , such as when they join the company or when they are promoted .', 'Ahresty has also established a Compliance Reporting System and set up points of contact for consultations relating to all aspects of compliance both inside and outside the company , to create an environment in which employees feel no reservations in using the system .', 'To protect the privacy of informants and prevent them from suffering discrimination , Ahresty has established Guideline for Compliance Reporting System and handles all cases according to this guideline .', 'For the sustainable growth of Ahresty , we believe that it is crucial to develop a corporate culture in which each employee can grow through their work , and have pride and motivation in their work and workplace .', 'Top management will establish occupational safety and health management systems to develop and maintain a working environment where all associates at the Ahresty Group can work without risk to health and safety .', 'Top management will also establish a Safety & Health Management Committee at each site , which reflects associate feedback to the systems to promote continual improvement .', 'For higher quality and improved productivity Development of human resources that underpin our MONOZUKURI To achieve high quality and productivity in manufacturing , Ahresty is committed to systematic human resources development according to its strategic human resources plan ( human resources roadmap ) both inside and outside of Japan .', 'The training system consists of common education programs and specialized education programs , which are designed to teach a range of professional skills .', 'They allow employees to receive systematic training of the same quality at all sites both inside and outside of Japan .', 'From FY2016 we rolled out RST Gakuen ( academy ) which passes on knowhow about MONOZUKURI built up since Ahresty ’s foundation , thus developing the Global RST Learning , a training structure under which all our employees can receive the same level of training globally .', 'We recommend that training on the importance of standards should be made available to all employees .', 'Moreover , we train the team leaders of our manufacturing processes to be G / E Trainers , enabling them to acquire the abilities necessary to analyze the current situation and find concrete solutions to problems and to offer guidance and instruction to their team .', 'We also hold a Global Kaizen Meeting , where engineers from all bases gather together to exchange technologies and mutually improve their skills through the presentation of Kaizen cases and group discussions .', 'Through these programs and events , Ahresty works to develop human resources who support manufacturing in various ways .', 'To contribute to improving the quality of its products and services , Ahresty has allocated a Quality Month ( November ) , which is broadly promoted to raise quality awareness and disseminate activities to promote quality control .', 'During Quality Month , activities include holding quality KYT / AKS activities , encouraging Quality Awareness Proposals and other initiatives to raise quality awareness .', 'The number of Quality Awareness Proposals gathered has increased year by year and reached 1,833 from individuals and 210 from groups in fiscal 2019 .', 'Outstanding proposals are used to improve product quality , work efficiency and work quality .', 'Developing human resources and response to diversified workstyles With the population increasingly aging and with the declining birthrate , recruiting , developing and retaining competent human resources is crucial for the improvement of corporate value .', 'Ahresty believes that allowing each employee to play an active role that makes the most of their capabilities results in growth for the company .', 'A new personnel system was introduced in April 2019 to respond to diversifying workstyles and to enable the personal development of each employee .', 'The new personnel system features a Course System that allows each employee to select a workstyle that fits their lifestyle , career vision and personal situation .', 'We also revised the job class , salary , bonus , and evaluation systems and introduced a Class System in which the areas of job responsibility are divided into expert duties and management duties and employees are sorted into performance - based classes in a role - based hierarchy .', 'We have also introduced allowances that follow the principle of equal pay for equal work and revised the leave system .', 'At Ahresty , all female employees may take maternity leave before and after childbirth and child care leave .', 'Male employees are also encouraged to take childcare leave .', 'To support female employees in playing an active role throughout the different stages of their life , Ahresty is working to establish an environment in which employees feel comfortable in taking maternity and childcare leave , and which allows them to work reduced hours after their leave until their children are in the third year of elementary school , helping them to balance childcare and work .', 'Ahresty has also introduced various other programs to promote flexible workstyles , including a flextime program , teleworking ( home working ) , and a nursing care leave system .', 'Together with the Community Training human resources who will move the manufacturing industry forward In July 2018 , Ahresty India , an Indian subsidiary of Ahresty , was certified as a Japan - India Institute for Manufacturing ( JIM ) by the Ministry of Economy , Trade and Industry and opened Ahresty JIM .', 'The Japan - India Institute for Manufacturing ( JIM ) is implemented under the Manufacturing Skill Transfer Promotion Programme , which was signed by the Ministry of Economy , Trade and Industry of Japan and the Ministry of Skill Development and Entrepreneurship of India ( MSDE ) in November 2016 , to train human resources who can develop the manufacturing industry in India .', 'In fiscal 2019 , Ahresty JIM admitted 53 new students who will study Japanese - style MONOZUKURI and play core roles at the manufacturing sites .', 'Percentage of female employees taking maternity leave before and after childbirth and child care leave .', 'In creating an environment - friendly company , Ahresty engages in various initiatives to prevent pollution and save energy and resources in its manufacturing processes .', 'To reduce the environmental impact of our manufacturing processes , we have set specific environmental targets for our production activities .', '* For overseas business sites , set a target of reducing by at least 1.0 % over FY2019 .', '* Continue monitoring and implementing activities required to improve the energy consumption rate calculated by positively evaluating actions to reduce peak electricity demand .', '* For overseas business sites , set a target of reducing by at least 1.0 % over FY2019 .', 'Introduce greening activities that improve the landscape at each site , referring to the Ahresty greening guidelines .', 'Atmosphere , water quality , noise , etc. .', 'Prevent environmental problems such Eliminate non-conforming external leaks Non-conforming external leaks and comas atmospheric pollution , and complaints .', 'Reduce CO2 emission intensity by 4 % compared with fiscal year 2015 ( or a 1 % reduction compared with the previous fiscal year for business sites that have already met the target ) .', 'Alternatively , consultations with the secretariat for all companies .', '* Continue monitoring and implementing activities required to improve the energy consumption rate calculated by positively evaluating actions to reduce peak electricity demand .', 'The target was achieved in four out of the 11 targeted business sites .', 'Eleven of the 13 business sites met their targets .', 'About 80 plans were held in all companies .', 'Greening activities that improve the landscape were increased at all sites , resulting in active communication both inside and outside the company .', 'Ahresty hosts various educational events and communication activities related to the environment to raise its employees ’ environmental awareness .', 'Ahresty Green Convention is an assembly held under the Environmental Policy for reporting on cases of improvements in a broad range of environment - related fields .', 'Effective activities reported at the Convention are introduced at other business sites and then throughout the Group , with the aim of helping reduce the environmental impact and preserve the environment in local communities .', 'In response to our employees ’ wish to contribute to environmental protection outside the workplace , Ahresty is introducing activities to protect the natural environment , including clean - ups of neighboring areas , and activities to preserve biodiversity , such as the protection of Socio - Ecological Production Landscapes ( Satochi - satoyama ) through planting trees and thinning forests .', 'The figures show the consumption of fuel and electric power after conversion to CO2 emissions .', 'The line graph shows the CO2 emissions calculated using the conversion factors published by the electric power companies .', 'Discharged materials shows 2,500 all the materials discharged 2,000 from business offices , in1 ,500 cluding valuable materials 1,000 and waste , except steel and 500 aluminum .', 'Production activities require energy and materials and involve emissions .', 'Ahresty allocates costs to measures to reduce the environmental impact in its manufacturing processes , including the introduction of equipment for reducing the impact .', 'Ahresty Mexicana , S.A. de C.V. Guangzhou Ahresty Casting Co. , Ltd. .', 'Ahresty Precision Die Mold ( Guangzhou ) Co. , Ltd. .', 'Representative Director and Executive Officer in charge of promoting SDGs .', 'Takahashi : We examined the SDGs based on their relationship with manufacturing aluminum die castings , Ahresty ’s main business , and the potential to contribute to social issues , and selected the goals that are most relevant from both of these perspectives .', 'For mitigation of the impact of climate change , I think Ahresty can contribute in three points .', 'First point is about CO2 emissions in our manufacturing processes .', 'This will be closely related to reducing CO2 emissions , a cause of global warming , as well as reducing costs .', 'Next , over 90 % of our products are installed in cars .', 'We will provide our technologies to reduce the weight of cars and improve their fuel efficiency , consequently reducing CO2 emissions .', 'I think that Ahresty ’s technologies may also contribute to promoting the shift to mobility that runs with clean energy , as represented by CASE .', 'Shiozawa : I think that its contribution to reducing vehicle weight is what is most expected of Ahresty .', 'Ahresty has the technological capabilities to do this .', 'Addressing the tasks through its business activities is the most efficient way , associated with a high degree of contribution not only for the company itself but also for society as a whole .', 'Lighter cars and improved fuel economy are good for both consumers and Ahresty .', 'And they will lead to solving social issues .', 'This is absolutely the “ Sanpo - Yoshi , ” three - way satisfaction .', 'We must maintain the Sanpo Yoshi principle in our sustainability initiatives .', 'When energy efficiency is improved , costs will be lowered , helping to enhance competitiveness for customers .', 'If energy consumption is reduced , it is good for society .', 'I think it is good that a business associated with a particularly large amount of energy consumption is working to reduce it .', 'Shiozawa : It is definitely the utilization of its unique technologies .', 'I expect that Ahresty will lead the initiatives related to weight reduction and CASE through aluminum die - casting .', 'To further sophisticate the technological capabilities it has cultivated to date , Ahresty should have a clear vision of the future and make focused R&D investments .', 'By doing so , I think Ahresty will take a leadership position in the world .', 'Takahashi : As a milestone , we will celebrate our 100th anniversary in 2038 .', 'I want Ahresty to become a company that can contribute to society and help its employees to take pride in their work .', 'To this end , commitment to the SDGs is essential .', 'In this commitment , we place the highest priority on the growth of people .', 'Growing people will lead to innovative and highly - efficient production equipment and technologies , resulting in innovative products .', 'We will make company - wide efforts toward this goal .', 'Reason for appointment : In consideration of his extensive experience and insight as a manager of a globally expanding automobile parts corporation , he was judged as appropriate for the post .', 'Reason for appointment : In consideration of his extensive experience and insight as a university president and professor of economics specializing in theoretical economics and financial theory , he was judged as appropriate for the post .', 'Director of Nippon Light Metal Holdings Company , Ltd. , Director and Executive Officer of Nippon Light Metal Co. , Ltd. .', 'Reason for appointment : In consideration of his extensive work experience and insight cultivated by serving as a manager of a nonferrous metal corporation , he was judged as appropriate for the post .', 'Reason for appointment : In consideration of his extensive experience as an attorney at law and specialized knowledge concerning corporate legal affairs , he was judged as appropriate for the post .', 'During the fiscal year under review , the world economy initially maintained a steady growth as a whole due to the solid employment situation mainly in advanced countries .', 'However , in addition to concerns about uncertainty in US - China trade friction , the global outbreak of COVID - 19 starting in January 2020 caused a sharp decline in the latter half of the year .', 'The Japanese economy was also strongly affected by these factors and had to suffer a decrease in external demand and a slowdown in exports .', 'Moreover , a decrease in domestic demand due to the series of natural disasters that hit various areas in Japan and the impact of the COVID - 19 new coronavirus pandemic at the end of the fiscal year significantly worsened the domestic economy .', 'The business environment surrounding the automobile industry , which is our main customer , faced a significant deceleration in car sales due to the impact of prolonged U.S. - China trade friction on the world economy and the economic uncertainties for the future of the Chinese and Indian economies , together with the spread of COVID - 19 in the fourth quarter that affected our die casting business sites other than China and Mexico , where the fiscal year ends in December .', 'The sales volume in the Company ’s die casting business was also affected by this significant deceleration of car sales and was lower than that in the previous year both in Japan and abroad .', 'As a result , the Group recorded consolidated net sales of ¥ 120,577 million ( down 17.1 % year on year ) , operating income of ¥ 764 million ( down 76.3 % year on year ) , and recurring income of ¥ 406 million ( down 86.0 % year on year ) .', 'Also , due to tax expenses as a result of reversal of deferred tax assets and other factors , net loss attributable to owners of parent turned out to be ¥ 685 million ( previous year marked net income of ¥ 421 million ) .', 'Under these severe situations , the Group is determined to steadily implement measures based on its 1921 Medium - term Management Plan , which started this fiscal year , to improve profitability by raising productivity through cost cutting and reduction of expenses .', 'To tackle the rapid decrease in sales volume due to the impact of the spread of COVID - 19 , the Group will reform its production systems in response to changes in sales volume , control capital investment , reduce costs , and implement other necessary urgent measures to improve profitability .', 'The figures for our business forecasts were calculated based on the assumption that demand bottomed out in the first quarter and will gradually recover in the second half .', 'Although the spread of the infectious disease has yet to see an end in many countries , including Japan , where the situation is still critical with fears of a second wave of the pandemic rising , the government shows no intention of re-announcing a state of emergency or posing other social restrictions .', 'However , the decrease in our net sales is expected to have a serious impact on our profits .', 'To tackle the rapid decrease in sales volume due to the impact of the spread of COVID - 19 , the Group will make further efforts to reform its production systems in response to changes in sales volume , control capital investment , reduce costs , and implement other necessary urgent measures to improve profitability for the future .', 'Our foreign exchange assumption for the second quarter and beyond is : 105.0 yen to the USD , 15.0 yen to the CNY , and 1.45 yen to the INR .', 'Note : The translations of yen amounts into U.S. dollar amounts are included solely for the convenience of readers outside Japan and have been made at the rate of ¥ 108.10 to $ 1.00 , the average exchange rate during period .', 'U.S. dollar figures less than a thousand dollars are rounded down to the nearest thousand dollars .', 'It has been excluded from the scope of consolidation as they have no significant impact on the Consolidated Financial Statements in terms of total assets , sales , current term net profit or loss ( in accordance to their equity ) , and retained earnings ( in accordance to their equity ) .', 'There are no main non-consolidated subsidiaries accounted for using the equity method .', 'The equity method is not applied to investments in Thai Ahresty Engineering Co. , Ltd. among the non-consolidated subsidiaries , because the investments had only a slight influence on net income / loss ( an amount in accordance with equity ) , retained earnings ( an amount in accordance with equity ) , etc. and did not have sufficient importance overall .', 'The closing date for consolidated subsidiaries was December 31 for Thai Ahresty Die Co. , Ltd. , Guangzhou Ahresty Casting Co. , Ltd. , Ahresty Mexicana , S.A. de C.V. , Hefei Ahresty Casting Co. , Ltd. and Ahresty Precision Die Mold ( Guangzhou ) Co. , Ltd. .', 'In order to prepare the Consolidated Financial Statements , the financial statements used for these subsidiaries were as of their closing dates , except for important transactions that took place in the period before the consolidated closing date , which were adjusted as necessary for consolidation .', 'The Company and consolidated some subsidiaries evaluate according to cost method based primarily on the average method ( the carrying value on the balance sheet is written down to reflect the effect of lower profit margins ) , while other consolidated subsidiaries evaluate according to lower of cost method based on the first - in , first - out ( FIFO ) method .', 'To provide against doubtful accounts , the estimated amount of unrecoverable accounts is reported by employing the loan loss ratio for regular bonds .', 'Recovery rates are calculated individually for specific doubtful accounts and bonds .', 'In order to appropriate bonus payments for employees for the current fiscal year , the parent company and consolidated subsidiaries report this allowance based on projected payment figures .', 'In preparation for expenses for charge - free repairs , the Company and its consolidated subsidiaries record the provision based on estimates of different kinds of repairs and the ratio of the expenses to sales in the past .', 'For the calculation of employees ’ retirement benefit liabilities , the Group has adopted fixed amount standards as a method of approximating the estimated amount of employees ’ retirement benefits to the period up to the end of the consolidated fiscal year under review .', 'Prior service costs are amortized based on the straight - line method over a specified period ( 10 years ) within the average remaining service period of employees at the time when such costs are incurred .', 'Actuarial difference is amortized based on the straight - line method over a specified period ( 15 years ) within the average remaining service period of employees at the time of its occurrence in each consolidated fiscal year , and it is allocated proportionately from the fiscal year following the respective fiscal year of its occurrence .', 'Cash , assets and liabilities in foreign currencies are converted into yen based on the spot exchange rate on the consolidated closing date , and the exchange difference is treated as profit or loss .', 'Total assets and liabilities of consolidated subsidiaries overseas are converted into yen based on the spot exchange rate on the consolidated closing date .', 'Income and expenses are converted into yen based on the average exchange rate during period , and the exchange difference is included in the net assets of the foreign currency translation adjustment .', 'Foreign exchange contracts are appropriated when they meet the requirements for this method , and interest rate swaps are treated as exceptions when they meet the requirements for this method .', 'For long - term loans paid at variable interest rates , derivatives trading is used to avoid the risk of variable interest rates .', 'The interest rate swap provides against the risk of fluctuations in exchange rates at the time of import and export .', 'The company ’s accounting department conducts internal reviews in employing hedge methods .', 'The effectiveness of hedge transactions is evaluated by the degree of variability between the cumulative amount of either the hedge target market fluctuation or cash flow fluctuation and the cumulative amount of either the hedge means market fluctuation or cash flow fluctuation .', 'However , the evaluation of effectiveness is omitted for interest rate swaps treated as exceptions .', 'Cash on hand , deposits that can be withdrawn as necessary , and short - term investments that are easily convertible , have low risk of value fluctuation and are due for redemption within three months of the date of acquisition are included in the scope of funds .', 'Consumption tax and local consumption tax are treated by the tax exclusive method .', 'From the beginning of the consolidated fiscal year under review , the U.S. subsidiary , to which the U.S. standards are applied , started to adopt ASU No. 2014 - 09 ( Revenue from contracts with customers ) .', 'According to this standard , upon the transfer of the promised goods or services to customers , revenue is recognized in an amount that reflects the consideration to which the subsidiary expects to be entitled in exchange for such goods or services .', 'The impact of application of this standard on the Group ’s financial conditions and operating performance is insignificant .', 'From the beginning of the consolidated fiscal year under review , the Group started to apply IFRS 16 ( Leases ) to the Group companies , excluding the Company and its domestic subsidiaries that adopt the Japanese standards and the U.S. subsidiary to which the U.S. standards apply .', 'As a result , all leases will be recognized as assets or liabilities by borrowers , in principle .', 'The impact of application of this standard on the Group ’s financial conditions and operating performance is insignificant .', 'Of the accounting standards that were published before the end of the fiscal year under review , those which are not applied to the Group are as described below .', 'A note on insignificant accounting standards is omitted .', 'The basic policy of the ASBJ on its development of accounting standards for revenue recognition is said to be to establish accounting standards , with the incorporation of basic principles of IFRS 15 as a starting point , from the standpoint of comparability between financial statements , which is one of the benefits of promoting consistency with IFRS 15 , and to add alternative treatments to the extent to which comparability is not damaged if there is an item in which consideration should be given to practices conducted in Japan thus far .', 'We plan to apply the accounting standards from the beginning of the fiscal year ending March 31 , 2022 .', 'The amount of impact of applying the Accounting Standard for Revenue Recognition , etc. on the financial statements of the Company is currently under review .', 'With regard to “ key sources of estimation uncertainty , ” of which disclosure is required by the International Accounting Standards ( IAS ) No. 1 Presentation of Financial Statements ( hereinafter , “ IAS 1 ” ) Article 125 issued by the International Accounting Standards Board ( IASB ) in 2003 , in response to the request to consider also requiring disclosure of such information in Japanese standards in the notes as highly useful information for users of financial statements , the Accounting Standard for Disclosure of Accounting Estimates ( hereinafter , “ the Accounting Standard ” ) was developed and released by the Accounting Standards Board of Japan .', 'In developing the Accounting Standard , the Accounting Standards Board of Japan adopted a basic policy of not expanding individual notes but presenting the key principle ( purpose of disclosure ) and allowing each business entity to determine the specific details of the information to be disclosed in light of the purpose of disclosure .', 'The Board developed the standard in reference to the provisions of Article 125 of IAS 1 .', 'The application is scheduled to start at the end of the fiscal year ending March 2021 .', 'In response to the proposal to consider enhancing the notes with regard to “ accounting principles and procedures that are adopted when the provisions of the relevant accounting standards , etc. are not clear , ” the Accounting Standards Board of Japan made necessary revisions and released the Accounting Standard for Accounting Policy Disclosures , Accounting Changes and Error Corrections .', 'When enhancing the notes with regard to “ accounting principles and procedures that are adopted when the provisions of the relevant accounting standards , etc. are not clear , ” the provisions of the Annotations on Corporate Accounting Principles ( 1 - 2 ) shall be continuously applied in order to avoid affecting the practices that have been maintained when the provisions of the relevant accounting standards , etc. are clear .', 'The application is scheduled to start at the end of the fiscal year ending March 2021 .', 'These accounting standards demand that a lessee record all leases as assets and liabilities on its balance sheet , in principle .', 'There is no material change in the accounting of the lessor .', 'FASB Topic 842 is to be applied from the beginning of the fiscal year ending March 31 , 2022 .', 'The impact of applying these accounting standards on the Company ’s consolidated financial statements is currently under evaluation .', 'Due to the global COVID - 19 pandemic , an event that is having a broad impact on our economic and corporate activities , a significant decline in automobile demand is expected worldwide .', 'As for the Group ’s accounting estimates , such as the valuation of impairment losses on fixed assets and the collectability of deferred tax assets , since it is difficult at this moment to predict how this infectious disease will spread and when it will end , we have made the best possible estimates in view of the present status of orders received at each site , based on the assumption that the serious damage from the disease will continue until about September 2020 and the impact thereof will last for a while during the remaining period of the fiscal year ending March 2021 .', 'As a result , for the consolidated fiscal year under review , we have recorded an impairment loss of 60 million yen and reduced deferred tax assets by 2,028 million yen .', 'Please note that the above assumption is subject to a high degree of uncertainty .', 'The impact of COVID - 19 may affect the Group ’s business performance and financial conditions more seriously if it is prolonged or aggravated in the future .', 'For some of our consolidated subsidiaries , during the consolidated fiscal year under review , accounting treatment was employed in line with the transfer of the lump - sum termination allowance plan to the defined contribution pension plan , as well as the introduction of a point system for the defined benefit retirement annuity plan .', 'For the accounting treatment in line with the transfer of plans , etc. , “ Guidance on Accounting for Transfer between Retirement Benefit Plans ” ( ASBJ Guidance No. 1 , December 16 , 2016 ) and “ Practical Solutions on Accounting for Transfer between Retirement Benefit Plans ” ( Practical Solutions No. 2 , February 7 , 2007 ) are applied .', 'As a result of this transfer of plans , accounts payable and long - term accounts payable , which are included in “ Others ” under current liabilities , increased by 66 million yen and 265 million yen , respectively , net defined benefit assets included in “ Others ” under investments and other assets increased by 234 million yen , and net defined benefit liability decreased by 177 million yen .', 'Also , we recorded 152 million yen in “ gain on revision of retirement benefit plans ” as an extraordinary gain and 71 million yen in “ loss on revision of retirement benefit plans ” as an extraordinary loss .', 'The Company and some of its consolidated subsidiaries applied for approval of the introduction of a consolidated taxation system during the consolidated fiscal year under review , and it was decided that the consolidated taxation system will be applied from the subsequent consolidated fiscal year .', 'Therefore , starting from the fiscal year under review , in accordance with the Practical Solution on Tentative Treatment of Tax Effect Accounting Under the Consolidated Taxation System ( Part 1 ) ( Practical Solutions No. 5 , January 16 , 2015 ) and the Practical Solution on Tentative Treatment of Tax Effect Accounting Under the Consolidated Taxation System ( Part 2 ) ( Practical Solutions No. 7 , January 16 , 2015 ) , accounting treatment assuming the application of a consolidated taxation system has been employed .', 'Matured notes on the last day of a fiscal year are accounted for on the assumption that they are settled on the clearance date .', 'Because the last day of the fiscal year under review was a non-business day of financial institutions , matured notes on the next fiscal year end are included in the ending balance .', 'No research and development expenses were included in the manufacturing costs incurred for the current period .', 'The Group posted impairment losses for the asset groups below .', 'Ahresty Wilmington Corp. conducted an impairment test based on the U.S. Generally Accepted Accounting Principles because of a delay in improving its profitability .', 'As a result , the company reduced the book value of its business assets to their recoverable values and posted the amount of the reduction as an impairment loss .', 'The recoverable value is measured by the value in use and calculated by discounting future cash flows by 11.5 % .', 'Higashimatsuyama Plant reduced the book value for some of its business assets from which the initially anticipated revenues became no longer able to be expected due to a fall in the utilization rate to their recoverable values and posted the reductions as an impairment loss .', 'For the recoverable value , the net realizable value based on the real estate appraisal value is used .', 'For Hefei Ahresty Casting Co. , Ltd. , an impairment test was conducted in accordance with the international accounting standards because of its sluggish performance compared to the initial plan .', 'As a result , the book value of the business assets it owns was written down to the recoverable amount , and the reduced amount was recorded as an impairment loss .', 'For the recoverable value , the net realizable value based on the real estate appraisal value and the movable property appraisal value is used .', '48,997 shares , an increase in the total number of shares outstanding of common stock , represent an increase due to the issuance of new shares as the restricted stock compensation .', 'The increase of 560,676 common shares in treasury stock is due to the acquisition of the Company ’s own shares , the purchase of shares of less than a unit , and the acquisition free of charge of a part of common shares allocated in the restricted stock compensation plan .', 'The Company has omitted notes for lease transactions because the Company believes there is a bit significant need in this report for such disclosure .', 'The Group raises necessary capital ( mainly bank loans ) , in light of its capital investment plan .', 'It invests temporarily surplus funds primarily in financial assets that are highly liquid and raises short - term working capital by obtaining bank loans .', 'The Group uses derivatives to guard against the following risks but does not engage in speculative transactions .', 'The Group is exposed to credit risk through its trade notes and accounts receivable from customers , in other words , its operating receivables .', 'It is also exposed to foreign currency fluctuation risk through foreign currency denominated operating receivables that arise when conducting business overseas .', 'Investments in securities are mostly the shares of companies that we have business relations with and that are subject to a risk of market price fluctuations .', 'Trade notes and accounts payable , in other words , operating payables , and electronically recorded debt are mostly due within one year .', 'The Group is exposed to foreign currency fluctuation risk on certain foreign currency denominated payables .', 'The Group obtains loans mainly for the purpose of raising capital for capital investment .', 'The Group is exposed to interest rate risk on certain loans but uses derivative transactions to guard against this risk ( interest rate swap transactions ) .', 'The derivatives used by the Group is interest rate swap transactions to guard against the risk of changes in interest payments on loans .', 'The Group ’s sales division periodically monitors the status of operating receivables from major customers and manages due dates and outstanding balances for individual customers with the aim of early identification and mitigation of concerns over recovery arising as a result of deterioration in financial position , etc. .', 'The Group understands that it has hardly any credit exposure on derivative transactions , as it deals only with financial institutions that have high ratings .', 'The Group uses interest rate swap transactions to mitigate the risk of changes in interest payments on its loans .', 'We review our investments in securities continuously , checking the market values of the securities and the financial situation of the issuers ( business partners ) regularly and taking market conditions and our relations with business partners into account .', 'The division responsible for executing and managing derivative transactions engages in derivative transactions with the approval of the person with decision - making authority , in accordance with management regulations which specify trading authority , trading limit and other trading procedure .', 'The division reports monthly trading figures to the director with jurisdiction .', 'The division in charge prepares and updates a fund procurement plan in a timely manner based on reports from each division and manages liquidity risk by means such as ensuring on - hand liquidity .', 'No liquidity risk management is carried out in relation to domestic consolidated subsidiaries as they are linked into a cash management system ( CMS ) and obtain loans via the parent company .', 'Carrying amounts in the consolidated balance sheets , fair values and differences between carrying amounts and fair values are as follows .', 'Recognized at their carrying amounts , as carrying amounts approximate fair value because of the short - term maturity of these instruments .', 'For the fair values of long - term loans payable at fixed interest rates , the total amount of the principal and interest is discounted using a rate that is assumed to be applied when a similar loan is newly borrowed .', 'For the fair values of long - term loans payable at variable interest rates that are subject to the special treatment of interest rate swaps , the total amount of the principal and interest that were accounted for as a single item with the relevant interest rate swap is discounted with a rate that is assumed to be applied when a new , similar loan is taken out .', 'These securities do not have any market prices , and it is very difficult to determine their market values .', 'They are not therefore included in ( 3 ) Investments in securities .', 'Note : Unlisted stocks ( 5 million yen on the consolidated balance sheet ) are not included in the table above because they have no market price and it is very difficult to determine their fair value .', 'Note : Unlisted stocks ( 5 million yen on the consolidated balance sheet ) are not included in the table above because they have no market price and it is very difficult to determine their fair value .', 'Note : Interest rate swaps accounted for by special accounting methods are accounted for with the hedge target , long - term loans payable .', 'The market value of the interest rate swaps is therefore included in the market value of the long - term loans payable .', 'Note : Interest rate swaps accounted for by special accounting methods are accounted for with the hedge target , long - term loans payable .', 'The market value of interest rate swaps is therefore included in the market value of long - term loans payable .', 'The company and some of its consolidated subsidiaries have established an approved retirement annuity system and a termination allowance plan as our defined benefit systems .', 'The company and some of its subsidiaries also have defined contribution retirement benefit schemes .', 'Upon the retirement of employees , there are instances where premium severance payments not covered in the retirement benefit liabilities are made .', 'Some of its consolidated subsidiaries also adopt a simple method for calculating retirement benefit liabilities .', 'For some of our consolidated subsidiaries , during the consolidated fiscal year under review , accounting treatment was employed in line with the transfer of the lump - sum termination allowance plan to the defined contribution pension plan as well as the introduction of a point system for the defined benefit retirement annuity plan .', 'For the accounting treatment in line with the transfer of plans , etc. , “ Guidance on Accounting for Transfer between Retirement Benefit Plans ” ( ASBJ Guidance No. 1 , December 16 , 2016 ) and “ Practical Solutions on Accounting for Transfer between Retirement Benefit Plans ” ( Practical Solutions No. 2 , February 7 , 2007 ) are applied .', 'As a result of this transfer of plans , we recorded 152 million yen in “ gain on revision of retirement benefit plans ” as an extraordinary gain and 71 million yen in “ loss on revision of retirement benefit plans ” as an extraordinary loss .', 'The details of the items ( before tax effects ) that have been recorded in the remeasurements of defined benefit plans are as follows .', 'To determine the rate of the long - term expected return on pension plan assets , the current and expected allocation of pension assets and the current and expected future rate of long - term return from a variety of assets that constitute pension assets have been taken into account .', 'The required contribution amount of the company and some of the consolidated subsidiaries was ¥ 390 million as the previous consolidated fiscal year and ¥ 385 million as the current consolidated fiscal year .', 'No condition has been set with respect to length service .', 'The approval of the Board of Directors is required for the transfer of share warrants .', 'No condition has been set with respect to length service .', 'The approval of the Board of Directors is required for the transfer of share warrants .', 'No condition has been set with respect to length service .', 'The approval of the Board of Directors is required for the transfer of share warrants .', 'No condition has been set with respect to length service .', 'The approval of the Board of Directors is required for the transfer of share warrants .', 'No condition has been set with respect to length service .', 'The approval of the Board of Directors is required for the transfer of share warrants .', 'No condition has been set with respect to length service .', 'The approval of the Board of Directors is required for the transfer of share warrants .', 'No condition has been set with respect to length service .', 'The approval of the Board of Directors is required for the transfer of share warrants .', 'No condition has been set with respect to length of service .', 'The approval of the Board of Directors is required for the transfer of share warrants .', 'No condition has been set with respect to length of service .', 'The approval of the Board of Directors is required for the transfer of share warrants .', 'No condition has been set with respect to length of service .', 'The approval of the Board of Directors is required for the transfer of share warrants .', 'No condition has been set with respect to length of service .', 'The approval of the Board of Directors is required for the transfer of share warrants .', 'No condition has been set with respect to length of service .', 'The approval of the Board of Directors is required for the transfer of share warrants .', 'In cases where the Company conducts a merger ( limited to cases where the Company will disappear as a result of the merger ) , an absorption - type company split , an incorporation - type company split , a share exchange or a share transfer ( hereinafter collectively referred to as “ Organization Restructuring Actions ” ) , the Company shall deliver share warrants of the stock company listed in ( a ) through ( e ) in Article 236 , Paragraph 1 , ( viii ) of the Companies Act ( hereinafter referred to as the “ Company Subject to Reorganization ” ) to the share warrant holders of the share warrants that remain when the Organization Restructuring Actions become effective ( hereinafter referred to as the “ Remaining Share Warrants ” ) for each case .', 'In this case , the Remaining Share Warrants shall disappear , and the Company Subject to Reorganization shall issue new share warrants .', 'However , this shall be limited to cases where a provision to the effect that the share warrants of the Company Subject to Reorganization shall be delivered in accordance with the conditions below is set forth in the absorption - type merger agreement , the consolidation - type merger agreement , the absorption - type company split agreement , the incorporation - type company split agreement , the share exchange agreement or the share transfer plan .', 'The same number as the number of share warrants held by the share warrant holders of the Remaining Share Warrants shall be delivered in each case .', 'It will be determined by taking into consideration the conditions , etc. of the Organization Restructuring Actions .', 'The period when share warrants can be exercised shall be from the date of commencement of the period when share warrants for subscription can be exercised , or the effective date of the Organization Restructuring Actions , whichever comes later , to the expiration date of the period when share warrants for subscription can be exercised .', 'The acquisition of share warrants by transfer shall require the approval by the resolution of the Board of Director of the Company Subject to Reorganization .', 'Stock options existed in the fiscal year under review ( ended March 31 , 2020 ) .', 'The number of stock options is converted to the number of shares .', 'There were no new stock options granted in the current consolidated fiscal year .', 'Since it is inherently difficult to estimate the number of stock options expected to expire , only the actual number of stock options that have expired is reflected .', 'Valuation reserves increased ¥ 966 million from the previous consolidated fiscal year .', 'The major factor for the increase was an increase in the valuation reserve pertaining to tax loss carried forward at the domestic subsidiary .', 'The Company has omitted notes for asset retirement obligations because the Company believes there is a bit significant need in this report for such disclosure .', 'The Company has omitted notes for rental properties because the Company believes there is a bit significant need in this report for such disclosure .', 'The reported segments of the Company are those units for which separate financial information can be obtained among the constituent units of the Company and for which the Board of Directors of the Company regularly carries out examinations to determine the allocation of management resources and assess the business performance .', 'The Company manages the Die Casting Business , the Aluminum Business , and the Proprietary Products Business .', 'In the Die Casting Business , the Company develops comprehensive strategies by regions : Japan , North America , and Asia , and is engaged in business activities accordingly .', 'As a result , the Company has five reported segments : Die Casting Business : Japan , Die Casting Business : North America , Die Casting Business : Asia , Aluminum Business , and Proprietary Products Business .', 'Profits in the reported segments are figures based on operating income .', 'Intersegment sales and transfers are based on current market values .', 'The statement is omitted because the same information is presented in segment information .', 'For fully diluted net income per share , no figure is recorded for the fiscal year under review as it is a net loss per share , although latent shares exist .', 'At its meeting held on July 22 , 2020 , the Board of Directors of the Company passed a resolution on the disposition of treasury shares ( hereinafter the “ Disposition of Treasury Shares ” ) as stock compensation as follows .', 'At its meeting held on May 30 , 2018 , the Board of Directors of the Company resolved to introduce a restricted stock compensation plan ( hereinafter the “ Plan ” ) as a new compensation plan for the directors ( excluding independent directors , hereinafter the “ Target Directors ” ) and executive officers of the Company for the purpose of providing them with an incentive to work on the sustainable enhancement of the Company ’s corporate value , further promoting the sharing of value with shareholders , and further increasing the linkage with mediumto long - term performance targets .', 'At its meeting held on July 22 , 2020 , the Board of Directors of the Company passed the following resolution : Based on the plan , the Company will provide a monetary compensation claim to the Target Directors and executive officers , and the Target Directors and executive officers will pay all of the monetary compensation claims as in - kind contributions .', 'The Company will then subscribe for its common shares to be allotted with the Disposition of Treasury Shares .', 'The Target Directors and executive officers will pay all of the monetary compensation claims provided to them based on the Plan as in - kind contributions and will receive the issuance or disposition of the Company ’s common shares .', 'The total number of common shares that the Company will issue or dispose of to the Target Directors based on the Plan will be 240,000 shares or less , and the amount to be paid in per share will be the closing price of the Company ’s common shares at the Tokyo Stock Exchange on the business day before the date of resolution at the Board of Directors ’ meeting ( if the transaction is not closed on that day , the closing price on the transaction date immediately prior to that day ) .', 'For the issuance or disposition of the Company ’s common shares based on the Plan , the Company will enter into a restricted share allotment contract ( hereinafter the “ Allotment Contract ” ) with the Target Directors and executive officers , and its content will include the following : ( 1 ) The Target Directors and executive officers may not transfer , hypothecate or otherwise dispose of the Company ’s common shares allotted to them under the Allotment Contract for a certain period of time ; and ( 2 ) If a certain event occurs , the Company will acquire its common shares without compensation .', 'This time , the Company has decided to give the Target Directors and executive officers monetary compensation claims of ¥ 56 million in total and 156,541 shares of its common stock based on the resolution made at the Board of Directors meeting held on July 22 , 2020 for the purpose of promoting talented human resources as an officer and further motivating each Target Director and executive officer , taking into consideration the purpose of the Plan , the business performance of the Company , the degree of contribution of each Target Director and executive officer , the scope of their work responsibilities , and various other circumstances .', 'Production results by segment for the past two consolidated fiscal years are shown below .', 'Monetary amounts are based on manufacturing costs , as available prior to inter-segment eliminations .', 'Consumption tax is not included in these amounts .', 'A significant part or our businesses depends on make - to - stock production based on informal orders received from customers , which are delivered ( and sales recorded ) for formal orders received several days prior to the date of delivery .', 'Therefore the listing of results on orders received has been omitted .', 'Sales results by business segment for the past two consolidated fiscal years are shown below .', 'Customer Amount ( ¥ millions ) % 3 .', 'Consumption tax is not included in the above amounts .', 'The Tag line “ Casting Our Eyes on the Future ” embodies our business attitude of always moving forward by taking the initiative in Research and Development , Service and Technology and by keeping all of our attention here at Ahresty focused on our customers , the global environment and the future of Ahresty itself , to realize the corporate philosophy represented in our name .', 'The word “ Casting ” in the Tag line combines the meaning of “ to throw one ’s gaze ” with its other meaning of “ to shape molten metal in a mold ” which is our main line of business , die casting .']\n",
            "{'1': [0, 0, 0, 0, 0, 0, 0, 0, 0, 0, 0, 0, 0, 0, 0, 0, 0, 0, 0, 0, 0, 0, 0, 0, 0, 0, 0, 0, 0, 0, 0, 0, 0, 0, 0, 0, 0, 0, 0, 0, 0, 0, 0, 0, 0, 0, 0, 0, 0, 0, 0, 0, 0, 0, 0, 0, 0, 0, 0, 0, 0, 0, 0, 0, 0, 0, 0, 0, 0, 0, 0, 0, 0, 0, 0, 0, 0, 0, 0, 0, 0, 0, 0, 0, 0, 0, 0, 0, 0, 0, 0, 0, 0, 0, 0, 0, 0, 0, 0, 0, 0, 0, 0, 0, 0, 0, 0, 0, 0, 0, 0, 0, 0, 0, 0, 0, 0, 0, 0, 0, 0, 0, 0, 0, 0, 0, 0, 0, 0, 0, 0, 0, 0, 0, 0, 0, 0, 0, 0, 0, 0, 0, 0, 0, 0, 0, 0, 0, 0, 0, 0, 0, 0, 0, 0, 0, 0, 0, 0, 0, 0, 0, 0, 0, 0, 0, 0, 0, 0, 0, 0, 0, 0, 0, 0, 0, 0, 0, 0, 0, 0, 0, 0, 0, 0, 0, 0, 0, 0, 0, 0, 0, 0, 0, 0, 0, 0, 0, 0, 0, 0, 0, 0, 0, 0, 0, 0, 0, 0, 0, 0, 0, 0, 0, 0, 0, 0, 0, 0, 0, 0, 0, 0, 0, 0, 0, 0, 0, 0, 0, 0, 0, 0, 0, 0, 0, 0, 0, 0, 0, 0, 0, 0, 0, 0, 0, 0, 0, 0, 0, 0, 0, 0, 0, 0, 0, 0, 0, 0, 0, 0, 0, 0, 0, 0, 0, 0, 0, 0, 0, 0, 0, 0, 0, 0, 0, 0, 0, 0, 0, 0, 0, 0, 0, 0, 0, 0, 0, 0, 0, 0, 0, 0, 0, 0, 0, 0, 0, 0, 0, 0, 0, 0, 0, 0, 0, 0, 0, 0, 0, 0, 0, 0, 0, 0, 0, 0, 0, 0, 0, 0, 0, 0, 0, 0, 0, 0, 0, 0, 0, 0, 0, 0, 0, 0, 0, 0, 0, 0, 0, 0, 0, 0, 0, 0, 0, 0, 0, 0, 0, 0, 0, 0, 0, 0, 0, 0, 0, 0, 0, 0, 0, 0, 0, 0, 0, 0, 0, 0, 0, 0, 0, 0, 0, 0, 0, 0, 0, 0, 0, 0, 0, 0, 0, 0, 0, 0, 0, 0, 0, 0, 0, 0, 0, 0, 0, 0, 0, 0, 0, 0, 0, 0, 0, 0, 0, 0, 0, 0, 0, 0, 0, 0, 0, 0, 0, 0, 0, 0, 0, 0, 0, 0, 0, 0, 0, 0, 0, 0, 0, 0, 0, 0, 0, 0, 0, 0, 0, 0, 0, 0, 0, 0, 0, 0, 0, 0, 0, 0, 0, 0, 0, 0, 0, 0, 0, 0, 0, 0, 0, 0, 0, 0, 0, 0, 0, 0, 0, 0, 0, 0, 0, 0, 0, 0, 0, 0, 0, 0, 0, 0, 0, 0, 0, 0, 0, 0, 0, 0, 0, 0, 0, 0, 0, 0, 0, 0, 0, 0, 0, 0, 0, 0, 0, 0, 0, 0, 0, 0, 0, 0, 0, 0, 0, 0, 0, 0, 0, 0, 0, 0, 0, 0, 0, 0, 0, 0, 0, 0, 0, 0, 0, 0, 0, 0, 0], '2': [0, 0, 0, 0, 0, 0, 0, 0, 0, 0, 0, 0, 0, 0, 0, 0, 0, 0, 0, 0, 0, 0, 0, 0, 0, 0, 0, 0, 0, 0, 0, 0, 0, 0, 0, 0, 0, 0, 0, 0, 0, 0, 0, 0, 0, 0, 0, 0, 0, 0, 0, 0, 0, 0, 0, 0, 0, 0, 0, 0, 0, 0, 0, 0, 0, 0, 0, 0, 0, 0, 0, 0, 0, 0, 0, 0, 0, 0, 0, 0, 0, 0, 0, 0, 0, 0, 0, 0, 0, 0, 0, 0, 0, 0, 0, 0, 0, 0, 0, 0, 0, 0, 0, 0, 0, 0, 0, 0, 0, 0, 0, 0, 0, 0, 0, 0, 0, 0, 0, 0, 0, 0, 0, 0, 0, 0, 0, 0, 0, 0, 0, 0, 0, 0, 0, 0, 0, 0, 0, 0, 0, 0, 0, 0, 0, 0, 0, 0, 0, 0, 0, 0, 0, 0, 0, 0, 0, 0, 0, 0, 0, 0, 0, 0, 0, 0, 0, 0, 0, 0, 0, 0, 0, 0, 0, 0, 0, 0, 0, 0, 0, 0, 0, 0, 0, 0, 0, 0, 0, 0, 0, 0, 0, 0, 0, 0, 0, 0, 0, 0, 0, 0, 0, 0, 0, 0, 0, 0, 0, 0, 0, 0, 0, 0, 0, 0, 0, 0, 0, 0, 0, 0, 0, 0, 0, 0, 0, 0, 0, 0, 0, 0, 0, 0, 0, 0, 0, 0, 0, 0, 0, 0, 0, 0, 0, 0, 0, 0, 0, 0, 0, 0, 0, 0, 0, 0, 0, 0, 0, 0, 0, 0, 0, 0, 0, 0, 0, 0, 0, 0, 0, 0, 0, 0, 0, 0, 0, 0, 0, 0, 0, 0, 0, 0, 0, 0, 0, 0, 0, 0, 0, 0, 0, 0, 0, 0, 0, 0, 0, 0, 0, 0, 0, 0, 0, 0, 0, 0, 0, 0, 0, 0, 0, 0, 0, 0, 0, 0, 0, 0, 0, 0, 0, 0, 0, 0, 0, 0, 0, 0, 0, 0, 0, 0, 0, 0, 0, 0, 0, 0, 0, 0, 0, 0, 0, 0, 0, 0, 0, 0, 0, 0, 0, 0, 0, 0, 0, 0, 0, 0, 0, 0, 0, 0, 0, 0, 0, 0, 0, 0, 0, 0, 0, 0, 0, 0, 0, 0, 0, 0, 0, 0, 0, 0, 0, 0, 0, 0, 0, 0, 0, 0, 0, 0, 0, 0, 0, 0, 0, 0, 0, 0, 0, 0, 0, 0, 0, 0, 0, 0, 0, 0, 0, 0, 0, 0, 0, 0, 0, 0, 0, 0, 0, 0, 0, 0, 0, 0, 0, 0, 0, 0, 0, 0, 0, 0, 0, 0, 0, 0, 0, 0, 0, 0, 0, 0, 0, 0, 0, 0, 0, 0, 0, 0, 0, 0, 0, 0, 0, 0, 0, 0, 0, 0, 0, 0, 0, 0, 0, 0, 0, 0, 0, 0, 0, 0, 0, 0, 0, 0, 0, 0, 0, 0, 0, 0, 0, 0, 0, 0, 0, 0, 0, 0, 0, 0, 0, 0, 0, 0, 0, 0, 0, 0, 0, 0, 0, 0, 0, 0, 0, 0, 0, 0, 0, 0, 0, 0, 0, 0, 0, 0, 0, 0, 0, 0, 0, 0, 0, 0, 0, 0, 0, 0, 0, 0], '3': [0, 0, 0, 0, 0, 0, 0, 0, 0, 0, 0, 0, 0, 0, 0, 0, 0, 0, 0, 0, 0, 0, 0, 0, 0, 0, 0, 0, 0, 0, 0, 0, 0, 0, 0, 0, 0, 0, 0, 0, 0, 0, 0, 0, 0, 0, 0, 0, 0, 0, 0, 0, 0, 0, 0, 0, 0, 0, 0, 0, 0, 0, 0, 0, 0, 0, 0, 0, 0, 0, 0, 0, 0, 0, 0, 0, 0, 0, 0, 0, 0, 0, 0, 0, 0, 0, 0, 0, 0, 0, 0, 0, 0, 0, 0, 0, 0, 0, 0, 0, 0, 0, 0, 0, 0, 0, 0, 0, 0, 0, 0, 0, 0, 0, 0, 0, 0, 0, 0, 0, 0, 0, 0, 0, 0, 0, 0, 0, 0, 0, 0, 0, 0, 0, 0, 0, 0, 0, 0, 0, 0, 0, 0, 0, 0, 0, 0, 0, 0, 0, 0, 0, 0, 0, 0, 0, 0, 0, 0, 0, 0, 0, 0, 0, 0, 0, 0, 0, 0, 0, 0, 0, 0, 0, 0, 0, 0, 0, 0, 0, 0, 0, 0, 0, 0, 0, 0, 0, 0, 0, 0, 0, 0, 0, 0, 0, 0, 0, 0, 0, 0, 0, 0, 0, 0, 0, 0, 0, 0, 0, 0, 0, 0, 0, 0, 0, 0, 0, 0, 0, 0, 0, 0, 0, 0, 0, 0, 0, 0, 0, 0, 0, 0, 0, 0, 0, 0, 0, 0, 0, 0, 0, 0, 0, 0, 0, 0, 0, 0, 0, 0, 0, 0, 0, 0, 0, 0, 0, 0, 0, 0, 0, 0, 0, 0, 0, 0, 0, 0, 0, 0, 0, 0, 0, 0, 0, 0, 0, 0, 0, 0, 0, 1, 1, 1, 1, 1, 1, 1, 1, 1, 1, 1, 1, 1, 1, 1, 1, 1, 1, 1, 1, 1, 1, 0, 0, 0, 0, 0, 0, 0, 0, 0, 0, 0, 0, 0, 0, 0, 0, 0, 0, 0, 0, 0, 0, 0, 0, 0, 0, 0, 0, 0, 0, 0, 0, 0, 0, 0, 0, 0, 0, 0, 0, 0, 0, 0, 0, 0, 0, 0, 0, 0, 0, 0, 0, 0, 0, 0, 0, 0, 0, 0, 0, 0, 0, 0, 0, 0, 0, 0, 0, 0, 0, 0, 0, 0, 0, 0, 0, 0, 0, 0, 0, 0, 0, 0, 0, 0, 0, 0, 0, 0, 0, 0, 0, 0, 0, 0, 0, 0, 0, 0, 0, 0, 0, 0, 0, 0, 0, 0, 0, 0, 0, 0, 0, 0, 0, 0, 0, 0, 0, 0, 0, 0, 0, 0, 0, 0, 0, 0, 0, 0, 0, 0, 0, 0, 0, 0, 0, 0, 0, 0, 0, 0, 0, 0, 0, 0, 0, 0, 0, 0, 0, 0, 0, 0, 0, 0, 0, 0, 0, 0, 0, 0, 0, 0, 0, 0, 0, 0, 0, 0, 0, 0, 0, 0, 0, 0, 0, 0, 0, 0, 0, 0, 0, 0, 0, 0, 0, 0, 0, 0, 0, 0, 0, 0, 0, 0, 0, 0, 0, 0, 0, 0, 0, 0, 0, 0, 0, 0, 0, 0, 0, 0, 0, 0, 0, 0, 0, 0, 0, 0, 0, 0, 0, 0, 0, 0, 0, 0, 0, 0, 0, 0, 0], '4': [0, 0, 0, 0, 0, 0, 0, 0, 0, 0, 0, 0, 0, 0, 0, 0, 0, 0, 0, 0, 0, 0, 0, 0, 0, 0, 0, 0, 0, 0, 0, 0, 0, 0, 0, 0, 0, 0, 0, 0, 0, 0, 0, 0, 0, 0, 0, 0, 0, 0, 0, 0, 0, 0, 0, 0, 0, 0, 0, 0, 0, 0, 0, 0, 0, 0, 0, 0, 0, 0, 0, 0, 0, 0, 0, 0, 0, 0, 0, 0, 0, 0, 0, 0, 0, 0, 0, 0, 0, 0, 0, 0, 0, 0, 0, 0, 0, 0, 0, 0, 0, 0, 0, 0, 0, 0, 0, 0, 0, 0, 0, 0, 0, 0, 0, 0, 0, 1, 1, 1, 1, 1, 1, 1, 1, 1, 1, 1, 1, 1, 0, 0, 0, 0, 0, 0, 0, 0, 0, 0, 0, 0, 0, 0, 0, 0, 0, 0, 0, 0, 0, 0, 0, 0, 0, 0, 0, 0, 0, 0, 0, 0, 0, 0, 0, 0, 0, 0, 0, 0, 0, 0, 0, 0, 0, 0, 0, 0, 0, 0, 0, 0, 0, 0, 0, 0, 0, 0, 0, 0, 0, 0, 0, 0, 0, 0, 0, 0, 0, 0, 0, 0, 0, 0, 0, 0, 0, 0, 0, 0, 0, 0, 0, 0, 0, 0, 0, 0, 0, 0, 0, 0, 0, 0, 0, 0, 0, 0, 0, 0, 0, 0, 0, 0, 0, 0, 0, 0, 0, 0, 0, 0, 0, 0, 0, 0, 0, 0, 0, 0, 0, 0, 0, 1, 1, 1, 1, 1, 1, 1, 1, 1, 1, 1, 1, 1, 1, 1, 1, 1, 1, 1, 1, 1, 1, 1, 1, 1, 1, 1, 1, 1, 0, 0, 0, 0, 0, 0, 0, 0, 0, 0, 0, 0, 0, 0, 0, 0, 0, 0, 0, 0, 0, 0, 0, 0, 0, 0, 0, 0, 0, 0, 0, 0, 0, 0, 0, 0, 0, 0, 0, 0, 0, 0, 0, 0, 0, 0, 0, 0, 0, 0, 0, 0, 0, 0, 0, 0, 0, 0, 0, 0, 0, 0, 0, 0, 0, 0, 0, 0, 0, 0, 0, 0, 0, 0, 0, 0, 0, 0, 0, 0, 0, 0, 0, 0, 0, 0, 0, 0, 0, 0, 0, 0, 0, 0, 0, 0, 0, 0, 0, 0, 0, 0, 0, 0, 0, 0, 0, 0, 0, 0, 0, 0, 0, 0, 0, 0, 0, 0, 0, 0, 0, 0, 0, 0, 0, 0, 0, 0, 0, 0, 0, 0, 0, 0, 0, 0, 0, 0, 0, 0, 0, 0, 0, 0, 0, 0, 0, 0, 0, 0, 0, 0, 0, 0, 0, 0, 0, 0, 0, 0, 0, 0, 0, 0, 0, 0, 0, 0, 0, 0, 0, 0, 0, 0, 0, 0, 0, 0, 0, 0, 0, 0, 0, 0, 0, 0, 0, 0, 0, 0, 0, 0, 0, 0, 0, 0, 0, 0, 0, 0, 0, 0, 0, 0, 0, 0, 0, 0, 0, 0, 0, 0, 0, 0, 0, 0, 0, 0, 0, 0, 0, 0, 0, 0, 0, 0, 0, 0, 0, 0, 0, 0, 0, 0, 0, 0, 0, 0, 0, 0, 0, 0, 0, 0, 0, 0, 0, 0, 0, 0, 0, 0, 0, 0], '5': [0, 0, 0, 0, 0, 0, 0, 0, 0, 0, 0, 0, 0, 0, 0, 0, 0, 0, 0, 0, 0, 0, 0, 0, 0, 0, 0, 0, 0, 0, 0, 0, 0, 0, 0, 0, 0, 0, 0, 0, 0, 0, 0, 0, 0, 0, 0, 0, 0, 0, 0, 0, 0, 0, 0, 0, 0, 0, 0, 0, 0, 0, 0, 0, 0, 0, 0, 0, 0, 0, 0, 0, 0, 0, 0, 0, 0, 0, 0, 0, 0, 0, 0, 0, 0, 0, 0, 0, 0, 0, 0, 0, 0, 0, 0, 0, 0, 0, 0, 0, 0, 0, 0, 0, 0, 0, 0, 0, 0, 0, 0, 0, 0, 0, 0, 0, 0, 0, 0, 0, 0, 0, 0, 0, 0, 0, 0, 0, 0, 0, 0, 0, 0, 0, 0, 0, 0, 0, 0, 0, 0, 0, 0, 0, 0, 0, 0, 0, 0, 0, 0, 0, 0, 0, 0, 0, 0, 0, 0, 0, 0, 0, 0, 0, 0, 0, 0, 0, 0, 0, 0, 0, 0, 0, 0, 0, 0, 0, 0, 0, 0, 0, 0, 0, 0, 0, 0, 0, 0, 0, 0, 0, 0, 0, 0, 0, 0, 0, 0, 0, 0, 0, 0, 0, 0, 0, 0, 0, 0, 0, 0, 0, 0, 0, 0, 0, 0, 0, 0, 0, 0, 0, 0, 0, 0, 0, 0, 0, 0, 0, 0, 0, 0, 0, 0, 0, 0, 0, 0, 0, 0, 0, 0, 0, 0, 0, 0, 0, 0, 0, 0, 0, 0, 0, 0, 0, 0, 0, 0, 0, 0, 0, 0, 0, 0, 0, 0, 0, 0, 0, 0, 0, 0, 0, 0, 0, 0, 0, 0, 0, 0, 0, 0, 0, 0, 0, 0, 0, 0, 0, 0, 0, 0, 0, 0, 0, 0, 0, 0, 0, 0, 0, 0, 0, 0, 0, 0, 0, 0, 0, 0, 0, 0, 0, 0, 0, 0, 0, 0, 0, 0, 0, 0, 0, 0, 0, 0, 0, 0, 0, 0, 0, 0, 0, 0, 0, 0, 0, 0, 0, 0, 0, 0, 0, 0, 0, 0, 0, 0, 0, 0, 0, 0, 0, 0, 0, 0, 0, 0, 0, 0, 0, 0, 0, 0, 0, 0, 0, 0, 0, 0, 0, 0, 0, 0, 0, 0, 0, 0, 0, 0, 0, 0, 0, 0, 0, 0, 0, 0, 0, 0, 0, 0, 0, 0, 0, 0, 0, 0, 0, 0, 0, 0, 0, 0, 0, 0, 0, 0, 0, 0, 0, 0, 0, 0, 0, 0, 0, 0, 0, 0, 0, 0, 0, 0, 0, 0, 0, 0, 0, 0, 0, 0, 0, 0, 0, 0, 0, 0, 0, 0, 0, 0, 0, 0, 0, 0, 0, 0, 0, 0, 0, 0, 0, 0, 0, 0, 0, 0, 0, 0, 0, 0, 0, 0, 0, 0, 0, 0, 0, 0, 0, 0, 0, 0, 0, 0, 0, 0, 0, 0, 0, 0, 0, 0, 0, 0, 0, 0, 0, 0, 0, 0, 0, 0, 0, 0, 0, 0, 0, 0, 0, 0, 0, 0, 0, 0, 0, 0, 0, 0, 0, 0, 0, 0, 0, 0, 0, 0, 0, 0, 0, 0, 0, 0, 0, 0, 0, 0, 0, 0, 0, 0, 0, 0, 0], '6': [0, 0, 0, 0, 0, 0, 0, 0, 0, 0, 0, 0, 0, 0, 0, 0, 0, 0, 0, 0, 0, 0, 0, 0, 0, 0, 0, 0, 0, 0, 0, 0, 0, 0, 0, 0, 0, 0, 0, 0, 0, 0, 0, 0, 0, 0, 0, 0, 0, 0, 0, 0, 0, 0, 0, 0, 0, 0, 0, 0, 0, 0, 0, 0, 0, 0, 0, 0, 0, 0, 0, 0, 0, 0, 0, 0, 0, 0, 0, 0, 0, 0, 0, 0, 0, 0, 0, 0, 0, 0, 0, 0, 0, 0, 0, 0, 0, 0, 0, 0, 0, 0, 0, 0, 0, 0, 0, 0, 0, 0, 0, 0, 0, 0, 0, 0, 0, 0, 0, 0, 0, 0, 0, 0, 0, 0, 0, 0, 0, 0, 0, 0, 0, 0, 0, 0, 0, 0, 0, 0, 0, 0, 0, 0, 0, 0, 0, 0, 0, 0, 0, 0, 0, 0, 0, 0, 0, 0, 0, 0, 0, 0, 0, 0, 0, 0, 0, 0, 0, 0, 0, 0, 0, 0, 0, 0, 0, 0, 0, 0, 0, 0, 0, 0, 0, 0, 0, 0, 0, 0, 0, 0, 0, 0, 0, 0, 0, 0, 0, 0, 0, 0, 0, 0, 0, 0, 0, 0, 0, 0, 0, 0, 0, 0, 0, 0, 0, 0, 0, 0, 0, 0, 0, 0, 0, 0, 0, 0, 0, 0, 0, 0, 0, 0, 0, 0, 0, 0, 0, 0, 0, 0, 0, 0, 0, 0, 0, 0, 0, 0, 0, 0, 0, 0, 0, 0, 0, 0, 0, 0, 0, 0, 0, 0, 0, 0, 0, 0, 0, 0, 0, 0, 0, 0, 0, 0, 0, 0, 0, 0, 0, 0, 1, 1, 1, 1, 1, 1, 1, 1, 1, 1, 1, 1, 1, 1, 1, 1, 1, 1, 1, 1, 1, 1, 0, 0, 0, 0, 0, 0, 0, 0, 0, 0, 0, 0, 0, 0, 0, 0, 0, 0, 0, 0, 0, 0, 0, 0, 0, 0, 0, 0, 0, 0, 0, 0, 0, 0, 0, 0, 0, 0, 0, 0, 0, 0, 0, 0, 0, 0, 0, 0, 0, 0, 0, 0, 0, 0, 0, 0, 0, 0, 0, 0, 0, 0, 0, 0, 0, 0, 0, 0, 0, 0, 0, 0, 0, 0, 0, 0, 0, 0, 0, 0, 0, 0, 0, 0, 0, 0, 0, 0, 0, 0, 0, 0, 0, 0, 0, 0, 0, 0, 0, 0, 0, 0, 0, 0, 0, 0, 0, 0, 0, 0, 0, 0, 0, 0, 0, 0, 0, 0, 0, 0, 0, 0, 0, 0, 0, 0, 0, 0, 0, 0, 0, 0, 0, 0, 0, 0, 0, 0, 0, 0, 0, 0, 0, 0, 0, 0, 0, 0, 0, 0, 0, 0, 0, 0, 0, 0, 0, 0, 0, 0, 0, 0, 0, 0, 0, 0, 0, 0, 0, 0, 0, 0, 0, 0, 0, 0, 0, 0, 0, 0, 0, 0, 0, 0, 0, 0, 0, 0, 0, 0, 0, 0, 0, 0, 0, 0, 0, 0, 0, 0, 0, 0, 0, 0, 0, 0, 0, 0, 0, 0, 0, 0, 0, 0, 0, 0, 0, 0, 0, 0, 0, 0, 0, 0, 0, 0, 0, 0, 0, 0, 0, 0], '7': [0, 0, 0, 0, 0, 0, 0, 0, 0, 0, 0, 0, 0, 0, 0, 0, 0, 0, 0, 0, 0, 0, 0, 0, 0, 0, 0, 0, 0, 0, 0, 0, 0, 0, 0, 0, 0, 0, 0, 0, 0, 0, 0, 0, 0, 0, 0, 0, 0, 0, 0, 0, 0, 0, 0, 0, 0, 0, 0, 0, 0, 0, 0, 0, 0, 0, 0, 0, 0, 0, 0, 0, 0, 0, 0, 0, 0, 0, 0, 0, 0, 0, 0, 0, 0, 0, 0, 0, 0, 0, 0, 0, 0, 0, 0, 0, 0, 0, 0, 0, 0, 0, 1, 1, 1, 1, 1, 1, 1, 1, 1, 1, 1, 1, 1, 1, 1, 0, 0, 0, 0, 0, 0, 0, 0, 0, 0, 0, 0, 0, 0, 0, 0, 0, 0, 0, 0, 0, 0, 0, 0, 0, 0, 0, 0, 0, 0, 0, 0, 0, 0, 0, 0, 0, 0, 0, 0, 0, 0, 0, 0, 0, 0, 0, 0, 0, 0, 0, 0, 0, 0, 0, 0, 0, 0, 0, 1, 1, 1, 1, 1, 1, 1, 1, 0, 0, 0, 0, 0, 0, 0, 0, 0, 0, 0, 0, 0, 0, 0, 0, 0, 0, 0, 0, 0, 0, 0, 0, 0, 0, 0, 0, 0, 0, 0, 0, 0, 0, 0, 0, 0, 0, 0, 0, 0, 0, 0, 0, 0, 0, 0, 0, 0, 0, 0, 0, 0, 0, 0, 0, 0, 0, 0, 0, 0, 0, 0, 0, 0, 0, 0, 0, 0, 0, 0, 0, 0, 0, 0, 0, 0, 0, 0, 0, 0, 0, 0, 0, 0, 0, 0, 0, 0, 0, 0, 0, 0, 0, 0, 0, 0, 0, 1, 1, 1, 1, 1, 1, 1, 1, 1, 1, 1, 1, 1, 1, 1, 1, 1, 1, 1, 1, 1, 1, 0, 0, 0, 0, 0, 0, 0, 0, 0, 0, 0, 0, 0, 0, 0, 0, 0, 0, 0, 0, 0, 0, 0, 0, 0, 0, 0, 0, 0, 0, 0, 0, 0, 0, 0, 0, 0, 0, 0, 0, 0, 0, 0, 0, 0, 0, 0, 0, 0, 0, 0, 0, 0, 0, 0, 0, 0, 0, 0, 0, 0, 0, 0, 0, 0, 0, 0, 0, 0, 0, 0, 0, 0, 0, 0, 0, 0, 0, 0, 0, 0, 0, 0, 0, 0, 0, 0, 0, 0, 0, 0, 0, 0, 0, 0, 0, 0, 0, 0, 0, 0, 0, 0, 0, 0, 0, 0, 0, 0, 0, 0, 0, 0, 0, 0, 0, 0, 0, 0, 0, 0, 0, 0, 0, 0, 0, 0, 0, 0, 0, 0, 0, 0, 0, 0, 0, 0, 0, 0, 0, 0, 0, 0, 0, 0, 0, 0, 0, 0, 0, 0, 0, 0, 0, 0, 0, 0, 0, 0, 0, 0, 0, 0, 0, 0, 0, 0, 0, 0, 0, 0, 0, 0, 0, 0, 0, 0, 0, 0, 0, 0, 0, 0, 0, 0, 0, 0, 0, 0, 0, 0, 0, 0, 0, 0, 0, 0, 0, 0, 0, 0, 0, 0, 0, 0, 0, 0, 0, 0, 0, 0, 0, 0, 0, 0, 0, 0, 0, 0, 0, 0, 0, 0, 0, 0, 0, 0, 0, 0, 0, 0, 0], '8': [0, 0, 0, 0, 0, 0, 0, 0, 0, 0, 0, 0, 0, 0, 0, 0, 0, 0, 0, 0, 0, 0, 0, 0, 0, 0, 0, 0, 0, 0, 0, 0, 0, 0, 0, 0, 0, 0, 0, 0, 0, 0, 0, 0, 0, 0, 0, 0, 0, 0, 0, 0, 0, 0, 0, 0, 0, 0, 0, 0, 0, 0, 0, 0, 0, 0, 0, 0, 0, 0, 0, 0, 0, 0, 0, 0, 0, 0, 0, 0, 0, 0, 0, 0, 0, 0, 0, 0, 0, 0, 0, 0, 0, 0, 0, 0, 0, 0, 0, 0, 0, 0, 0, 0, 0, 0, 0, 0, 0, 0, 0, 0, 0, 0, 0, 0, 0, 1, 1, 1, 1, 1, 1, 1, 1, 1, 1, 1, 1, 1, 0, 0, 0, 0, 0, 0, 0, 0, 0, 0, 0, 0, 0, 0, 0, 0, 0, 0, 0, 0, 0, 0, 0, 0, 0, 0, 0, 0, 0, 0, 0, 0, 0, 0, 0, 0, 0, 0, 0, 0, 0, 0, 0, 0, 0, 0, 0, 0, 0, 0, 0, 0, 0, 0, 0, 0, 0, 0, 0, 0, 0, 0, 0, 0, 0, 0, 0, 0, 0, 0, 0, 0, 0, 0, 0, 0, 0, 0, 0, 0, 0, 0, 0, 0, 0, 0, 0, 0, 0, 0, 0, 0, 0, 0, 0, 0, 0, 0, 0, 0, 0, 0, 0, 0, 0, 0, 0, 0, 0, 0, 0, 0, 0, 0, 0, 0, 0, 0, 0, 0, 0, 0, 0, 1, 1, 1, 1, 1, 1, 1, 1, 1, 1, 1, 1, 1, 1, 1, 1, 1, 1, 1, 1, 1, 1, 1, 1, 1, 1, 1, 1, 1, 0, 0, 0, 0, 0, 0, 0, 0, 0, 0, 0, 0, 0, 0, 0, 0, 0, 0, 0, 0, 0, 0, 0, 0, 0, 0, 0, 0, 0, 0, 0, 0, 0, 0, 0, 0, 0, 0, 0, 0, 0, 0, 0, 0, 0, 0, 0, 0, 0, 0, 0, 0, 0, 0, 0, 0, 0, 0, 0, 0, 0, 0, 0, 0, 0, 0, 0, 0, 0, 0, 0, 0, 0, 0, 0, 0, 0, 0, 0, 0, 0, 0, 0, 0, 0, 0, 0, 0, 0, 0, 0, 0, 0, 0, 0, 0, 0, 0, 0, 0, 0, 0, 0, 0, 0, 0, 0, 0, 0, 0, 0, 0, 0, 0, 0, 0, 0, 0, 0, 0, 0, 0, 0, 0, 0, 0, 0, 0, 0, 0, 0, 0, 0, 0, 0, 0, 0, 0, 0, 0, 0, 0, 0, 0, 0, 0, 0, 0, 0, 0, 0, 0, 0, 0, 0, 0, 0, 0, 0, 0, 0, 0, 0, 0, 0, 0, 0, 0, 0, 0, 0, 0, 0, 0, 0, 0, 0, 0, 0, 0, 0, 0, 0, 0, 0, 0, 0, 0, 0, 0, 0, 0, 0, 0, 0, 0, 0, 0, 0, 0, 0, 0, 0, 0, 0, 0, 0, 0, 0, 0, 0, 0, 0, 0, 0, 0, 0, 0, 0, 0, 0, 0, 0, 0, 0, 0, 0, 0, 0, 0, 0, 0, 0, 0, 0, 0, 0, 0, 0, 0, 0, 0, 0, 0, 0, 0, 0, 0, 0, 0, 0, 0, 0, 0], '9': [0, 0, 0, 0, 0, 0, 0, 0, 0, 0, 0, 0, 0, 0, 0, 0, 0, 0, 0, 0, 0, 0, 0, 0, 0, 0, 0, 0, 0, 0, 0, 0, 0, 0, 0, 0, 0, 0, 0, 0, 0, 0, 0, 0, 0, 0, 0, 0, 0, 0, 0, 0, 0, 0, 0, 0, 0, 0, 0, 0, 0, 0, 0, 0, 0, 0, 0, 0, 0, 0, 0, 0, 0, 0, 0, 0, 0, 0, 0, 0, 0, 0, 0, 0, 0, 0, 0, 0, 0, 0, 0, 0, 0, 0, 0, 0, 0, 0, 0, 0, 0, 0, 0, 0, 0, 0, 0, 0, 0, 0, 0, 0, 0, 0, 0, 0, 0, 1, 1, 1, 1, 1, 1, 1, 1, 1, 1, 1, 1, 1, 0, 0, 0, 0, 0, 0, 0, 0, 0, 0, 0, 0, 0, 0, 0, 0, 0, 0, 0, 0, 0, 0, 0, 0, 0, 0, 0, 0, 0, 0, 0, 0, 0, 0, 0, 0, 0, 0, 0, 0, 0, 0, 0, 0, 0, 0, 0, 0, 0, 0, 0, 0, 0, 0, 0, 0, 0, 0, 0, 0, 0, 0, 0, 0, 0, 0, 0, 0, 0, 0, 0, 0, 0, 0, 0, 0, 0, 0, 0, 0, 0, 0, 0, 0, 0, 0, 0, 0, 0, 0, 0, 0, 0, 0, 0, 0, 0, 0, 0, 0, 0, 0, 0, 0, 0, 0, 0, 0, 0, 0, 0, 0, 0, 0, 0, 0, 0, 0, 0, 0, 0, 0, 0, 1, 1, 1, 1, 1, 1, 1, 1, 1, 1, 1, 1, 1, 1, 1, 1, 1, 1, 1, 1, 1, 1, 1, 1, 1, 1, 1, 1, 1, 0, 0, 0, 0, 0, 0, 0, 0, 0, 0, 0, 0, 0, 0, 0, 0, 0, 0, 0, 0, 0, 0, 0, 0, 0, 0, 0, 0, 0, 0, 0, 0, 0, 0, 0, 0, 0, 0, 0, 0, 0, 0, 0, 0, 0, 0, 0, 0, 0, 0, 0, 0, 0, 0, 0, 0, 0, 0, 0, 0, 0, 0, 0, 0, 0, 0, 0, 0, 0, 0, 0, 0, 0, 0, 0, 0, 0, 0, 0, 0, 0, 0, 0, 0, 0, 0, 0, 0, 0, 0, 0, 0, 0, 0, 0, 0, 0, 0, 0, 0, 0, 0, 0, 0, 0, 0, 0, 0, 0, 0, 0, 0, 0, 0, 0, 0, 0, 0, 0, 0, 0, 0, 0, 0, 0, 0, 0, 0, 0, 0, 0, 0, 0, 0, 0, 0, 0, 0, 0, 0, 0, 0, 0, 0, 0, 0, 0, 0, 0, 0, 0, 0, 0, 0, 0, 0, 0, 0, 0, 0, 0, 0, 0, 0, 0, 0, 0, 0, 0, 0, 0, 0, 0, 0, 0, 0, 0, 0, 0, 0, 0, 0, 0, 0, 0, 0, 0, 0, 0, 0, 0, 0, 0, 0, 0, 0, 0, 0, 0, 0, 0, 0, 0, 0, 0, 0, 0, 0, 0, 0, 0, 0, 0, 0, 0, 0, 0, 0, 0, 0, 0, 0, 0, 0, 0, 0, 0, 0, 0, 0, 0, 0, 0, 0, 0, 0, 0, 0, 0, 0, 0, 0, 0, 0, 0, 0, 0, 0, 0, 0, 0, 0, 0, 0], '10': [0, 0, 0, 0, 0, 0, 0, 0, 0, 0, 0, 0, 0, 0, 0, 0, 0, 0, 0, 0, 0, 0, 0, 0, 0, 0, 0, 0, 0, 0, 0, 0, 0, 0, 0, 0, 0, 0, 0, 0, 0, 0, 0, 0, 0, 0, 0, 0, 0, 0, 0, 0, 0, 0, 0, 0, 0, 0, 0, 0, 0, 0, 0, 0, 0, 0, 0, 0, 0, 0, 0, 0, 0, 0, 0, 0, 0, 0, 0, 0, 0, 0, 0, 0, 0, 0, 0, 0, 0, 0, 0, 0, 0, 0, 0, 0, 0, 0, 0, 0, 0, 0, 0, 0, 0, 0, 0, 0, 0, 0, 0, 0, 0, 0, 0, 0, 0, 0, 0, 0, 0, 0, 0, 0, 0, 0, 0, 0, 0, 0, 0, 0, 0, 0, 0, 0, 0, 0, 0, 0, 0, 0, 0, 0, 0, 0, 0, 0, 0, 0, 0, 0, 0, 0, 0, 0, 0, 0, 0, 0, 0, 0, 0, 0, 0, 0, 0, 0, 0, 0, 0, 0, 0, 0, 0, 0, 0, 0, 0, 0, 0, 0, 0, 0, 0, 0, 0, 0, 0, 0, 0, 0, 0, 0, 0, 0, 0, 0, 0, 0, 0, 0, 0, 0, 0, 0, 0, 0, 0, 0, 0, 0, 0, 0, 0, 0, 0, 0, 0, 0, 0, 0, 0, 0, 0, 0, 0, 0, 0, 0, 0, 0, 0, 0, 0, 0, 0, 0, 0, 0, 0, 0, 0, 0, 0, 0, 0, 0, 0, 0, 0, 0, 0, 0, 0, 0, 0, 0, 0, 0, 0, 0, 0, 0, 0, 0, 0, 0, 0, 0, 0, 0, 0, 0, 0, 0, 0, 0, 0, 0, 0, 0, 0, 0, 0, 0, 0, 0, 0, 0, 0, 0, 0, 0, 0, 0, 0, 0, 0, 0, 0, 0, 0, 0, 0, 0, 0, 0, 0, 0, 0, 0, 0, 0, 0, 0, 0, 0, 0, 0, 0, 0, 0, 0, 0, 0, 0, 0, 0, 0, 0, 0, 0, 0, 0, 0, 0, 0, 0, 0, 0, 0, 0, 0, 0, 0, 0, 0, 0, 0, 0, 0, 0, 0, 0, 0, 0, 0, 0, 0, 0, 0, 0, 0, 0, 0, 0, 0, 0, 0, 0, 0, 0, 0, 0, 0, 0, 0, 0, 0, 0, 0, 0, 0, 0, 0, 0, 0, 0, 0, 0, 0, 0, 0, 0, 0, 0, 0, 0, 0, 0, 0, 0, 0, 0, 0, 0, 0, 0, 0, 0, 0, 0, 0, 0, 0, 0, 0, 0, 0, 0, 0, 0, 0, 0, 0, 0, 0, 0, 0, 0, 0, 0, 0, 0, 0, 0, 0, 0, 0, 0, 0, 0, 0, 0, 0, 0, 0, 0, 0, 0, 0, 0, 0, 0, 0, 0, 0, 0, 0, 0, 0, 0, 0, 0, 0, 0, 0, 0, 0, 0, 0, 0, 0, 0, 0, 0, 0, 0, 0, 0, 0, 0, 0, 0, 0, 0, 0, 0, 0, 0, 0, 0, 0, 0, 0, 0, 0, 0, 0, 0, 0, 0, 0, 0, 0, 0, 0, 0, 0, 0, 0, 0, 0, 0, 0, 0, 0, 0, 0, 0, 0, 0, 0, 0, 0, 0, 0, 0, 0, 0, 0, 0, 0, 0, 0], '11': [0, 0, 0, 0, 0, 0, 0, 0, 0, 0, 0, 0, 0, 0, 0, 0, 0, 0, 0, 0, 0, 0, 0, 0, 0, 0, 0, 0, 0, 0, 0, 0, 0, 0, 0, 0, 0, 0, 0, 0, 0, 0, 0, 0, 0, 0, 0, 0, 0, 0, 0, 0, 0, 0, 0, 0, 0, 0, 0, 0, 0, 0, 0, 0, 0, 0, 0, 0, 0, 0, 0, 0, 0, 0, 0, 0, 0, 0, 0, 0, 0, 0, 0, 0, 0, 0, 0, 0, 0, 0, 0, 0, 0, 0, 0, 0, 0, 0, 0, 0, 0, 0, 0, 0, 0, 0, 0, 0, 0, 0, 0, 0, 0, 0, 0, 0, 0, 0, 0, 0, 0, 0, 0, 0, 0, 0, 0, 0, 0, 0, 0, 0, 0, 0, 0, 0, 0, 0, 0, 0, 0, 0, 0, 0, 0, 0, 0, 0, 0, 0, 0, 0, 0, 0, 0, 0, 0, 0, 0, 0, 0, 0, 0, 0, 0, 0, 0, 0, 0, 0, 0, 0, 0, 0, 0, 0, 0, 0, 0, 0, 0, 0, 0, 0, 0, 0, 0, 0, 0, 0, 0, 0, 0, 0, 0, 0, 0, 0, 0, 0, 0, 0, 0, 0, 0, 0, 0, 0, 0, 0, 0, 0, 0, 0, 0, 0, 0, 0, 0, 0, 0, 0, 0, 0, 0, 0, 0, 0, 0, 0, 0, 0, 0, 0, 0, 0, 0, 0, 0, 0, 0, 0, 0, 0, 0, 0, 0, 0, 0, 0, 0, 0, 0, 0, 0, 0, 0, 0, 0, 0, 0, 0, 0, 0, 0, 0, 0, 0, 0, 0, 0, 0, 0, 0, 0, 0, 0, 0, 0, 0, 0, 0, 1, 1, 1, 1, 1, 1, 1, 1, 1, 1, 1, 1, 1, 1, 1, 1, 1, 1, 1, 1, 1, 1, 0, 0, 0, 0, 0, 0, 0, 0, 0, 0, 0, 0, 0, 0, 0, 0, 0, 0, 0, 0, 0, 0, 0, 0, 0, 0, 0, 0, 0, 0, 0, 0, 0, 0, 0, 0, 0, 0, 0, 0, 0, 0, 0, 0, 0, 0, 0, 0, 0, 0, 0, 0, 0, 0, 0, 0, 0, 0, 0, 0, 0, 0, 0, 0, 0, 0, 0, 0, 0, 0, 0, 0, 0, 0, 0, 0, 0, 0, 0, 0, 0, 0, 0, 0, 0, 0, 0, 0, 0, 0, 0, 0, 0, 0, 0, 0, 0, 0, 0, 0, 0, 0, 0, 0, 0, 0, 0, 0, 0, 0, 0, 0, 0, 0, 0, 0, 0, 0, 0, 0, 0, 0, 0, 0, 0, 0, 0, 0, 0, 0, 0, 0, 0, 0, 0, 0, 0, 0, 0, 0, 0, 0, 0, 0, 0, 0, 0, 0, 0, 0, 0, 0, 0, 0, 0, 0, 0, 0, 0, 0, 0, 0, 0, 0, 0, 0, 0, 0, 0, 0, 0, 0, 0, 0, 0, 0, 0, 0, 0, 0, 0, 0, 0, 0, 0, 0, 0, 0, 0, 0, 0, 0, 0, 0, 0, 0, 0, 0, 0, 0, 0, 0, 0, 0, 0, 0, 0, 0, 0, 0, 0, 0, 0, 0, 0, 0, 0, 0, 0, 0, 0, 0, 0, 0, 0, 0, 0, 0, 0, 0, 0, 0], '12': [0, 0, 0, 0, 0, 0, 0, 0, 0, 0, 0, 0, 0, 0, 0, 0, 0, 0, 0, 0, 0, 0, 0, 0, 0, 0, 0, 0, 0, 0, 0, 0, 0, 0, 0, 0, 0, 0, 0, 0, 0, 0, 0, 0, 0, 0, 0, 0, 0, 0, 0, 0, 0, 0, 0, 0, 0, 0, 0, 0, 0, 0, 0, 0, 0, 0, 0, 0, 0, 0, 0, 0, 0, 0, 0, 0, 0, 0, 0, 0, 0, 0, 0, 0, 0, 0, 0, 0, 0, 0, 0, 0, 0, 0, 0, 0, 0, 0, 0, 0, 0, 0, 0, 0, 0, 0, 0, 0, 0, 0, 0, 0, 0, 0, 0, 0, 0, 0, 0, 0, 0, 0, 0, 0, 0, 0, 0, 0, 0, 0, 0, 0, 0, 0, 0, 0, 0, 0, 0, 0, 0, 0, 0, 0, 0, 0, 0, 0, 0, 0, 0, 0, 0, 0, 0, 0, 0, 0, 0, 0, 0, 0, 0, 0, 0, 0, 0, 0, 0, 0, 0, 0, 0, 0, 0, 0, 1, 1, 1, 1, 1, 1, 1, 1, 0, 0, 0, 0, 0, 0, 0, 0, 0, 0, 0, 0, 0, 0, 0, 0, 0, 0, 0, 0, 0, 0, 0, 0, 0, 0, 0, 0, 0, 0, 0, 0, 0, 0, 0, 0, 0, 0, 0, 0, 0, 0, 0, 0, 0, 0, 0, 0, 0, 0, 0, 0, 0, 0, 0, 0, 0, 0, 0, 0, 0, 0, 0, 0, 0, 0, 0, 0, 0, 0, 0, 0, 0, 0, 0, 0, 0, 0, 0, 0, 0, 0, 0, 0, 0, 0, 0, 0, 0, 0, 0, 0, 0, 0, 0, 0, 0, 0, 1, 1, 1, 1, 1, 1, 1, 1, 1, 1, 1, 1, 1, 1, 1, 1, 1, 1, 1, 1, 1, 1, 0, 0, 0, 0, 0, 0, 0, 0, 0, 0, 0, 0, 0, 0, 0, 0, 0, 0, 0, 0, 0, 0, 0, 0, 0, 0, 0, 0, 0, 0, 0, 0, 0, 0, 0, 0, 0, 0, 0, 0, 0, 0, 0, 0, 0, 0, 0, 0, 0, 0, 0, 0, 0, 0, 0, 0, 0, 0, 0, 0, 0, 0, 0, 0, 0, 0, 0, 0, 0, 0, 0, 0, 0, 0, 0, 0, 0, 0, 0, 0, 0, 0, 0, 0, 0, 0, 0, 0, 0, 0, 0, 0, 0, 0, 0, 0, 0, 0, 0, 0, 0, 0, 0, 0, 0, 0, 0, 0, 0, 0, 0, 0, 0, 0, 0, 0, 0, 0, 0, 0, 0, 0, 0, 0, 0, 0, 0, 0, 0, 0, 0, 0, 0, 0, 0, 0, 0, 0, 0, 0, 0, 0, 0, 0, 0, 0, 0, 0, 0, 0, 0, 0, 0, 0, 0, 0, 0, 0, 0, 0, 0, 0, 0, 0, 0, 0, 0, 0, 0, 0, 0, 0, 0, 0, 0, 0, 0, 0, 0, 0, 0, 0, 0, 0, 0, 0, 0, 0, 0, 0, 0, 0, 0, 0, 0, 0, 0, 0, 0, 0, 0, 0, 0, 0, 0, 0, 0, 0, 0, 0, 0, 0, 0, 0, 0, 0, 0, 0, 0, 0, 0, 0, 0, 0, 0, 0, 0, 0, 0, 0, 0, 0], '13': [0, 0, 0, 0, 0, 0, 0, 0, 0, 0, 0, 0, 0, 0, 0, 0, 0, 0, 0, 0, 0, 0, 0, 0, 0, 0, 0, 0, 0, 0, 0, 0, 0, 0, 0, 0, 0, 0, 0, 0, 0, 0, 0, 0, 0, 0, 0, 0, 0, 0, 0, 0, 0, 0, 0, 0, 0, 0, 0, 0, 0, 0, 0, 0, 0, 0, 0, 0, 0, 0, 0, 0, 0, 0, 0, 0, 0, 0, 0, 0, 0, 0, 0, 0, 0, 0, 0, 0, 0, 0, 0, 1, 1, 1, 1, 1, 1, 1, 1, 1, 1, 1, 0, 0, 0, 0, 0, 0, 0, 0, 0, 0, 0, 0, 0, 0, 0, 0, 0, 0, 0, 0, 0, 0, 0, 0, 0, 0, 0, 0, 0, 0, 0, 0, 0, 0, 0, 0, 0, 0, 0, 0, 0, 0, 0, 0, 0, 0, 0, 0, 0, 0, 0, 0, 0, 0, 0, 0, 0, 0, 0, 0, 0, 0, 0, 0, 0, 0, 0, 0, 0, 0, 0, 0, 0, 0, 0, 0, 0, 0, 0, 0, 0, 0, 0, 0, 0, 0, 0, 0, 0, 0, 0, 0, 0, 0, 0, 0, 0, 0, 0, 0, 0, 0, 0, 0, 0, 0, 0, 0, 0, 0, 0, 0, 0, 0, 0, 0, 0, 0, 0, 0, 0, 0, 0, 0, 0, 0, 0, 0, 0, 0, 0, 0, 0, 0, 0, 0, 0, 0, 0, 0, 0, 0, 0, 0, 0, 0, 0, 0, 0, 0, 0, 0, 0, 0, 0, 0, 0, 0, 0, 0, 0, 0, 0, 0, 0, 0, 0, 0, 0, 0, 0, 0, 0, 0, 0, 0, 0, 0, 0, 0, 0, 0, 0, 0, 0, 0, 0, 0, 0, 0, 0, 0, 0, 0, 0, 0, 0, 0, 0, 0, 0, 0, 0, 0, 0, 0, 0, 0, 0, 0, 0, 0, 0, 0, 0, 0, 0, 0, 0, 0, 0, 0, 0, 0, 0, 0, 0, 0, 0, 0, 0, 0, 0, 0, 0, 0, 0, 0, 0, 0, 0, 0, 0, 0, 0, 0, 0, 0, 0, 0, 0, 0, 0, 0, 0, 0, 0, 0, 0, 0, 0, 0, 0, 0, 0, 0, 0, 0, 0, 0, 0, 0, 0, 0, 0, 0, 0, 0, 0, 0, 0, 0, 0, 0, 0, 0, 0, 0, 0, 0, 0, 0, 0, 0, 0, 0, 0, 0, 0, 0, 0, 0, 0, 0, 0, 0, 0, 0, 0, 0, 0, 0, 0, 0, 0, 0, 0, 0, 0, 0, 0, 0, 0, 0, 0, 0, 0, 0, 0, 0, 0, 0, 0, 0, 0, 0, 0, 0, 0, 0, 0, 0, 0, 0, 0, 0, 0, 0, 0, 0, 0, 0, 0, 0, 0, 0, 0, 0, 0, 0, 0, 0, 0, 0, 0, 0, 0, 0, 0, 0, 0, 0, 0, 0, 0, 0, 0, 0, 0, 0, 0, 0, 0, 0, 0, 0, 0, 0, 0, 0, 0, 0, 0, 0, 0, 0, 0, 0, 0, 0, 0, 0, 0, 0, 0, 0, 0, 0, 0, 0, 0, 0, 0, 0, 0, 0, 0, 0, 0, 0, 0, 0, 0, 0, 0, 0, 0, 0, 0, 0, 0, 0, 0, 0], '14': [0, 0, 0, 0, 0, 0, 0, 0, 0, 0, 0, 0, 0, 0, 0, 0, 0, 0, 0, 0, 0, 0, 0, 0, 0, 0, 0, 0, 0, 0, 0, 0, 0, 0, 0, 0, 0, 0, 0, 0, 0, 0, 0, 0, 0, 0, 0, 0, 0, 0, 0, 0, 0, 0, 0, 0, 0, 0, 0, 0, 0, 0, 0, 0, 0, 0, 0, 0, 0, 0, 0, 0, 0, 0, 0, 0, 0, 0, 0, 0, 0, 0, 0, 0, 0, 0, 0, 0, 0, 0, 0, 0, 0, 0, 0, 0, 0, 0, 0, 0, 0, 0, 0, 0, 0, 0, 0, 0, 0, 0, 0, 0, 0, 0, 0, 0, 0, 0, 0, 0, 0, 0, 0, 0, 0, 0, 0, 0, 0, 0, 0, 0, 0, 0, 0, 0, 0, 0, 0, 0, 0, 0, 0, 0, 0, 0, 0, 0, 0, 0, 0, 0, 0, 0, 0, 0, 0, 0, 0, 0, 0, 0, 0, 0, 0, 0, 0, 0, 0, 0, 0, 0, 0, 0, 0, 0, 0, 0, 0, 0, 0, 0, 0, 0, 0, 0, 0, 0, 0, 0, 0, 0, 0, 0, 0, 0, 0, 0, 0, 0, 0, 0, 0, 0, 0, 0, 0, 0, 0, 0, 0, 0, 0, 0, 0, 0, 0, 0, 0, 0, 0, 0, 0, 0, 0, 0, 0, 0, 0, 0, 0, 0, 0, 0, 0, 0, 0, 0, 0, 0, 0, 0, 0, 0, 0, 0, 0, 0, 0, 0, 0, 0, 0, 0, 0, 0, 0, 0, 0, 0, 0, 0, 0, 0, 0, 0, 0, 0, 0, 0, 0, 0, 0, 0, 0, 0, 0, 0, 0, 0, 0, 0, 0, 0, 0, 0, 0, 0, 0, 0, 0, 0, 0, 0, 0, 0, 0, 0, 0, 0, 0, 0, 0, 0, 0, 0, 0, 0, 0, 0, 0, 0, 0, 0, 0, 0, 0, 0, 0, 0, 0, 0, 0, 0, 0, 0, 0, 0, 0, 0, 0, 0, 0, 0, 0, 0, 0, 0, 0, 0, 0, 0, 0, 0, 0, 0, 0, 0, 0, 0, 0, 0, 0, 0, 0, 0, 0, 0, 0, 0, 0, 0, 0, 0, 0, 0, 0, 0, 0, 0, 0, 0, 0, 0, 0, 0, 0, 0, 0, 0, 0, 0, 0, 0, 0, 0, 0, 0, 0, 0, 0, 0, 0, 0, 0, 0, 0, 0, 0, 0, 0, 0, 0, 0, 0, 0, 0, 0, 0, 0, 0, 0, 0, 0, 0, 0, 0, 0, 0, 0, 0, 0, 0, 0, 0, 0, 0, 0, 0, 0, 0, 0, 0, 0, 0, 0, 0, 0, 0, 0, 0, 0, 0, 0, 0, 0, 0, 0, 0, 0, 0, 0, 0, 0, 0, 0, 0, 0, 0, 0, 0, 0, 0, 0, 0, 0, 0, 0, 0, 0, 0, 0, 0, 0, 0, 0, 0, 0, 0, 0, 0, 0, 0, 0, 0, 0, 0, 0, 0, 0, 0, 0, 0, 0, 0, 0, 0, 0, 0, 0, 0, 0, 0, 0, 0, 0, 0, 0, 0, 0, 0, 0, 0, 0, 0, 0, 0, 0, 0, 0, 0, 0, 0, 0, 0, 0, 0, 0, 0, 0, 0, 0, 0, 0, 0, 0], '15': [0, 0, 0, 0, 0, 0, 0, 0, 0, 0, 0, 0, 0, 0, 0, 0, 0, 0, 0, 0, 0, 0, 0, 0, 0, 0, 0, 0, 0, 0, 0, 0, 0, 0, 0, 0, 0, 0, 0, 0, 0, 0, 0, 0, 0, 0, 0, 0, 0, 0, 0, 0, 0, 0, 0, 0, 0, 0, 0, 0, 0, 0, 0, 0, 0, 0, 0, 0, 0, 0, 0, 0, 0, 0, 0, 0, 0, 0, 0, 0, 0, 0, 0, 0, 0, 0, 0, 0, 0, 0, 0, 0, 0, 0, 0, 0, 0, 0, 0, 0, 0, 0, 0, 0, 0, 0, 0, 0, 0, 0, 0, 0, 0, 0, 0, 0, 0, 0, 0, 0, 0, 0, 0, 0, 0, 0, 0, 0, 0, 0, 0, 0, 0, 0, 0, 0, 0, 0, 0, 0, 0, 0, 0, 0, 0, 0, 0, 0, 0, 0, 0, 0, 0, 0, 0, 0, 0, 0, 0, 0, 0, 0, 0, 0, 0, 0, 0, 0, 0, 0, 0, 0, 0, 0, 0, 0, 0, 0, 0, 0, 0, 0, 0, 0, 0, 0, 0, 0, 0, 0, 0, 0, 0, 0, 0, 0, 0, 0, 0, 0, 0, 0, 0, 0, 0, 0, 0, 0, 0, 0, 0, 0, 0, 0, 0, 0, 0, 0, 0, 0, 0, 0, 0, 0, 0, 0, 0, 0, 0, 0, 0, 0, 0, 0, 0, 0, 0, 0, 0, 0, 0, 0, 0, 0, 0, 0, 0, 0, 0, 0, 0, 0, 0, 0, 0, 0, 0, 0, 0, 0, 0, 0, 0, 0, 0, 0, 0, 0, 0, 0, 0, 0, 0, 0, 0, 0, 0, 0, 0, 0, 0, 0, 0, 0, 0, 0, 0, 0, 0, 0, 0, 0, 0, 0, 0, 0, 0, 0, 0, 0, 0, 0, 0, 0, 0, 0, 0, 0, 0, 0, 0, 0, 0, 0, 0, 0, 0, 0, 0, 0, 0, 0, 0, 0, 0, 0, 0, 0, 0, 0, 0, 0, 0, 0, 0, 0, 0, 0, 0, 0, 0, 0, 0, 0, 0, 0, 0, 0, 0, 0, 0, 0, 0, 0, 0, 0, 0, 0, 0, 0, 0, 0, 0, 0, 0, 0, 0, 0, 0, 0, 0, 0, 0, 0, 0, 0, 0, 0, 0, 0, 0, 0, 0, 0, 0, 0, 0, 0, 0, 0, 0, 0, 0, 0, 0, 0, 0, 0, 0, 0, 0, 0, 0, 0, 0, 0, 0, 0, 0, 0, 0, 0, 0, 0, 0, 0, 0, 0, 0, 0, 0, 0, 0, 0, 0, 0, 0, 0, 0, 0, 0, 0, 0, 0, 0, 0, 0, 0, 0, 0, 0, 0, 0, 0, 0, 0, 0, 0, 0, 0, 0, 0, 0, 0, 0, 0, 0, 0, 0, 0, 0, 0, 0, 0, 0, 0, 0, 0, 0, 0, 0, 0, 0, 0, 0, 0, 0, 0, 0, 0, 0, 0, 0, 0, 0, 0, 0, 0, 0, 0, 0, 0, 0, 0, 0, 0, 0, 0, 0, 0, 0, 0, 0, 0, 0, 0, 0, 0, 0, 0, 0, 0, 0, 0, 0, 0, 0, 0, 0, 0, 0, 0, 0, 0, 0, 0, 0, 0, 0, 0, 0, 0, 0, 0, 0, 0], '16': [0, 0, 0, 0, 0, 0, 0, 0, 0, 0, 0, 0, 0, 0, 0, 0, 0, 0, 0, 0, 0, 0, 0, 0, 0, 0, 0, 0, 0, 0, 0, 0, 0, 0, 0, 0, 0, 0, 0, 0, 0, 0, 0, 0, 0, 0, 0, 0, 0, 0, 0, 0, 0, 0, 0, 0, 0, 0, 0, 0, 0, 0, 0, 0, 0, 0, 0, 0, 0, 0, 0, 0, 0, 0, 0, 0, 0, 0, 0, 0, 0, 0, 0, 0, 0, 0, 0, 0, 0, 0, 0, 0, 0, 0, 0, 0, 0, 0, 0, 0, 0, 0, 0, 0, 0, 0, 0, 0, 0, 0, 0, 0, 0, 0, 0, 0, 0, 0, 0, 0, 0, 0, 0, 0, 0, 0, 0, 0, 0, 0, 0, 0, 0, 0, 0, 0, 0, 0, 0, 0, 0, 0, 0, 0, 0, 0, 0, 0, 0, 0, 0, 0, 0, 0, 0, 0, 0, 0, 0, 0, 0, 0, 0, 0, 0, 0, 0, 0, 0, 0, 0, 0, 0, 0, 0, 0, 0, 0, 0, 0, 0, 0, 0, 0, 0, 0, 0, 0, 0, 0, 0, 0, 0, 0, 0, 0, 0, 0, 0, 0, 0, 0, 0, 0, 0, 0, 0, 0, 0, 0, 1, 1, 1, 1, 1, 1, 1, 1, 1, 1, 1, 1, 1, 1, 1, 1, 1, 1, 1, 1, 1, 1, 1, 1, 1, 1, 1, 1, 1, 1, 1, 1, 1, 1, 1, 1, 1, 1, 1, 1, 1, 1, 1, 0, 0, 0, 0, 0, 0, 0, 0, 0, 0, 0, 0, 0, 0, 0, 0, 0, 0, 0, 0, 0, 0, 0, 0, 0, 0, 0, 0, 0, 0, 0, 0, 0, 0, 0, 0, 0, 0, 0, 0, 0, 0, 0, 0, 0, 0, 0, 0, 0, 0, 0, 0, 0, 0, 0, 0, 0, 0, 0, 0, 0, 0, 0, 0, 0, 0, 0, 0, 0, 0, 0, 0, 0, 0, 0, 0, 0, 0, 0, 0, 0, 0, 0, 0, 0, 0, 0, 0, 0, 0, 0, 0, 0, 0, 0, 0, 0, 0, 0, 0, 0, 0, 0, 0, 0, 0, 0, 0, 0, 0, 0, 0, 0, 0, 0, 0, 0, 0, 0, 0, 0, 0, 0, 0, 0, 0, 0, 0, 0, 0, 0, 0, 0, 0, 0, 0, 0, 0, 0, 0, 0, 0, 0, 0, 0, 0, 0, 0, 0, 0, 0, 0, 0, 0, 0, 0, 0, 0, 0, 0, 0, 0, 0, 0, 0, 0, 0, 0, 0, 0, 0, 0, 0, 0, 0, 0, 0, 0, 0, 0, 0, 0, 0, 0, 0, 0, 0, 0, 0, 0, 0, 0, 0, 0, 0, 0, 0, 0, 0, 0, 0, 0, 0, 0, 0, 0, 0, 0, 0, 0, 0, 0, 0, 0, 0, 0, 0, 0, 0, 0, 0, 0, 0, 0, 0, 0, 0, 0, 0, 0, 0, 0, 0, 0, 0, 0, 0, 0, 0, 0, 0, 0, 0, 0, 0, 0, 0, 0, 0, 0, 0, 0, 0, 0, 0, 0, 0, 0, 0, 0, 0, 0, 0, 0, 0, 0, 0, 0, 0, 0, 0, 0, 0, 0, 0, 0, 0, 0, 0, 0, 0, 0, 0], '17': [0, 0, 0, 0, 0, 0, 0, 0, 0, 0, 0, 0, 0, 0, 0, 0, 0, 0, 0, 0, 0, 0, 0, 0, 0, 0, 0, 0, 0, 0, 0, 0, 0, 0, 0, 0, 0, 0, 0, 0, 0, 0, 0, 0, 0, 0, 0, 0, 0, 0, 0, 0, 0, 0, 0, 0, 0, 0, 0, 0, 0, 0, 0, 0, 0, 0, 0, 0, 0, 0, 0, 0, 0, 0, 0, 0, 0, 0, 0, 0, 0, 0, 0, 0, 0, 0, 0, 0, 0, 0, 0, 0, 0, 0, 0, 0, 0, 0, 0, 0, 0, 0, 0, 0, 0, 0, 0, 0, 0, 0, 0, 0, 0, 0, 0, 0, 0, 0, 0, 0, 0, 0, 0, 0, 0, 0, 0, 0, 0, 0, 0, 0, 0, 0, 0, 0, 0, 0, 0, 0, 0, 0, 0, 0, 0, 0, 0, 0, 0, 0, 0, 0, 0, 0, 0, 0, 0, 0, 0, 0, 0, 0, 0, 0, 0, 0, 0, 0, 0, 0, 0, 0, 0, 0, 0, 0, 0, 0, 0, 0, 0, 0, 0, 0, 0, 0, 0, 0, 0, 0, 0, 0, 0, 0, 0, 0, 0, 0, 0, 0, 0, 0, 0, 0, 0, 0, 0, 0, 0, 0, 1, 1, 1, 1, 1, 1, 1, 1, 1, 1, 1, 1, 1, 1, 1, 1, 1, 1, 1, 1, 1, 1, 1, 1, 1, 1, 1, 1, 1, 1, 1, 1, 1, 1, 1, 1, 1, 1, 1, 1, 1, 1, 1, 0, 0, 0, 0, 0, 0, 0, 0, 0, 0, 0, 0, 0, 0, 0, 0, 0, 0, 0, 0, 0, 0, 0, 0, 0, 0, 0, 0, 0, 0, 0, 0, 0, 0, 0, 0, 0, 0, 0, 0, 0, 0, 0, 0, 0, 0, 0, 0, 0, 0, 0, 0, 0, 0, 0, 0, 0, 0, 0, 0, 0, 0, 0, 0, 0, 0, 0, 0, 0, 0, 0, 0, 0, 0, 0, 0, 0, 0, 0, 0, 0, 0, 0, 0, 0, 0, 0, 0, 0, 0, 0, 0, 0, 0, 0, 0, 0, 0, 0, 0, 0, 0, 0, 0, 0, 0, 0, 0, 0, 0, 0, 0, 0, 0, 0, 0, 0, 0, 0, 0, 0, 0, 0, 0, 0, 0, 0, 0, 0, 0, 0, 0, 0, 0, 0, 0, 0, 0, 0, 0, 0, 0, 0, 0, 0, 0, 0, 0, 0, 0, 0, 0, 0, 0, 0, 0, 0, 0, 0, 0, 0, 0, 0, 0, 0, 0, 0, 0, 0, 0, 0, 0, 0, 0, 0, 0, 0, 0, 0, 0, 0, 0, 0, 0, 0, 0, 0, 0, 0, 0, 0, 0, 0, 0, 0, 0, 0, 0, 0, 0, 0, 0, 0, 0, 0, 0, 0, 0, 0, 0, 0, 0, 0, 0, 0, 0, 0, 0, 0, 0, 0, 0, 0, 0, 0, 0, 0, 0, 0, 0, 0, 0, 0, 0, 0, 0, 0, 0, 0, 0, 0, 0, 0, 0, 0, 0, 0, 0, 0, 0, 0, 0, 0, 0, 0, 0, 0, 0, 0, 0, 0, 0, 0, 0, 0, 0, 0, 0, 0, 0, 0, 0, 0, 0, 0, 0, 0, 0, 0, 0, 0, 0, 0]}\n",
            "1802\n",
            "{'qry': '1', 'stpos': 0, 'enpos': 18, 'src_ids': [30522, 100, 5635, 1999, 2035, 2049, 3596, 7249, 101, 2057, 6614, 2000, 3443, 2019, 22666, 2554, 2011, 11828, 2169, 1997, 2122, 2752, 1998, 22380, 2068, 1012, 102, 101, 2256, 5971, 2171, 1010, 6289, 28533, 2100, 1010, 3310, 2013, 1523, 12667, 2102, 1012, 1524, 102, 101, 2009, 2001, 2580, 2011, 11383, 2362, 1996, 15498, 1997, 1996, 2034, 4144, 1999, 2470, 1010, 2326, 1010, 1998, 2974, 1012, 102, 101, 2470, 2965, 7142, 2470, 1010, 4812, 1010, 1998, 2458, 1997, 2047, 6786, 1010, 2047, 6089, 1010, 1998, 2047, 4341, 5461, 1012, 102, 101, 2326, 2965, 4346, 4010, 1010, 2012, 6528, 6024, 2326, 2083, 3167, 8290, 1012, 102, 101, 2974, 2965, 5621, 6581, 2974, 2008, 12374, 2119, 3558, 1998, 3730, 5919, 1998, 2003, 3811, 15189, 2005, 2554, 1012, 102, 101, 2122, 2093, 2752, 1997, 2470, 1010, 2326, 1010, 1998, 2974, 2064, 2025, 2022, 2641, 9174, 1012, 102, 101, 2119, 2974, 1998, 1037, 4382, 1997, 2326, 2024, 4072, 2000, 14570, 1996, 2470, 2920, 1999, 1054, 1004, 1040, 1012, 102, 101, 2000, 4863, 2009, 1999, 2178, 2126, 1010, 2470, 1010, 2326, 1010, 1998, 2974, 2024, 17796, 2135, 5799, 1998, 2169, 6753, 1996, 2500, 1012, 102, 101, 2009, 2003, 2019, 7554, 3276, 1999, 2029, 2169, 6922, 25416, 10586, 1996, 2500, 2000, 3965, 2019, 2203, 4031, 2008, 2003, 2130, 2488, 2084, 1996, 7680, 1997, 2049, 6177, 1012, 102, 101, 2057, 2031, 3568, 4233, 2023, 4145, 1997, 6377, 2470, 1010, 2326, 1010, 1998, 2974, 2004, 2256, 5971, 4695, 1998, 2315, 1996, 2194, 6289, 28533, 2100, 2000, 25281, 2009, 1999, 2256, 5971, 2171, 1012, 102, 101, 2057, 13566, 2000, 2224, 2023, 5971, 4695, 1010, 7968, 2135, 2000, 13883, 2256, 3260, 1997, 2108, 1997, 2326, 2000, 2554, 1999, 2116, 2367, 3971, 1010, 2083, 2256, 2116, 3688, 1012, 102, 101, 1996, 6415, 2240, 1523, 9179, 2256, 2159, 2006, 1996, 2925, 1524, 7861, 5092, 18389, 2256, 2449, 7729, 1997, 2467, 3048, 2830, 2011, 2635, 1996, 6349, 1999, 2470, 1998, 2458, 1010, 2326, 1998, 2974, 1998, 2011, 4363, 2035, 1997, 2256, 3086, 2182, 2012, 6289, 28533, 2100, 4208, 2006, 2256, 6304, 1010, 1996, 3795, 4044, 1998, 1996, 2925, 1997, 6289, 28533, 2100, 2993, 1010, 2000, 5382, 1996, 5971, 4695, 3421, 1999, 2256, 2171, 1012, 102, 101, 1996, 2773, 1523, 9179, 1524, 1999, 1996, 6415, 2240, 13585, 1996, 3574, 1997, 1523, 2000, 5466, 2028, 1521, 1055, 3657, 1524, 2007, 2049, 2060, 3574, 1997, 1523, 2000, 4338, 23548, 3384, 1999, 1037, 18282, 1524, 2029, 2003, 2256, 2364, 2240, 1997, 2449, 1010, 3280, 9179, 1012, 102, 101, 1996, 12667, 2102, 2126, 1521, 1055, 2274, 9181, 2005, 2895, 1517, 9530, 11020, 11638, 6313, 1010, 4013, 19620, 1010, 26203, 1010, 4083, 1010, 1998, 4119, 1517, 2024, 1996, 3978, 1997, 2169, 7904, 1521, 1055, 2126, 1997, 3241, 1998, 2895, 2000, 5382, 1996, 5971, 4695, 1012, 102, 101, 2057, 17300, 2135, 1998, 25664, 2191, 4073, 2005, 2256, 6304, 1998, 2035, 22859, 1012, 102, 101, 2057, 29453, 2000, 3305, 7578, 10740, 1010, 4301, 1998, 5300, 1010, 5962, 2000, 2068, 2007, 2330, 9273, 1012, 102, 101, 2057, 2024, 2969, 1011, 5533, 1998, 24935, 29453, 2005, 3112, 1012, 102], 'segs': [0, 0, 0, 0, 0, 0, 0, 0, 1, 1, 1, 1, 1, 1, 1, 1, 1, 1, 1, 1, 1, 1, 1, 1, 1, 1, 1, 1, 1, 1, 1, 1, 1, 1, 1, 1, 1, 1, 1, 1, 1, 1, 1, 1, 1, 1, 1, 1, 1, 1, 1, 1, 1, 1, 1, 1, 1, 1, 1, 1, 1, 1, 1, 1, 1, 1, 1, 1, 1, 1, 1, 1, 1, 1, 1, 1, 1, 1, 1, 1, 1, 1, 1, 1, 1, 1, 1, 1, 1, 1, 1, 1, 1, 1, 1, 1, 1, 1, 1, 1, 1, 1, 1, 1, 1, 1, 1, 1, 1, 1, 1, 1, 1, 1, 1, 1, 1, 1, 1, 1, 1, 1, 1, 1, 1, 1, 1, 1, 1, 1, 1, 1, 1, 1, 1, 1, 1, 1, 1, 1, 1, 1, 1, 1, 1, 1, 1, 1, 1, 1, 1, 1, 1, 1, 1, 1, 1, 1, 1, 1, 1, 1, 1, 1, 1, 1, 1, 1, 1, 1, 1, 1, 1, 1, 1, 1, 1, 1, 1, 1, 1, 1, 1, 1, 1, 1, 1, 1, 1, 1, 1, 1, 1, 1, 1, 1, 1, 1, 1, 1, 1, 1, 1, 1, 1, 1, 1, 1, 1, 1, 1, 1, 1, 1, 1, 1, 1, 1, 1, 1, 1, 1, 1, 1, 1, 1, 1, 1, 1, 1, 1, 1, 1, 1, 1, 1, 1, 1, 1, 1, 1, 1, 1, 1, 1, 1, 1, 1, 1, 1, 1, 1, 1, 1, 1, 1, 1, 1, 1, 1, 1, 1, 1, 1, 1, 1, 1, 1, 1, 1, 1, 1, 1, 1, 1, 1, 1, 1, 1, 1, 1, 1, 1, 1, 1, 1, 1, 1, 1, 1, 1, 1, 1, 1, 1, 1, 1, 1, 1, 1, 1, 1, 1, 1, 1, 1, 1, 1, 1, 1, 1, 1, 1, 1, 1, 1, 1, 1, 1, 1, 1, 1, 1, 1, 1, 1, 1, 1, 1, 1, 1, 1, 1, 1, 1, 1, 1, 1, 1, 1, 1, 1, 1, 1, 1, 1, 1, 1, 1, 1, 1, 1, 1, 1, 1, 1, 1, 1, 1, 1, 1, 1, 1, 1, 1, 1, 1, 1, 1, 1, 1, 1, 1, 1, 1, 1, 1, 1, 1, 1, 1, 1, 1, 1, 1, 1, 1, 1, 1, 1, 1, 1, 1, 1, 1, 1, 1, 1, 1, 1, 1, 1, 1, 1, 1, 1, 1, 1, 1, 1, 1, 1, 1, 1, 1, 1, 1, 1, 1, 1, 1, 1, 1, 1, 1, 1, 1, 1, 1, 1, 1, 1, 1, 1, 1, 1, 1, 1, 1, 1, 1, 1, 1, 1, 1, 1, 1, 1, 1, 1, 1, 1, 1, 1, 1, 1, 1, 1, 1, 1, 1, 1, 1, 1, 1, 1, 1, 1, 1, 1, 1, 1, 1, 1, 1, 1, 1, 1, 1, 1, 1, 1, 1, 1, 1, 1, 1, 1, 1, 1, 1, 1, 1, 1, 1, 1, 1, 1, 1, 1, 1, 1, 1, 1, 1], 'clss': [8, 27, 44, 66, 89, 104, 125, 143, 164, 189, 220, 255, 287, 361, 409, 456, 472, 492], 'tgt': [0, 0, 0, 0, 0, 0, 0, 0, 0, 0, 0, 0, 0, 0, 0, 0, 0, 0]}\n"
          ]
        }
      ]
    },
    {
      "cell_type": "code",
      "source": [
        "# データセットの作成(既に存在していれば実行不要)\n",
        "import json\n",
        "import random\n",
        "from glob import glob\n",
        "import torch\n",
        "\n",
        "src_doc_valid = []\n",
        "tgt_list_valid = []\n",
        "src_doc_test = []\n",
        "tgt_list_test = []\n",
        "\n",
        "for data in sorted(glob(work_dir + '/json_data_labeled/*')):\n",
        "  filetype = data.split('/')[-1].split('.')[1]\n",
        "  json_open = open(data)\n",
        "  json_load = json.load(json_open)\n",
        "  src_txt = json_load['src_txt']\n",
        "  if filetype == 'valid':\n",
        "    src_doc_valid.append(src_txt)\n",
        "    tgt_list = []\n",
        "    for i in range(1,18):\n",
        "      tgt_list.append(json_load['tgt'+str(i)])\n",
        "    tgt_list_valid.append(tgt_list)\n",
        "  if filetype == 'test':\n",
        "    src_doc_test.append(src_txt)\n",
        "    tgt_list = []\n",
        "    for i in range(1,18):\n",
        "      tgt_list.append(json_load['tgt'+str(i)])\n",
        "    tgt_list_test.append(tgt_list)\n",
        "\n",
        "# Incorporate SDGs goal text in query text\n",
        "sdgsdir = '/content/drive/MyDrive/DatasetSDGs/0-SDGs/'\n",
        "\n",
        "all_query_txt = []\n",
        "for goal in sorted(glob(sdgsdir + '/*')):\n",
        "  query_txt = []\n",
        "  with open(goal, mode='r') as f:\n",
        "    for line in f:\n",
        "      query_txt.append(line.strip())\n",
        "      break\n",
        "  all_query_txt.append(' '.join(query_txt))\n",
        "\n",
        "dataset = {'src_doc_valid': src_doc_valid, 'tgt_list_valid': tgt_list_valid, 'src_doc_test': src_doc_test, 'tgt_list_test': tgt_list_test, 'all_query_txt': all_query_txt}\n",
        "torch.save(dataset, work_dir + '/dataset.pt')  "
      ],
      "metadata": {
        "id": "YJu4Vr3O7K3w"
      },
      "execution_count": null,
      "outputs": []
    },
    {
      "cell_type": "code",
      "source": [
        "################ Training ################"
      ],
      "metadata": {
        "id": "NU6n1uLE1cjo"
      },
      "execution_count": null,
      "outputs": []
    },
    {
      "cell_type": "code",
      "execution_count": null,
      "metadata": {
        "colab": {
          "base_uri": "https://localhost:8080/",
          "height": 843
        },
        "id": "B6f848WzbK45",
        "outputId": "fb4f592f-e3f0-44fd-a8f2-a248ff63e777"
      },
      "outputs": [
        {
          "output_type": "stream",
          "name": "stdout",
          "text": [
            "Collecting torchtext==0.3.1\n",
            "  Downloading torchtext-0.3.1-py3-none-any.whl (62 kB)\n",
            "\u001b[?25l\r\u001b[K     |█████▎                          | 10 kB 25.6 MB/s eta 0:00:01\r\u001b[K     |██████████▌                     | 20 kB 25.5 MB/s eta 0:00:01\r\u001b[K     |███████████████▊                | 30 kB 17.3 MB/s eta 0:00:01\r\u001b[K     |█████████████████████           | 40 kB 12.1 MB/s eta 0:00:01\r\u001b[K     |██████████████████████████▎     | 51 kB 12.4 MB/s eta 0:00:01\r\u001b[K     |███████████████████████████████▌| 61 kB 12.3 MB/s eta 0:00:01\r\u001b[K     |████████████████████████████████| 62 kB 784 kB/s \n",
            "\u001b[?25hRequirement already satisfied: torch in /usr/local/lib/python3.7/dist-packages (from torchtext==0.3.1) (1.10.0+cu111)\n",
            "Requirement already satisfied: requests in /usr/local/lib/python3.7/dist-packages (from torchtext==0.3.1) (2.23.0)\n",
            "Requirement already satisfied: tqdm in /usr/local/lib/python3.7/dist-packages (from torchtext==0.3.1) (4.63.0)\n",
            "Requirement already satisfied: numpy in /usr/local/lib/python3.7/dist-packages (from torchtext==0.3.1) (1.21.5)\n",
            "Requirement already satisfied: chardet<4,>=3.0.2 in /usr/local/lib/python3.7/dist-packages (from requests->torchtext==0.3.1) (3.0.4)\n",
            "Requirement already satisfied: urllib3!=1.25.0,!=1.25.1,<1.26,>=1.21.1 in /usr/local/lib/python3.7/dist-packages (from requests->torchtext==0.3.1) (1.24.3)\n",
            "Requirement already satisfied: idna<3,>=2.5 in /usr/local/lib/python3.7/dist-packages (from requests->torchtext==0.3.1) (2.10)\n",
            "Requirement already satisfied: certifi>=2017.4.17 in /usr/local/lib/python3.7/dist-packages (from requests->torchtext==0.3.1) (2021.10.8)\n",
            "Requirement already satisfied: typing-extensions in /usr/local/lib/python3.7/dist-packages (from torch->torchtext==0.3.1) (3.10.0.2)\n",
            "Installing collected packages: torchtext\n",
            "  Attempting uninstall: torchtext\n",
            "    Found existing installation: torchtext 0.11.0\n",
            "    Uninstalling torchtext-0.11.0:\n",
            "      Successfully uninstalled torchtext-0.11.0\n",
            "Successfully installed torchtext-0.3.1\n",
            "Collecting torch==1.6.0\n",
            "  Downloading torch-1.6.0-cp37-cp37m-manylinux1_x86_64.whl (748.8 MB)\n",
            "\u001b[K     |████████████████████████████████| 748.8 MB 20 kB/s \n",
            "\u001b[?25hRequirement already satisfied: numpy in /usr/local/lib/python3.7/dist-packages (from torch==1.6.0) (1.21.5)\n",
            "Requirement already satisfied: future in /usr/local/lib/python3.7/dist-packages (from torch==1.6.0) (0.16.0)\n",
            "Installing collected packages: torch\n",
            "  Attempting uninstall: torch\n",
            "    Found existing installation: torch 1.10.0+cu111\n",
            "    Uninstalling torch-1.10.0+cu111:\n",
            "      Successfully uninstalled torch-1.10.0+cu111\n",
            "\u001b[31mERROR: pip's dependency resolver does not currently take into account all the packages that are installed. This behaviour is the source of the following dependency conflicts.\n",
            "torchvision 0.11.1+cu111 requires torch==1.10.0, but you have torch 1.6.0 which is incompatible.\n",
            "torchaudio 0.10.0+cu111 requires torch==1.10.0, but you have torch 1.6.0 which is incompatible.\u001b[0m\n",
            "Successfully installed torch-1.6.0\n"
          ]
        },
        {
          "output_type": "display_data",
          "data": {
            "application/vnd.colab-display-data+json": {
              "pip_warning": {
                "packages": [
                  "torch"
                ]
              }
            }
          },
          "metadata": {}
        },
        {
          "output_type": "stream",
          "name": "stdout",
          "text": [
            "Collecting tensorboardX\n",
            "  Downloading tensorboardX-2.5-py2.py3-none-any.whl (125 kB)\n",
            "\u001b[?25l\r\u001b[K     |██▋                             | 10 kB 20.8 MB/s eta 0:00:01\r\u001b[K     |█████▎                          | 20 kB 26.4 MB/s eta 0:00:01\r\u001b[K     |███████▉                        | 30 kB 30.1 MB/s eta 0:00:01\r\u001b[K     |██████████▌                     | 40 kB 14.4 MB/s eta 0:00:01\r\u001b[K     |█████████████                   | 51 kB 11.1 MB/s eta 0:00:01\r\u001b[K     |███████████████▊                | 61 kB 13.0 MB/s eta 0:00:01\r\u001b[K     |██████████████████▎             | 71 kB 12.1 MB/s eta 0:00:01\r\u001b[K     |█████████████████████           | 81 kB 13.3 MB/s eta 0:00:01\r\u001b[K     |███████████████████████▌        | 92 kB 14.7 MB/s eta 0:00:01\r\u001b[K     |██████████████████████████▏     | 102 kB 12.7 MB/s eta 0:00:01\r\u001b[K     |████████████████████████████▊   | 112 kB 12.7 MB/s eta 0:00:01\r\u001b[K     |███████████████████████████████▍| 122 kB 12.7 MB/s eta 0:00:01\r\u001b[K     |████████████████████████████████| 125 kB 12.7 MB/s \n",
            "\u001b[?25hRequirement already satisfied: numpy in /usr/local/lib/python3.7/dist-packages (from tensorboardX) (1.21.5)\n",
            "Requirement already satisfied: protobuf>=3.8.0 in /usr/local/lib/python3.7/dist-packages (from tensorboardX) (3.17.3)\n",
            "Requirement already satisfied: six in /usr/local/lib/python3.7/dist-packages (from tensorboardX) (1.15.0)\n",
            "Installing collected packages: tensorboardX\n",
            "Successfully installed tensorboardX-2.5\n"
          ]
        }
      ],
      "source": [
        "# Install Pytorch\n",
        "!pip3 install torchtext==0.3.1\n",
        "!pip3 install torch==1.6.0\n",
        "!pip install tensorboardX"
      ]
    },
    {
      "cell_type": "code",
      "execution_count": null,
      "metadata": {
        "id": "98ferFIDJNNp"
      },
      "outputs": [],
      "source": [
        "# Training Models\n",
        "!rm -r $work_dir/models\n",
        "!mkdir $work_dir/models\n",
        "!mkdir logs\n",
        "\n",
        "%env BERT_DATA_PATH=$work_dir/pt_data/\n",
        "%env MODEL_PATH=$work_dir/models\n",
        "%env LOG_PATH=/content/logs/baseline\n",
        "!python $MODULE_PATH/src/train.py -mode train -summarizer baseline -dropout 0.1 -bert_data_path $BERT_DATA_PATH -model_path $MODEL_PATH -lr 2e-3 -visible_gpus 0  -gpu_ranks 0 -world_size 1 -report_every 10 -save_checkpoint_steps 10000 -batch_size 4000 -decay_method noam -train_steps 60000 -accum_count 2 -log_file $LOG_PATH -use_interval true -warmup_steps 10000 -ff_size 2048 -inter_layers 2 -heads 8"
      ]
    },
    {
      "cell_type": "code",
      "source": [
        "################ Validation ################"
      ],
      "metadata": {
        "id": "qcvCLblc168q"
      },
      "execution_count": null,
      "outputs": []
    },
    {
      "cell_type": "code",
      "source": [
        "# Validation\n",
        "!cp $MODULE_PATH/bert_config_uncased_base_baseline.json ../bert_config_uncased_base.json\n",
        "!rm -r $work_dir/results\n",
        "!mkdir $work_dir/results\n",
        "!rm -r $work_dir/logs\n",
        "!mkdir $work_dir/logs\n",
        "%env LOG_PATH=$work_dir/logs/baseline\n",
        "\n",
        "%env RESULT_PATH=$work_dir/results/\n",
        "%env BERT_DATA_PATH=$work_dir/pt_data/\n",
        "%env MODEL_PATH=$work_dir/models\n",
        "!python $MODULE_PATH/src/train.py -mode valid -summarizer baseline -bert_data_path $BERT_DATA_PATH -visible_gpus 0  -gpu_ranks 0 -batch_size 512 -log_file $LOG_PATH  -result_path $RESULT_PATH -test_from $MODEL_PATH/model_step_10000.pt -block_trigram true\n",
        "!python $MODULE_PATH/src/train.py -mode valid -summarizer baseline -bert_data_path $BERT_DATA_PATH -visible_gpus 0  -gpu_ranks 0 -batch_size 512 -log_file $LOG_PATH  -result_path $RESULT_PATH -test_from $MODEL_PATH/model_step_20000.pt -block_trigram true\n",
        "!python $MODULE_PATH/src/train.py -mode valid -summarizer baseline -bert_data_path $BERT_DATA_PATH -visible_gpus 0  -gpu_ranks 0 -batch_size 512 -log_file $LOG_PATH  -result_path $RESULT_PATH -test_from $MODEL_PATH/model_step_30000.pt -block_trigram true\n",
        "!python $MODULE_PATH/src/train.py -mode valid -summarizer baseline -bert_data_path $BERT_DATA_PATH -visible_gpus 0  -gpu_ranks 0 -batch_size 512 -log_file $LOG_PATH  -result_path $RESULT_PATH -test_from $MODEL_PATH/model_step_40000.pt -block_trigram true\n",
        "!python $MODULE_PATH/src/train.py -mode valid -summarizer baseline -bert_data_path $BERT_DATA_PATH -visible_gpus 0  -gpu_ranks 0 -batch_size 512 -log_file $LOG_PATH  -result_path $RESULT_PATH -test_from $MODEL_PATH/model_step_50000.pt -block_trigram true\n",
        "!python $MODULE_PATH/src/train.py -mode valid -summarizer baseline -bert_data_path $BERT_DATA_PATH -visible_gpus 0  -gpu_ranks 0 -batch_size 512 -log_file $LOG_PATH  -result_path $RESULT_PATH -test_from $MODEL_PATH/model_step_60000.pt -block_trigram true"
      ],
      "metadata": {
        "id": "IQd_Y1E63ovo"
      },
      "execution_count": null,
      "outputs": []
    },
    {
      "cell_type": "code",
      "source": [
        "# Exploring Optimal Hyper-Parameters\n",
        "def predict_goals(cos_sim_list, threshold):\n",
        "  src_pred_list = []\n",
        "  for cos_sim in cos_sim_list:\n",
        "    ones = torch.ones(cos_sim.shape).int()\n",
        "    zeros = torch.zeros(cos_sim.shape).int()\n",
        "    pred = torch.where(cos_sim > threshold, ones, zeros)\n",
        "    src_pred_list.append(pred.tolist())\n",
        "  return src_pred_list"
      ],
      "metadata": {
        "id": "SJginbs2xXbJ"
      },
      "execution_count": null,
      "outputs": []
    },
    {
      "cell_type": "code",
      "source": [
        "def gen_optim_list(pt_optim_dicts_all, qry, priority):\n",
        "  optim_dicts_all = []\n",
        "  for pt_optim_dicts in pt_optim_dicts_all:\n",
        "    optim_dicts = {}\n",
        "    optim_dicts[qry] = {}\n",
        "    for pt_optim_dict in pt_optim_dicts[qry]:\n",
        "      stpos = pt_optim_dict['stpos']\n",
        "      enpos = pt_optim_dict['enpos']\n",
        "      pred = pt_optim_dict['pred']\n",
        "      for j in range(stpos, enpos):\n",
        "        st_idx = j - stpos\n",
        "        en_idx = enpos - 1 - j\n",
        "        if priority == 'center':          \n",
        "          pred_eval = st_idx * en_idx\n",
        "        elif priority == 'top':\n",
        "          pred_eval = (en_idx) ** 2\n",
        "        elif priority == 'bottom':\n",
        "          pred_eval = (st_idx) ** 2\n",
        "        else:\n",
        "          None\n",
        "        if optim_dicts[qry].get(j):\n",
        "          if optim_dicts[qry][j][-1] < pred_eval:\n",
        "            optim_dicts[qry][j] = [pred[st_idx], pred_eval]\n",
        "        else:\n",
        "          optim_dicts[qry][j] = [pred[st_idx], pred_eval]\n",
        "    optim_dicts_all.append(optim_dicts)\n",
        "  return optim_dicts_all"
      ],
      "metadata": {
        "id": "88fxd4xHQJnQ"
      },
      "execution_count": null,
      "outputs": []
    },
    {
      "cell_type": "code",
      "source": [
        "# Showing F1 Score and Accuracy in all an by qry\n",
        "import numpy as np\n",
        "from sklearn.metrics import f1_score, accuracy_score\n",
        "\n",
        "def show_statistics_valid(all_predited_list, all_tgt_list, thres_list):\n",
        "  best_all_predited_list = []\n",
        "  for i in range(17):\n",
        "    by_thres_predicted = []\n",
        "    f1_list, acc_list = [], []\n",
        "    for j, thres in enumerate(thres_list):\n",
        "      by_qry_predicted = []\n",
        "      by_qry_tgt = []\n",
        "      for doc_pred, doc_tgt in zip(all_predited_list, all_tgt_list):\n",
        "        by_qry_predicted += doc_pred[j][i]\n",
        "        by_qry_tgt += doc_tgt[i]\n",
        "      f1 = f1_score(by_qry_predicted, by_qry_tgt)\n",
        "      acc = accuracy_score(by_qry_predicted, by_qry_tgt)\n",
        "      f1_list.append(f1)\n",
        "      acc_list.append(acc)\n",
        "    bs = np.argmax(f1_list)\n",
        "    print(f'Goal{i+1}, threshold: {thres_list[bs]}, f1_score: {round(f1_list[bs], 3)}, accuracy: {round(acc_list[bs], 3)}')\n",
        "    best_all_predited_list.append([doc_pred[bs][i] for doc_pred in all_predited_list])\n",
        "  \n",
        "  best_all_predited_list_t = np.array(best_all_predited_list).T.tolist()\n",
        "  single_predicted = []\n",
        "  single_tgt = []\n",
        "  for doc_pred, doc_tgt in zip(best_all_predited_list_t, all_tgt_list):\n",
        "    for qry_pred, qry_tgt in zip(doc_pred, doc_tgt):\n",
        "      single_predicted += qry_pred\n",
        "      single_tgt += qry_tgt\n",
        "  best_f1 = f1_score(single_predicted, single_tgt)\n",
        "  best_acc = accuracy_score(single_predicted, single_tgt)\n",
        "  print(f'Total Best f1_score:{round(best_f1, 3)}, accuracy:{round(best_acc, 3)}')"
      ],
      "metadata": {
        "id": "sRQJIYfvbCcU"
      },
      "execution_count": null,
      "outputs": []
    },
    {
      "cell_type": "code",
      "source": [
        "import torch\n",
        "from glob import glob\n",
        "import numpy as np\n",
        "\n",
        "def validate_execute(validation_list):\n",
        "  for step, align in validation_list:\n",
        "    print(f'step:{step}, align:{align}')\n",
        "    dataset = torch.load(glob(work_dir + '/dataset.pt')[0])\n",
        "    optim_list_all = []\n",
        "    pt_optim_dicts_all = torch.load(glob(work_dir + '/results/valid.step' + str(step) + '.optim_dicts_all.pt')[0])\n",
        "    for i in range(1, 18):\n",
        "      optim_list_by_qry = []\n",
        "      optim_dicts_all = gen_optim_list(pt_optim_dicts_all, str(i), align)\n",
        "      for optim_dict in optim_dicts_all:\n",
        "        optim_list_by_qry.append(torch.tensor([optim_dict[str(i)][j][0] for j in sorted(optim_dict[str(i)])]))\n",
        "      optim_list_all.append(optim_list_by_qry)\n",
        "\n",
        "    thres_range = range(1, 70, 1)\n",
        "    src_pred_list = []\n",
        "    for i in range(17):\n",
        "      src_pred_list_by_thres = []\n",
        "      for j in thres_range:\n",
        "        src_pred = predict_goals(optim_list_all[i], threshold=(j/100))\n",
        "        src_pred_list_by_thres.append(src_pred)\n",
        "      src_pred_list.append(src_pred_list_by_thres)\n",
        "    src_pred_list_t = np.array(src_pred_list).T.tolist()\n",
        "    show_statistics_valid(src_pred_list_t, dataset['tgt_list_valid'], [i/100 for i in thres_range])"
      ],
      "metadata": {
        "id": "anUgKT4qf3vG"
      },
      "execution_count": null,
      "outputs": []
    },
    {
      "cell_type": "code",
      "source": [
        "# Showing Optimal Hyperparameters (Models, Threshold, and Alignment)\n",
        "valiation_list = [(i, j) for j in ['center', 'top', 'bottom'] for i in range(65000, 80001, 5000)]\n",
        "validate_execute(valiation_list)"
      ],
      "metadata": {
        "colab": {
          "base_uri": "https://localhost:8080/"
        },
        "id": "Z10SQHbchLVo",
        "outputId": "fafc7532-b433-4245-a0a5-a815fa2483c9"
      },
      "execution_count": null,
      "outputs": [
        {
          "output_type": "stream",
          "name": "stdout",
          "text": [
            "step:65000, align:center\n"
          ]
        },
        {
          "output_type": "stream",
          "name": "stderr",
          "text": [
            "/usr/local/lib/python3.7/dist-packages/ipykernel_launcher.py:26: VisibleDeprecationWarning: Creating an ndarray from ragged nested sequences (which is a list-or-tuple of lists-or-tuples-or ndarrays with different lengths or shapes) is deprecated. If you meant to do this, you must specify 'dtype=object' when creating the ndarray.\n"
          ]
        },
        {
          "output_type": "stream",
          "name": "stdout",
          "text": [
            "Goal1, threshold: 0.02, f1_score: 0.172, accuracy: 0.965\n",
            "Goal2, threshold: 0.07, f1_score: 0.466, accuracy: 0.986\n",
            "Goal3, threshold: 0.07, f1_score: 0.343, accuracy: 0.87\n",
            "Goal4, threshold: 0.1, f1_score: 0.338, accuracy: 0.968\n",
            "Goal5, threshold: 0.14, f1_score: 0.468, accuracy: 0.961\n",
            "Goal6, threshold: 0.1, f1_score: 0.19, accuracy: 0.979\n",
            "Goal7, threshold: 0.19, f1_score: 0.49, accuracy: 0.935\n",
            "Goal8, threshold: 0.12, f1_score: 0.437, accuracy: 0.899\n",
            "Goal9, threshold: 0.17, f1_score: 0.33, accuracy: 0.884\n",
            "Goal10, threshold: 0.15, f1_score: 0.28, accuracy: 0.957\n",
            "Goal11, threshold: 0.22, f1_score: 0.398, accuracy: 0.951\n",
            "Goal12, threshold: 0.21, f1_score: 0.45, accuracy: 0.907\n",
            "Goal13, threshold: 0.32, f1_score: 0.468, accuracy: 0.943\n",
            "Goal14, threshold: 0.15, f1_score: 0.489, accuracy: 0.977\n",
            "Goal15, threshold: 0.14, f1_score: 0.424, accuracy: 0.953\n",
            "Goal16, threshold: 0.35, f1_score: 0.245, accuracy: 0.974\n",
            "Goal17, threshold: 0.01, f1_score: 0.224, accuracy: 0.745\n"
          ]
        },
        {
          "output_type": "stream",
          "name": "stderr",
          "text": [
            "/usr/local/lib/python3.7/dist-packages/ipykernel_launcher.py:24: VisibleDeprecationWarning: Creating an ndarray from ragged nested sequences (which is a list-or-tuple of lists-or-tuples-or ndarrays with different lengths or shapes) is deprecated. If you meant to do this, you must specify 'dtype=object' when creating the ndarray.\n"
          ]
        },
        {
          "output_type": "stream",
          "name": "stdout",
          "text": [
            "Total Best f1_score:0.364, accuracy:0.932\n",
            "step:70000, align:center\n"
          ]
        },
        {
          "output_type": "stream",
          "name": "stderr",
          "text": [
            "/usr/local/lib/python3.7/dist-packages/ipykernel_launcher.py:26: VisibleDeprecationWarning: Creating an ndarray from ragged nested sequences (which is a list-or-tuple of lists-or-tuples-or ndarrays with different lengths or shapes) is deprecated. If you meant to do this, you must specify 'dtype=object' when creating the ndarray.\n"
          ]
        },
        {
          "output_type": "stream",
          "name": "stdout",
          "text": [
            "Goal1, threshold: 0.57, f1_score: 0.106, accuracy: 0.979\n",
            "Goal2, threshold: 0.25, f1_score: 0.261, accuracy: 0.983\n",
            "Goal3, threshold: 0.18, f1_score: 0.299, accuracy: 0.889\n",
            "Goal4, threshold: 0.6, f1_score: 0.315, accuracy: 0.973\n",
            "Goal5, threshold: 0.41, f1_score: 0.453, accuracy: 0.95\n",
            "Goal6, threshold: 0.03, f1_score: 0.09, accuracy: 0.965\n",
            "Goal7, threshold: 0.02, f1_score: 0.308, accuracy: 0.89\n",
            "Goal8, threshold: 0.01, f1_score: 0.387, accuracy: 0.873\n",
            "Goal9, threshold: 0.04, f1_score: 0.258, accuracy: 0.877\n",
            "Goal10, threshold: 0.65, f1_score: 0.291, accuracy: 0.965\n",
            "Goal11, threshold: 0.06, f1_score: 0.25, accuracy: 0.913\n",
            "Goal12, threshold: 0.01, f1_score: 0.335, accuracy: 0.863\n",
            "Goal13, threshold: 0.11, f1_score: 0.357, accuracy: 0.914\n",
            "Goal14, threshold: 0.04, f1_score: 0.292, accuracy: 0.972\n",
            "Goal15, threshold: 0.08, f1_score: 0.271, accuracy: 0.942\n",
            "Goal16, threshold: 0.03, f1_score: 0.136, accuracy: 0.962\n",
            "Goal17, threshold: 0.01, f1_score: 0.194, accuracy: 0.773\n"
          ]
        },
        {
          "output_type": "stream",
          "name": "stderr",
          "text": [
            "/usr/local/lib/python3.7/dist-packages/ipykernel_launcher.py:24: VisibleDeprecationWarning: Creating an ndarray from ragged nested sequences (which is a list-or-tuple of lists-or-tuples-or ndarrays with different lengths or shapes) is deprecated. If you meant to do this, you must specify 'dtype=object' when creating the ndarray.\n"
          ]
        },
        {
          "output_type": "stream",
          "name": "stdout",
          "text": [
            "Total Best f1_score:0.29, accuracy:0.922\n",
            "step:75000, align:center\n"
          ]
        },
        {
          "output_type": "stream",
          "name": "stderr",
          "text": [
            "/usr/local/lib/python3.7/dist-packages/ipykernel_launcher.py:26: VisibleDeprecationWarning: Creating an ndarray from ragged nested sequences (which is a list-or-tuple of lists-or-tuples-or ndarrays with different lengths or shapes) is deprecated. If you meant to do this, you must specify 'dtype=object' when creating the ndarray.\n"
          ]
        },
        {
          "output_type": "stream",
          "name": "stdout",
          "text": [
            "Goal1, threshold: 0.42, f1_score: 0.135, accuracy: 0.987\n",
            "Goal2, threshold: 0.13, f1_score: 0.248, accuracy: 0.977\n",
            "Goal3, threshold: 0.26, f1_score: 0.323, accuracy: 0.851\n",
            "Goal4, threshold: 0.69, f1_score: 0.323, accuracy: 0.95\n",
            "Goal5, threshold: 0.42, f1_score: 0.44, accuracy: 0.945\n",
            "Goal6, threshold: 0.02, f1_score: 0.143, accuracy: 0.958\n",
            "Goal7, threshold: 0.34, f1_score: 0.485, accuracy: 0.937\n",
            "Goal8, threshold: 0.44, f1_score: 0.402, accuracy: 0.893\n",
            "Goal9, threshold: 0.34, f1_score: 0.333, accuracy: 0.889\n",
            "Goal10, threshold: 0.46, f1_score: 0.299, accuracy: 0.969\n",
            "Goal11, threshold: 0.69, f1_score: 0.315, accuracy: 0.955\n",
            "Goal12, threshold: 0.53, f1_score: 0.402, accuracy: 0.888\n",
            "Goal13, threshold: 0.67, f1_score: 0.43, accuracy: 0.945\n",
            "Goal14, threshold: 0.17, f1_score: 0.45, accuracy: 0.976\n",
            "Goal15, threshold: 0.18, f1_score: 0.343, accuracy: 0.942\n",
            "Goal16, threshold: 0.52, f1_score: 0.285, accuracy: 0.925\n",
            "Goal17, threshold: 0.03, f1_score: 0.166, accuracy: 0.58\n"
          ]
        },
        {
          "output_type": "stream",
          "name": "stderr",
          "text": [
            "/usr/local/lib/python3.7/dist-packages/ipykernel_launcher.py:24: VisibleDeprecationWarning: Creating an ndarray from ragged nested sequences (which is a list-or-tuple of lists-or-tuples-or ndarrays with different lengths or shapes) is deprecated. If you meant to do this, you must specify 'dtype=object' when creating the ndarray.\n"
          ]
        },
        {
          "output_type": "stream",
          "name": "stdout",
          "text": [
            "Total Best f1_score:0.314, accuracy:0.916\n",
            "step:80000, align:center\n"
          ]
        },
        {
          "output_type": "stream",
          "name": "stderr",
          "text": [
            "/usr/local/lib/python3.7/dist-packages/ipykernel_launcher.py:26: VisibleDeprecationWarning: Creating an ndarray from ragged nested sequences (which is a list-or-tuple of lists-or-tuples-or ndarrays with different lengths or shapes) is deprecated. If you meant to do this, you must specify 'dtype=object' when creating the ndarray.\n"
          ]
        },
        {
          "output_type": "stream",
          "name": "stdout",
          "text": [
            "Goal1, threshold: 0.54, f1_score: 0.162, accuracy: 0.984\n",
            "Goal2, threshold: 0.34, f1_score: 0.244, accuracy: 0.984\n",
            "Goal3, threshold: 0.02, f1_score: 0.296, accuracy: 0.787\n",
            "Goal4, threshold: 0.51, f1_score: 0.37, accuracy: 0.973\n",
            "Goal5, threshold: 0.35, f1_score: 0.415, accuracy: 0.95\n",
            "Goal6, threshold: 0.12, f1_score: 0.186, accuracy: 0.957\n",
            "Goal7, threshold: 0.2, f1_score: 0.461, accuracy: 0.945\n",
            "Goal8, threshold: 0.11, f1_score: 0.403, accuracy: 0.902\n",
            "Goal9, threshold: 0.07, f1_score: 0.29, accuracy: 0.864\n",
            "Goal10, threshold: 0.65, f1_score: 0.281, accuracy: 0.972\n",
            "Goal11, threshold: 0.12, f1_score: 0.266, accuracy: 0.922\n",
            "Goal12, threshold: 0.21, f1_score: 0.428, accuracy: 0.914\n",
            "Goal13, threshold: 0.25, f1_score: 0.444, accuracy: 0.934\n",
            "Goal14, threshold: 0.3, f1_score: 0.379, accuracy: 0.97\n",
            "Goal15, threshold: 0.31, f1_score: 0.395, accuracy: 0.942\n",
            "Goal16, threshold: 0.24, f1_score: 0.225, accuracy: 0.967\n",
            "Goal17, threshold: 0.11, f1_score: 0.23, accuracy: 0.812\n"
          ]
        },
        {
          "output_type": "stream",
          "name": "stderr",
          "text": [
            "/usr/local/lib/python3.7/dist-packages/ipykernel_launcher.py:24: VisibleDeprecationWarning: Creating an ndarray from ragged nested sequences (which is a list-or-tuple of lists-or-tuples-or ndarrays with different lengths or shapes) is deprecated. If you meant to do this, you must specify 'dtype=object' when creating the ndarray.\n"
          ]
        },
        {
          "output_type": "stream",
          "name": "stdout",
          "text": [
            "Total Best f1_score:0.332, accuracy:0.928\n",
            "step:65000, align:top\n"
          ]
        },
        {
          "output_type": "stream",
          "name": "stderr",
          "text": [
            "/usr/local/lib/python3.7/dist-packages/ipykernel_launcher.py:26: VisibleDeprecationWarning: Creating an ndarray from ragged nested sequences (which is a list-or-tuple of lists-or-tuples-or ndarrays with different lengths or shapes) is deprecated. If you meant to do this, you must specify 'dtype=object' when creating the ndarray.\n"
          ]
        },
        {
          "output_type": "stream",
          "name": "stdout",
          "text": [
            "Goal1, threshold: 0.01, f1_score: 0.176, accuracy: 0.95\n",
            "Goal2, threshold: 0.09, f1_score: 0.451, accuracy: 0.987\n",
            "Goal3, threshold: 0.09, f1_score: 0.339, accuracy: 0.885\n",
            "Goal4, threshold: 0.19, f1_score: 0.353, accuracy: 0.977\n",
            "Goal5, threshold: 0.15, f1_score: 0.438, accuracy: 0.96\n",
            "Goal6, threshold: 0.1, f1_score: 0.182, accuracy: 0.979\n",
            "Goal7, threshold: 0.23, f1_score: 0.483, accuracy: 0.941\n",
            "Goal8, threshold: 0.12, f1_score: 0.416, accuracy: 0.895\n",
            "Goal9, threshold: 0.17, f1_score: 0.328, accuracy: 0.883\n",
            "Goal10, threshold: 0.2, f1_score: 0.28, accuracy: 0.963\n",
            "Goal11, threshold: 0.21, f1_score: 0.374, accuracy: 0.947\n",
            "Goal12, threshold: 0.27, f1_score: 0.429, accuracy: 0.916\n",
            "Goal13, threshold: 0.34, f1_score: 0.456, accuracy: 0.943\n",
            "Goal14, threshold: 0.14, f1_score: 0.474, accuracy: 0.974\n",
            "Goal15, threshold: 0.16, f1_score: 0.411, accuracy: 0.955\n",
            "Goal16, threshold: 0.37, f1_score: 0.246, accuracy: 0.975\n",
            "Goal17, threshold: 0.01, f1_score: 0.227, accuracy: 0.744\n"
          ]
        },
        {
          "output_type": "stream",
          "name": "stderr",
          "text": [
            "/usr/local/lib/python3.7/dist-packages/ipykernel_launcher.py:24: VisibleDeprecationWarning: Creating an ndarray from ragged nested sequences (which is a list-or-tuple of lists-or-tuples-or ndarrays with different lengths or shapes) is deprecated. If you meant to do this, you must specify 'dtype=object' when creating the ndarray.\n"
          ]
        },
        {
          "output_type": "stream",
          "name": "stdout",
          "text": [
            "Total Best f1_score:0.351, accuracy:0.934\n",
            "step:70000, align:top\n"
          ]
        },
        {
          "output_type": "stream",
          "name": "stderr",
          "text": [
            "/usr/local/lib/python3.7/dist-packages/ipykernel_launcher.py:26: VisibleDeprecationWarning: Creating an ndarray from ragged nested sequences (which is a list-or-tuple of lists-or-tuples-or ndarrays with different lengths or shapes) is deprecated. If you meant to do this, you must specify 'dtype=object' when creating the ndarray.\n"
          ]
        },
        {
          "output_type": "stream",
          "name": "stdout",
          "text": [
            "Goal1, threshold: 0.35, f1_score: 0.092, accuracy: 0.97\n",
            "Goal2, threshold: 0.26, f1_score: 0.25, accuracy: 0.982\n",
            "Goal3, threshold: 0.01, f1_score: 0.292, accuracy: 0.84\n",
            "Goal4, threshold: 0.53, f1_score: 0.32, accuracy: 0.972\n",
            "Goal5, threshold: 0.4, f1_score: 0.432, accuracy: 0.948\n",
            "Goal6, threshold: 0.01, f1_score: 0.066, accuracy: 0.938\n",
            "Goal7, threshold: 0.02, f1_score: 0.305, accuracy: 0.89\n",
            "Goal8, threshold: 0.01, f1_score: 0.372, accuracy: 0.87\n",
            "Goal9, threshold: 0.03, f1_score: 0.258, accuracy: 0.868\n",
            "Goal10, threshold: 0.66, f1_score: 0.278, accuracy: 0.965\n",
            "Goal11, threshold: 0.06, f1_score: 0.25, accuracy: 0.914\n",
            "Goal12, threshold: 0.01, f1_score: 0.33, accuracy: 0.862\n",
            "Goal13, threshold: 0.07, f1_score: 0.333, accuracy: 0.9\n",
            "Goal14, threshold: 0.04, f1_score: 0.273, accuracy: 0.971\n",
            "Goal15, threshold: 0.06, f1_score: 0.248, accuracy: 0.934\n",
            "Goal16, threshold: 0.03, f1_score: 0.131, accuracy: 0.961\n",
            "Goal17, threshold: 0.01, f1_score: 0.192, accuracy: 0.773\n"
          ]
        },
        {
          "output_type": "stream",
          "name": "stderr",
          "text": [
            "/usr/local/lib/python3.7/dist-packages/ipykernel_launcher.py:24: VisibleDeprecationWarning: Creating an ndarray from ragged nested sequences (which is a list-or-tuple of lists-or-tuples-or ndarrays with different lengths or shapes) is deprecated. If you meant to do this, you must specify 'dtype=object' when creating the ndarray.\n"
          ]
        },
        {
          "output_type": "stream",
          "name": "stdout",
          "text": [
            "Total Best f1_score:0.278, accuracy:0.915\n",
            "step:75000, align:top\n"
          ]
        },
        {
          "output_type": "stream",
          "name": "stderr",
          "text": [
            "/usr/local/lib/python3.7/dist-packages/ipykernel_launcher.py:26: VisibleDeprecationWarning: Creating an ndarray from ragged nested sequences (which is a list-or-tuple of lists-or-tuples-or ndarrays with different lengths or shapes) is deprecated. If you meant to do this, you must specify 'dtype=object' when creating the ndarray.\n"
          ]
        },
        {
          "output_type": "stream",
          "name": "stdout",
          "text": [
            "Goal1, threshold: 0.42, f1_score: 0.106, accuracy: 0.986\n",
            "Goal2, threshold: 0.13, f1_score: 0.256, accuracy: 0.977\n",
            "Goal3, threshold: 0.23, f1_score: 0.316, accuracy: 0.84\n",
            "Goal4, threshold: 0.69, f1_score: 0.29, accuracy: 0.948\n",
            "Goal5, threshold: 0.39, f1_score: 0.413, accuracy: 0.94\n",
            "Goal6, threshold: 0.02, f1_score: 0.145, accuracy: 0.959\n",
            "Goal7, threshold: 0.31, f1_score: 0.472, accuracy: 0.933\n",
            "Goal8, threshold: 0.45, f1_score: 0.387, accuracy: 0.891\n",
            "Goal9, threshold: 0.29, f1_score: 0.327, accuracy: 0.873\n",
            "Goal10, threshold: 0.41, f1_score: 0.281, accuracy: 0.965\n",
            "Goal11, threshold: 0.56, f1_score: 0.314, accuracy: 0.946\n",
            "Goal12, threshold: 0.53, f1_score: 0.391, accuracy: 0.885\n",
            "Goal13, threshold: 0.6, f1_score: 0.407, accuracy: 0.937\n",
            "Goal14, threshold: 0.19, f1_score: 0.439, accuracy: 0.977\n",
            "Goal15, threshold: 0.07, f1_score: 0.317, accuracy: 0.904\n",
            "Goal16, threshold: 0.53, f1_score: 0.278, accuracy: 0.925\n",
            "Goal17, threshold: 0.07, f1_score: 0.165, accuracy: 0.673\n"
          ]
        },
        {
          "output_type": "stream",
          "name": "stderr",
          "text": [
            "/usr/local/lib/python3.7/dist-packages/ipykernel_launcher.py:24: VisibleDeprecationWarning: Creating an ndarray from ragged nested sequences (which is a list-or-tuple of lists-or-tuples-or ndarrays with different lengths or shapes) is deprecated. If you meant to do this, you must specify 'dtype=object' when creating the ndarray.\n"
          ]
        },
        {
          "output_type": "stream",
          "name": "stdout",
          "text": [
            "Total Best f1_score:0.313, accuracy:0.915\n",
            "step:80000, align:top\n"
          ]
        },
        {
          "output_type": "stream",
          "name": "stderr",
          "text": [
            "/usr/local/lib/python3.7/dist-packages/ipykernel_launcher.py:26: VisibleDeprecationWarning: Creating an ndarray from ragged nested sequences (which is a list-or-tuple of lists-or-tuples-or ndarrays with different lengths or shapes) is deprecated. If you meant to do this, you must specify 'dtype=object' when creating the ndarray.\n"
          ]
        },
        {
          "output_type": "stream",
          "name": "stdout",
          "text": [
            "Goal1, threshold: 0.6, f1_score: 0.13, accuracy: 0.985\n",
            "Goal2, threshold: 0.33, f1_score: 0.277, accuracy: 0.985\n",
            "Goal3, threshold: 0.02, f1_score: 0.294, accuracy: 0.785\n",
            "Goal4, threshold: 0.51, f1_score: 0.372, accuracy: 0.973\n",
            "Goal5, threshold: 0.31, f1_score: 0.388, accuracy: 0.945\n",
            "Goal6, threshold: 0.06, f1_score: 0.147, accuracy: 0.928\n",
            "Goal7, threshold: 0.19, f1_score: 0.425, accuracy: 0.941\n",
            "Goal8, threshold: 0.04, f1_score: 0.383, accuracy: 0.862\n",
            "Goal9, threshold: 0.06, f1_score: 0.298, accuracy: 0.856\n",
            "Goal10, threshold: 0.57, f1_score: 0.265, accuracy: 0.967\n",
            "Goal11, threshold: 0.12, f1_score: 0.257, accuracy: 0.92\n",
            "Goal12, threshold: 0.2, f1_score: 0.411, accuracy: 0.909\n",
            "Goal13, threshold: 0.23, f1_score: 0.405, accuracy: 0.927\n",
            "Goal14, threshold: 0.3, f1_score: 0.351, accuracy: 0.969\n",
            "Goal15, threshold: 0.31, f1_score: 0.365, accuracy: 0.939\n",
            "Goal16, threshold: 0.27, f1_score: 0.205, accuracy: 0.969\n",
            "Goal17, threshold: 0.09, f1_score: 0.224, accuracy: 0.796\n"
          ]
        },
        {
          "output_type": "stream",
          "name": "stderr",
          "text": [
            "/usr/local/lib/python3.7/dist-packages/ipykernel_launcher.py:24: VisibleDeprecationWarning: Creating an ndarray from ragged nested sequences (which is a list-or-tuple of lists-or-tuples-or ndarrays with different lengths or shapes) is deprecated. If you meant to do this, you must specify 'dtype=object' when creating the ndarray.\n"
          ]
        },
        {
          "output_type": "stream",
          "name": "stdout",
          "text": [
            "Total Best f1_score:0.317, accuracy:0.921\n",
            "step:65000, align:bottom\n"
          ]
        },
        {
          "output_type": "stream",
          "name": "stderr",
          "text": [
            "/usr/local/lib/python3.7/dist-packages/ipykernel_launcher.py:26: VisibleDeprecationWarning: Creating an ndarray from ragged nested sequences (which is a list-or-tuple of lists-or-tuples-or ndarrays with different lengths or shapes) is deprecated. If you meant to do this, you must specify 'dtype=object' when creating the ndarray.\n"
          ]
        },
        {
          "output_type": "stream",
          "name": "stdout",
          "text": [
            "Goal1, threshold: 0.01, f1_score: 0.171, accuracy: 0.948\n",
            "Goal2, threshold: 0.15, f1_score: 0.494, accuracy: 0.991\n",
            "Goal3, threshold: 0.05, f1_score: 0.337, accuracy: 0.849\n",
            "Goal4, threshold: 0.04, f1_score: 0.316, accuracy: 0.952\n",
            "Goal5, threshold: 0.15, f1_score: 0.44, accuracy: 0.96\n",
            "Goal6, threshold: 0.14, f1_score: 0.164, accuracy: 0.983\n",
            "Goal7, threshold: 0.17, f1_score: 0.471, accuracy: 0.929\n",
            "Goal8, threshold: 0.11, f1_score: 0.433, accuracy: 0.893\n",
            "Goal9, threshold: 0.17, f1_score: 0.318, accuracy: 0.882\n",
            "Goal10, threshold: 0.2, f1_score: 0.263, accuracy: 0.962\n",
            "Goal11, threshold: 0.22, f1_score: 0.366, accuracy: 0.948\n",
            "Goal12, threshold: 0.21, f1_score: 0.448, accuracy: 0.906\n",
            "Goal13, threshold: 0.32, f1_score: 0.472, accuracy: 0.943\n",
            "Goal14, threshold: 0.16, f1_score: 0.487, accuracy: 0.977\n",
            "Goal15, threshold: 0.14, f1_score: 0.41, accuracy: 0.951\n",
            "Goal16, threshold: 0.43, f1_score: 0.252, accuracy: 0.976\n",
            "Goal17, threshold: 0.02, f1_score: 0.218, accuracy: 0.78\n"
          ]
        },
        {
          "output_type": "stream",
          "name": "stderr",
          "text": [
            "/usr/local/lib/python3.7/dist-packages/ipykernel_launcher.py:24: VisibleDeprecationWarning: Creating an ndarray from ragged nested sequences (which is a list-or-tuple of lists-or-tuples-or ndarrays with different lengths or shapes) is deprecated. If you meant to do this, you must specify 'dtype=object' when creating the ndarray.\n"
          ]
        },
        {
          "output_type": "stream",
          "name": "stdout",
          "text": [
            "Total Best f1_score:0.357, accuracy:0.931\n",
            "step:70000, align:bottom\n"
          ]
        },
        {
          "output_type": "stream",
          "name": "stderr",
          "text": [
            "/usr/local/lib/python3.7/dist-packages/ipykernel_launcher.py:26: VisibleDeprecationWarning: Creating an ndarray from ragged nested sequences (which is a list-or-tuple of lists-or-tuples-or ndarrays with different lengths or shapes) is deprecated. If you meant to do this, you must specify 'dtype=object' when creating the ndarray.\n"
          ]
        },
        {
          "output_type": "stream",
          "name": "stdout",
          "text": [
            "Goal1, threshold: 0.03, f1_score: 0.071, accuracy: 0.932\n",
            "Goal2, threshold: 0.26, f1_score: 0.269, accuracy: 0.983\n",
            "Goal3, threshold: 0.01, f1_score: 0.288, accuracy: 0.839\n",
            "Goal4, threshold: 0.56, f1_score: 0.289, accuracy: 0.971\n",
            "Goal5, threshold: 0.4, f1_score: 0.426, accuracy: 0.947\n",
            "Goal6, threshold: 0.01, f1_score: 0.085, accuracy: 0.939\n",
            "Goal7, threshold: 0.01, f1_score: 0.298, accuracy: 0.869\n",
            "Goal8, threshold: 0.01, f1_score: 0.376, accuracy: 0.87\n",
            "Goal9, threshold: 0.04, f1_score: 0.243, accuracy: 0.874\n",
            "Goal10, threshold: 0.6, f1_score: 0.259, accuracy: 0.962\n",
            "Goal11, threshold: 0.08, f1_score: 0.232, accuracy: 0.917\n",
            "Goal12, threshold: 0.01, f1_score: 0.332, accuracy: 0.861\n",
            "Goal13, threshold: 0.1, f1_score: 0.364, accuracy: 0.912\n",
            "Goal14, threshold: 0.04, f1_score: 0.275, accuracy: 0.971\n",
            "Goal15, threshold: 0.06, f1_score: 0.27, accuracy: 0.934\n",
            "Goal16, threshold: 0.03, f1_score: 0.13, accuracy: 0.961\n",
            "Goal17, threshold: 0.01, f1_score: 0.192, accuracy: 0.773\n"
          ]
        },
        {
          "output_type": "stream",
          "name": "stderr",
          "text": [
            "/usr/local/lib/python3.7/dist-packages/ipykernel_launcher.py:24: VisibleDeprecationWarning: Creating an ndarray from ragged nested sequences (which is a list-or-tuple of lists-or-tuples-or ndarrays with different lengths or shapes) is deprecated. If you meant to do this, you must specify 'dtype=object' when creating the ndarray.\n"
          ]
        },
        {
          "output_type": "stream",
          "name": "stdout",
          "text": [
            "Total Best f1_score:0.274, accuracy:0.913\n",
            "step:75000, align:bottom\n"
          ]
        },
        {
          "output_type": "stream",
          "name": "stderr",
          "text": [
            "/usr/local/lib/python3.7/dist-packages/ipykernel_launcher.py:26: VisibleDeprecationWarning: Creating an ndarray from ragged nested sequences (which is a list-or-tuple of lists-or-tuples-or ndarrays with different lengths or shapes) is deprecated. If you meant to do this, you must specify 'dtype=object' when creating the ndarray.\n"
          ]
        },
        {
          "output_type": "stream",
          "name": "stdout",
          "text": [
            "Goal1, threshold: 0.15, f1_score: 0.101, accuracy: 0.978\n",
            "Goal2, threshold: 0.28, f1_score: 0.262, accuracy: 0.987\n",
            "Goal3, threshold: 0.24, f1_score: 0.309, accuracy: 0.842\n",
            "Goal4, threshold: 0.68, f1_score: 0.314, accuracy: 0.948\n",
            "Goal5, threshold: 0.42, f1_score: 0.428, accuracy: 0.944\n",
            "Goal6, threshold: 0.02, f1_score: 0.135, accuracy: 0.959\n",
            "Goal7, threshold: 0.5, f1_score: 0.462, accuracy: 0.945\n",
            "Goal8, threshold: 0.44, f1_score: 0.384, accuracy: 0.89\n",
            "Goal9, threshold: 0.31, f1_score: 0.311, accuracy: 0.876\n",
            "Goal10, threshold: 0.47, f1_score: 0.296, accuracy: 0.969\n",
            "Goal11, threshold: 0.61, f1_score: 0.27, accuracy: 0.947\n",
            "Goal12, threshold: 0.53, f1_score: 0.391, accuracy: 0.885\n",
            "Goal13, threshold: 0.68, f1_score: 0.415, accuracy: 0.945\n",
            "Goal14, threshold: 0.15, f1_score: 0.446, accuracy: 0.974\n",
            "Goal15, threshold: 0.22, f1_score: 0.348, accuracy: 0.949\n",
            "Goal16, threshold: 0.48, f1_score: 0.272, accuracy: 0.92\n",
            "Goal17, threshold: 0.02, f1_score: 0.165, accuracy: 0.53\n"
          ]
        },
        {
          "output_type": "stream",
          "name": "stderr",
          "text": [
            "/usr/local/lib/python3.7/dist-packages/ipykernel_launcher.py:24: VisibleDeprecationWarning: Creating an ndarray from ragged nested sequences (which is a list-or-tuple of lists-or-tuples-or ndarrays with different lengths or shapes) is deprecated. If you meant to do this, you must specify 'dtype=object' when creating the ndarray.\n"
          ]
        },
        {
          "output_type": "stream",
          "name": "stdout",
          "text": [
            "Total Best f1_score:0.297, accuracy:0.911\n",
            "step:80000, align:bottom\n"
          ]
        },
        {
          "output_type": "stream",
          "name": "stderr",
          "text": [
            "/usr/local/lib/python3.7/dist-packages/ipykernel_launcher.py:26: VisibleDeprecationWarning: Creating an ndarray from ragged nested sequences (which is a list-or-tuple of lists-or-tuples-or ndarrays with different lengths or shapes) is deprecated. If you meant to do this, you must specify 'dtype=object' when creating the ndarray.\n"
          ]
        },
        {
          "output_type": "stream",
          "name": "stdout",
          "text": [
            "Goal1, threshold: 0.54, f1_score: 0.138, accuracy: 0.984\n",
            "Goal2, threshold: 0.28, f1_score: 0.227, accuracy: 0.98\n",
            "Goal3, threshold: 0.02, f1_score: 0.29, accuracy: 0.786\n",
            "Goal4, threshold: 0.57, f1_score: 0.358, accuracy: 0.975\n",
            "Goal5, threshold: 0.36, f1_score: 0.393, accuracy: 0.949\n",
            "Goal6, threshold: 0.13, f1_score: 0.178, accuracy: 0.959\n",
            "Goal7, threshold: 0.2, f1_score: 0.443, accuracy: 0.943\n",
            "Goal8, threshold: 0.11, f1_score: 0.399, accuracy: 0.901\n",
            "Goal9, threshold: 0.06, f1_score: 0.269, accuracy: 0.852\n",
            "Goal10, threshold: 0.53, f1_score: 0.266, accuracy: 0.965\n",
            "Goal11, threshold: 0.12, f1_score: 0.258, accuracy: 0.92\n",
            "Goal12, threshold: 0.18, f1_score: 0.413, accuracy: 0.906\n",
            "Goal13, threshold: 0.28, f1_score: 0.432, accuracy: 0.936\n",
            "Goal14, threshold: 0.29, f1_score: 0.343, accuracy: 0.967\n",
            "Goal15, threshold: 0.36, f1_score: 0.379, accuracy: 0.944\n",
            "Goal16, threshold: 0.26, f1_score: 0.227, accuracy: 0.969\n",
            "Goal17, threshold: 0.11, f1_score: 0.227, accuracy: 0.811\n"
          ]
        },
        {
          "output_type": "stream",
          "name": "stderr",
          "text": [
            "/usr/local/lib/python3.7/dist-packages/ipykernel_launcher.py:24: VisibleDeprecationWarning: Creating an ndarray from ragged nested sequences (which is a list-or-tuple of lists-or-tuples-or ndarrays with different lengths or shapes) is deprecated. If you meant to do this, you must specify 'dtype=object' when creating the ndarray.\n"
          ]
        },
        {
          "output_type": "stream",
          "name": "stdout",
          "text": [
            "Total Best f1_score:0.32, accuracy:0.926\n"
          ]
        }
      ]
    },
    {
      "cell_type": "code",
      "source": [
        "################ Test ################"
      ],
      "metadata": {
        "id": "dkDKgdvmhLXs"
      },
      "execution_count": null,
      "outputs": []
    },
    {
      "cell_type": "code",
      "source": [
        "!cp $MODULE_PATH/bert_config_uncased_base_baseline.json ../bert_config_uncased_base.json\n",
        "%env LOG_PATH=$work_dir/logs/baseline\n",
        "\n",
        "%env RESULT_PATH=$work_dir/results/\n",
        "%env BERT_DATA_PATH=$work_dir/pt_data/\n",
        "%env MODEL_PATH=$work_dir/models\n",
        "# Specify the optimal model.\n",
        "!python $MODULE_PATH/src/train.py -mode test -summarizer baseline -bert_data_path $BERT_DATA_PATH -visible_gpus 0  -gpu_ranks 0 -batch_size 512 -log_file $LOG_PATH  -result_path $RESULT_PATH -test_from $MODEL_PATH/model_step_65000.pt -block_trigram true"
      ],
      "metadata": {
        "colab": {
          "base_uri": "https://localhost:8080/"
        },
        "id": "Hy9tHxSlKbk1",
        "outputId": "1320a693-7d76-45dc-d7da-b6f024335647"
      },
      "execution_count": null,
      "outputs": [
        {
          "output_type": "stream",
          "name": "stdout",
          "text": [
            "env: LOG_PATH=/content/drive/MyDrive/work_baseline/logs/baseline\n",
            "env: RESULT_PATH=/content/drive/MyDrive/work_baseline/results/\n",
            "env: BERT_DATA_PATH=/content/drive/MyDrive/work_baseline/pt_data/\n",
            "env: MODEL_PATH=/content/drive/MyDrive/work_baseline/models\n",
            "[2022-03-27 11:37:32,685 INFO] Loading checkpoint from /content/drive/MyDrive/work_baseline/models/model_step_65000.pt\n",
            "Namespace(accum_count=1, batch_size=512, bert_config_path='../bert_config_uncased_base.json', bert_data_path='/content/drive/MyDrive/work_baseline/pt_data/', beta1=0.9, beta2=0.999, block_trigram=True, dataset='', decay_method='', dropout=0.1, ff_size=2048, gpu_ranks=[0], heads=8, hidden_size=128, inter_layers=2, log_file='/content/drive/MyDrive/work_baseline/logs/baseline', lr=1, max_grad_norm=0, mode='test', model_path='../models/', optim='adam', param_init=0, param_init_glorot=True, recall_eval=False, report_every=1, report_rouge=True, result_path='/content/drive/MyDrive/work_baseline/results/', rnn_size=512, save_checkpoint_steps=5, seed=666, summarizer='baseline', temp_dir='../temp', test_all=False, test_from='/content/drive/MyDrive/work_baseline/models/model_step_65000.pt', train_from='', train_steps=1000, use_interval=True, visible_gpus='0', warmup_steps=8000, world_size=1)\n",
            "baseline!\n",
            "gpu_rank 0\n",
            "[2022-03-27 11:37:39,974 INFO] * number of parameters: 109483777\n",
            "[2022-03-27 11:37:40,308 INFO] Loading test dataset from /content/drive/MyDrive/work_baseline/pt_data/test.105.Exeo.2019.pt, number of examples: 1054\n",
            "[2022-03-27 11:38:05,009 INFO] Loading test dataset from /content/drive/MyDrive/work_baseline/pt_data/test.108.Kyokuyo.2021.pt, number of examples: 1445\n",
            "[2022-03-27 11:38:38,546 INFO] Loading test dataset from /content/drive/MyDrive/work_baseline/pt_data/test.119.KS.2020.pt, number of examples: 765\n",
            "[2022-03-27 11:38:57,531 INFO] Loading test dataset from /content/drive/MyDrive/work_baseline/pt_data/test.121.Kobelco.2020.pt, number of examples: 2873\n",
            "[2022-03-27 11:40:04,837 INFO] Loading test dataset from /content/drive/MyDrive/work_baseline/pt_data/test.122.Kose.2021.pt, number of examples: 1463\n",
            "[2022-03-27 11:40:39,318 INFO] Loading test dataset from /content/drive/MyDrive/work_baseline/pt_data/test.13.Advantest.2020.pt, number of examples: 2057\n",
            "[2022-03-27 11:41:27,622 INFO] Loading test dataset from /content/drive/MyDrive/work_baseline/pt_data/test.131.Concordia.2020.pt, number of examples: 3043\n",
            "[2022-03-27 11:42:38,752 INFO] Loading test dataset from /content/drive/MyDrive/work_baseline/pt_data/test.135.Sato.2020.pt, number of examples: 1513\n",
            "[2022-03-27 11:43:13,791 INFO] Loading test dataset from /content/drive/MyDrive/work_baseline/pt_data/test.145.Sanyo Denki.2020.pt, number of examples: 748\n",
            "[2022-03-27 11:43:31,557 INFO] Loading test dataset from /content/drive/MyDrive/work_baseline/pt_data/test.147.Sanwa Holdings.2019.pt, number of examples: 2992\n",
            "[2022-03-27 11:44:40,455 INFO] Loading test dataset from /content/drive/MyDrive/work_baseline/pt_data/test.155.Jtect.2018.pt, number of examples: 1530\n",
            "[2022-03-27 11:45:16,113 INFO] Loading test dataset from /content/drive/MyDrive/work_baseline/pt_data/test.162.77 Bank.2019.pt, number of examples: 2397\n",
            "[2022-03-27 11:46:11,371 INFO] Loading test dataset from /content/drive/MyDrive/work_baseline/pt_data/test.164.Shimizu.2021.pt, number of examples: 2890\n",
            "[2022-03-27 11:47:17,971 INFO] Loading test dataset from /content/drive/MyDrive/work_baseline/pt_data/test.169.Mol.2019.pt, number of examples: 2108\n",
            "[2022-03-27 11:48:07,197 INFO] Loading test dataset from /content/drive/MyDrive/work_baseline/pt_data/test.188.Sumitomo Bakelite.2020.pt, number of examples: 3411\n",
            "[2022-03-27 11:49:26,027 INFO] Loading test dataset from /content/drive/MyDrive/work_baseline/pt_data/test.194.Seibu Holdings.2021.pt, number of examples: 1904\n",
            "[2022-03-27 11:50:09,900 INFO] Loading test dataset from /content/drive/MyDrive/work_baseline/pt_data/test.199.Secom.2021.pt, number of examples: 1980\n",
            "[2022-03-27 11:50:55,233 INFO] Loading test dataset from /content/drive/MyDrive/work_baseline/pt_data/test.2.IHI.2019.pt, number of examples: 1547\n",
            "[2022-03-27 11:51:31,580 INFO] Loading test dataset from /content/drive/MyDrive/work_baseline/pt_data/test.214.Daiichi Life.2018.pt, number of examples: 3128\n",
            "[2022-03-27 11:52:43,243 INFO] Loading test dataset from /content/drive/MyDrive/work_baseline/pt_data/test.215.Daio Paper.2021.pt, number of examples: 1062\n",
            "[2022-03-27 11:53:07,596 INFO] Loading test dataset from /content/drive/MyDrive/work_baseline/pt_data/test.230.Pacific Industrial.2020.pt, number of examples: 1071\n",
            "[2022-03-27 11:53:32,708 INFO] Loading test dataset from /content/drive/MyDrive/work_baseline/pt_data/test.238.Takara Holdings.2020.pt, number of examples: 2414\n",
            "[2022-03-27 11:54:28,339 INFO] Loading test dataset from /content/drive/MyDrive/work_baseline/pt_data/test.240.Duskin.2020.pt, number of examples: 3026\n",
            "[2022-03-27 11:55:38,358 INFO] Loading test dataset from /content/drive/MyDrive/work_baseline/pt_data/test.243.Chiba Bank.2018.pt, number of examples: 1513\n",
            "[2022-03-27 11:56:13,877 INFO] Loading test dataset from /content/drive/MyDrive/work_baseline/pt_data/test.25.Aeon Mall.2021.pt, number of examples: 2176\n",
            "[2022-03-27 11:57:04,565 INFO] Loading test dataset from /content/drive/MyDrive/work_baseline/pt_data/test.37.Air Water.2018.pt, number of examples: 2703\n",
            "[2022-03-27 11:58:06,668 INFO] Loading test dataset from /content/drive/MyDrive/work_baseline/pt_data/test.4.Aichi Steel.2019.pt, number of examples: 1003\n",
            "[2022-03-27 11:58:30,250 INFO] Loading test dataset from /content/drive/MyDrive/work_baseline/pt_data/test.50.NEC Nets.2020.pt, number of examples: 2142\n",
            "[2022-03-27 11:59:19,984 INFO] Loading test dataset from /content/drive/MyDrive/work_baseline/pt_data/test.57.Ebara.2021.pt, number of examples: 2584\n",
            "[2022-03-27 12:00:20,318 INFO] Loading test dataset from /content/drive/MyDrive/work_baseline/pt_data/test.58.MS&AD.2020.pt, number of examples: 4658\n",
            "[2022-03-27 12:02:07,300 INFO] Loading test dataset from /content/drive/MyDrive/work_baseline/pt_data/test.62.Otsuka.2019.pt, number of examples: 2057\n",
            "[2022-03-27 12:02:54,984 INFO] Loading test dataset from /content/drive/MyDrive/work_baseline/pt_data/test.63.Autobacs Seven.2019.pt, number of examples: 1663\n",
            "[2022-03-27 12:03:34,106 INFO] Loading test dataset from /content/drive/MyDrive/work_baseline/pt_data/test.70.Omron.2020.pt, number of examples: 4046\n",
            "[2022-03-27 12:05:07,579 INFO] Loading test dataset from /content/drive/MyDrive/work_baseline/pt_data/test.82.Kanematsu.2021.pt, number of examples: 2516\n",
            "[2022-03-27 12:06:06,022 INFO] Loading test dataset from /content/drive/MyDrive/work_baseline/pt_data/test.86.KLINE.2020.pt, number of examples: 1972\n",
            "[2022-03-27 12:06:51,850 INFO] Loading test dataset from /content/drive/MyDrive/work_baseline/pt_data/test.87.Kawasaki.2020.pt, number of examples: 2890\n",
            "[2022-03-27 12:07:59,053 INFO] Loading test dataset from /content/drive/MyDrive/work_baseline/pt_data/test.95.Canon.2021.pt, number of examples: 5236\n"
          ]
        }
      ]
    },
    {
      "cell_type": "code",
      "source": [
        "# Showing F1 Score and Accuracy in all an by qry\n",
        "import numpy as np\n",
        "from sklearn.metrics import f1_score, accuracy_score\n",
        "\n",
        "def show_statistics_test(all_predited_list, all_tgt_list):\n",
        "  by_qry_tgt_list = []\n",
        "  by_qry_pred_list = []\n",
        "  for i in range(17):\n",
        "    by_qry_tgt = []\n",
        "    for data in all_tgt_list:\n",
        "      by_qry_tgt += data[i]\n",
        "    by_qry_pred = []\n",
        "    for data in all_predited_list:\n",
        "      by_qry_pred += data[i]\n",
        "    f1 = f1_score(by_qry_pred, by_qry_tgt)\n",
        "    acc = accuracy_score(by_qry_pred, by_qry_tgt)\n",
        "    print(f'Goal{i+1}, f1_score: {round(f1, 3)}, accuracy: {round(acc, 3)}')\n",
        "\n",
        "    by_qry_tgt_list.append(by_qry_tgt)\n",
        "    by_qry_pred_list.append(by_qry_pred)\n",
        "  \n",
        "  tgt_list_all = []\n",
        "  pred_list_all = []\n",
        "  for by_qry_tgt in by_qry_tgt_list:\n",
        "    tgt_list_all += by_qry_tgt\n",
        "  for by_qry_pred in by_qry_pred_list:\n",
        "    pred_list_all += by_qry_pred\n",
        "  \n",
        "  f1_all = f1_score(pred_list_all, tgt_list_all)\n",
        "  acc_all = accuracy_score(pred_list_all, tgt_list_all)\n",
        "  print(f'Total, f1_score: {round(f1_all, 3)}, accuracy: {round(acc_all, 3)}')"
      ],
      "metadata": {
        "id": "-l0ZuxxdKbnE"
      },
      "execution_count": null,
      "outputs": []
    },
    {
      "cell_type": "code",
      "source": [
        "import torch\n",
        "from glob import glob\n",
        "import numpy as np\n",
        "\n",
        "def test_execute(step, align, thres_list):\n",
        "  dataset = torch.load(glob(work_dir + '/dataset.pt')[0])\n",
        "  optim_list_all = []\n",
        "  pt_optim_dicts_all = torch.load(glob(work_dir + '/results/test.step' + str(step) + '.optim_dicts_all.pt')[0])\n",
        "  for i in range(1, 18):\n",
        "    optim_list_by_qry = []\n",
        "    optim_dicts_all = gen_optim_list(pt_optim_dicts_all, str(i), align)\n",
        "    for optim_dict in optim_dicts_all:\n",
        "      optim_list_by_qry.append(torch.tensor([optim_dict[str(i)][j][0] for j in sorted(optim_dict[str(i)])]))\n",
        "    optim_list_all.append(optim_list_by_qry)\n",
        "\n",
        "  src_pred_list = []\n",
        "  for i in range(17):\n",
        "    src_pred = predict_goals(optim_list_all[i], threshold=thres_list[i])\n",
        "    src_pred_list.append(src_pred)\n",
        "  src_pred_list_t = np.array(src_pred_list).T.tolist()\n",
        "  show_statistics_test(src_pred_list_t, dataset['tgt_list_test'])"
      ],
      "metadata": {
        "id": "aR2A-5XtKSm0"
      },
      "execution_count": null,
      "outputs": []
    },
    {
      "cell_type": "code",
      "source": [
        "# Showing Test Results\n",
        "test_thres_list = [0.02, 0.07, 0.07, 0.1, 0.14, 0.1, 0.19, 0.12, 0.17, 0.15, 0.22, 0.21, 0.32, 0.15, 0.14, 0.35, 0.01]\n",
        "test_execute(65000, 'center', test_thres_list)"
      ],
      "metadata": {
        "colab": {
          "base_uri": "https://localhost:8080/"
        },
        "id": "x_HRD4vyhLco",
        "outputId": "0bdd46b4-0b97-4b45-cf7b-55785ae06981"
      },
      "execution_count": null,
      "outputs": [
        {
          "output_type": "stream",
          "name": "stderr",
          "text": [
            "/usr/local/lib/python3.7/dist-packages/ipykernel_launcher.py:20: VisibleDeprecationWarning: Creating an ndarray from ragged nested sequences (which is a list-or-tuple of lists-or-tuples-or ndarrays with different lengths or shapes) is deprecated. If you meant to do this, you must specify 'dtype=object' when creating the ndarray.\n"
          ]
        },
        {
          "output_type": "stream",
          "name": "stdout",
          "text": [
            "Goal1, f1_score: 0.078, accuracy: 0.971\n",
            "Goal2, f1_score: 0.289, accuracy: 0.987\n",
            "Goal3, f1_score: 0.237, accuracy: 0.873\n",
            "Goal4, f1_score: 0.286, accuracy: 0.969\n",
            "Goal5, f1_score: 0.36, accuracy: 0.957\n",
            "Goal6, f1_score: 0.375, accuracy: 0.962\n",
            "Goal7, f1_score: 0.375, accuracy: 0.916\n",
            "Goal8, f1_score: 0.329, accuracy: 0.879\n",
            "Goal9, f1_score: 0.365, accuracy: 0.897\n",
            "Goal10, f1_score: 0.256, accuracy: 0.954\n",
            "Goal11, f1_score: 0.277, accuracy: 0.929\n",
            "Goal12, f1_score: 0.36, accuracy: 0.885\n",
            "Goal13, f1_score: 0.427, accuracy: 0.922\n",
            "Goal14, f1_score: 0.338, accuracy: 0.963\n",
            "Goal15, f1_score: 0.375, accuracy: 0.949\n",
            "Goal16, f1_score: 0.048, accuracy: 0.978\n",
            "Goal17, f1_score: 0.182, accuracy: 0.736\n",
            "Total, f1_score: 0.302, accuracy: 0.925\n"
          ]
        }
      ]
    },
    {
      "cell_type": "code",
      "source": [],
      "metadata": {
        "id": "y82jZ6abMA-A"
      },
      "execution_count": null,
      "outputs": []
    }
  ],
  "metadata": {
    "colab": {
      "collapsed_sections": [],
      "provenance": [],
      "mount_file_id": "1wxgns0r3fdyiJFBzhmnRGZ1janMhFKiJ",
      "authorship_tag": "ABX9TyPfVVomGw5ycAZbb9iPW+66",
      "include_colab_link": true
    },
    "kernelspec": {
      "display_name": "Python 3",
      "name": "python3"
    },
    "language_info": {
      "name": "python"
    },
    "widgets": {
      "application/vnd.jupyter.widget-state+json": {
        "f09b65eb8fbc4e708573fc3952212a0c": {
          "model_module": "@jupyter-widgets/controls",
          "model_name": "HBoxModel",
          "model_module_version": "1.5.0",
          "state": {
            "_dom_classes": [],
            "_model_module": "@jupyter-widgets/controls",
            "_model_module_version": "1.5.0",
            "_model_name": "HBoxModel",
            "_view_count": null,
            "_view_module": "@jupyter-widgets/controls",
            "_view_module_version": "1.5.0",
            "_view_name": "HBoxView",
            "box_style": "",
            "children": [
              "IPY_MODEL_5a5f33dae0f443bd8d7f9100d9859fee",
              "IPY_MODEL_9c8c9b6b653843feb49967946fa3617f",
              "IPY_MODEL_1407d83b31a041cebb72e65359b4d4ce"
            ],
            "layout": "IPY_MODEL_4d2175e1fb414649920dc3079e96c4ac"
          }
        },
        "5a5f33dae0f443bd8d7f9100d9859fee": {
          "model_module": "@jupyter-widgets/controls",
          "model_name": "HTMLModel",
          "model_module_version": "1.5.0",
          "state": {
            "_dom_classes": [],
            "_model_module": "@jupyter-widgets/controls",
            "_model_module_version": "1.5.0",
            "_model_name": "HTMLModel",
            "_view_count": null,
            "_view_module": "@jupyter-widgets/controls",
            "_view_module_version": "1.5.0",
            "_view_name": "HTMLView",
            "description": "",
            "description_tooltip": null,
            "layout": "IPY_MODEL_2b7e88fd063342999cfb5a88803f9e61",
            "placeholder": "​",
            "style": "IPY_MODEL_bb2dd47e48e74dcf98977f4b9a335fff",
            "value": "Downloading: 100%"
          }
        },
        "9c8c9b6b653843feb49967946fa3617f": {
          "model_module": "@jupyter-widgets/controls",
          "model_name": "FloatProgressModel",
          "model_module_version": "1.5.0",
          "state": {
            "_dom_classes": [],
            "_model_module": "@jupyter-widgets/controls",
            "_model_module_version": "1.5.0",
            "_model_name": "FloatProgressModel",
            "_view_count": null,
            "_view_module": "@jupyter-widgets/controls",
            "_view_module_version": "1.5.0",
            "_view_name": "ProgressView",
            "bar_style": "success",
            "description": "",
            "description_tooltip": null,
            "layout": "IPY_MODEL_9353a79b00e242b4b20e6b0deb4610ec",
            "max": 231508,
            "min": 0,
            "orientation": "horizontal",
            "style": "IPY_MODEL_60f1225156a241df9aa8f1962cc4d00b",
            "value": 231508
          }
        },
        "1407d83b31a041cebb72e65359b4d4ce": {
          "model_module": "@jupyter-widgets/controls",
          "model_name": "HTMLModel",
          "model_module_version": "1.5.0",
          "state": {
            "_dom_classes": [],
            "_model_module": "@jupyter-widgets/controls",
            "_model_module_version": "1.5.0",
            "_model_name": "HTMLModel",
            "_view_count": null,
            "_view_module": "@jupyter-widgets/controls",
            "_view_module_version": "1.5.0",
            "_view_name": "HTMLView",
            "description": "",
            "description_tooltip": null,
            "layout": "IPY_MODEL_346f144ea8ef4f6391e10c66cf24b97f",
            "placeholder": "​",
            "style": "IPY_MODEL_bdf779451eeb442fbb3fd76e96fd2208",
            "value": " 226k/226k [00:00&lt;00:00, 2.81MB/s]"
          }
        },
        "4d2175e1fb414649920dc3079e96c4ac": {
          "model_module": "@jupyter-widgets/base",
          "model_name": "LayoutModel",
          "model_module_version": "1.2.0",
          "state": {
            "_model_module": "@jupyter-widgets/base",
            "_model_module_version": "1.2.0",
            "_model_name": "LayoutModel",
            "_view_count": null,
            "_view_module": "@jupyter-widgets/base",
            "_view_module_version": "1.2.0",
            "_view_name": "LayoutView",
            "align_content": null,
            "align_items": null,
            "align_self": null,
            "border": null,
            "bottom": null,
            "display": null,
            "flex": null,
            "flex_flow": null,
            "grid_area": null,
            "grid_auto_columns": null,
            "grid_auto_flow": null,
            "grid_auto_rows": null,
            "grid_column": null,
            "grid_gap": null,
            "grid_row": null,
            "grid_template_areas": null,
            "grid_template_columns": null,
            "grid_template_rows": null,
            "height": null,
            "justify_content": null,
            "justify_items": null,
            "left": null,
            "margin": null,
            "max_height": null,
            "max_width": null,
            "min_height": null,
            "min_width": null,
            "object_fit": null,
            "object_position": null,
            "order": null,
            "overflow": null,
            "overflow_x": null,
            "overflow_y": null,
            "padding": null,
            "right": null,
            "top": null,
            "visibility": null,
            "width": null
          }
        },
        "2b7e88fd063342999cfb5a88803f9e61": {
          "model_module": "@jupyter-widgets/base",
          "model_name": "LayoutModel",
          "model_module_version": "1.2.0",
          "state": {
            "_model_module": "@jupyter-widgets/base",
            "_model_module_version": "1.2.0",
            "_model_name": "LayoutModel",
            "_view_count": null,
            "_view_module": "@jupyter-widgets/base",
            "_view_module_version": "1.2.0",
            "_view_name": "LayoutView",
            "align_content": null,
            "align_items": null,
            "align_self": null,
            "border": null,
            "bottom": null,
            "display": null,
            "flex": null,
            "flex_flow": null,
            "grid_area": null,
            "grid_auto_columns": null,
            "grid_auto_flow": null,
            "grid_auto_rows": null,
            "grid_column": null,
            "grid_gap": null,
            "grid_row": null,
            "grid_template_areas": null,
            "grid_template_columns": null,
            "grid_template_rows": null,
            "height": null,
            "justify_content": null,
            "justify_items": null,
            "left": null,
            "margin": null,
            "max_height": null,
            "max_width": null,
            "min_height": null,
            "min_width": null,
            "object_fit": null,
            "object_position": null,
            "order": null,
            "overflow": null,
            "overflow_x": null,
            "overflow_y": null,
            "padding": null,
            "right": null,
            "top": null,
            "visibility": null,
            "width": null
          }
        },
        "bb2dd47e48e74dcf98977f4b9a335fff": {
          "model_module": "@jupyter-widgets/controls",
          "model_name": "DescriptionStyleModel",
          "model_module_version": "1.5.0",
          "state": {
            "_model_module": "@jupyter-widgets/controls",
            "_model_module_version": "1.5.0",
            "_model_name": "DescriptionStyleModel",
            "_view_count": null,
            "_view_module": "@jupyter-widgets/base",
            "_view_module_version": "1.2.0",
            "_view_name": "StyleView",
            "description_width": ""
          }
        },
        "9353a79b00e242b4b20e6b0deb4610ec": {
          "model_module": "@jupyter-widgets/base",
          "model_name": "LayoutModel",
          "model_module_version": "1.2.0",
          "state": {
            "_model_module": "@jupyter-widgets/base",
            "_model_module_version": "1.2.0",
            "_model_name": "LayoutModel",
            "_view_count": null,
            "_view_module": "@jupyter-widgets/base",
            "_view_module_version": "1.2.0",
            "_view_name": "LayoutView",
            "align_content": null,
            "align_items": null,
            "align_self": null,
            "border": null,
            "bottom": null,
            "display": null,
            "flex": null,
            "flex_flow": null,
            "grid_area": null,
            "grid_auto_columns": null,
            "grid_auto_flow": null,
            "grid_auto_rows": null,
            "grid_column": null,
            "grid_gap": null,
            "grid_row": null,
            "grid_template_areas": null,
            "grid_template_columns": null,
            "grid_template_rows": null,
            "height": null,
            "justify_content": null,
            "justify_items": null,
            "left": null,
            "margin": null,
            "max_height": null,
            "max_width": null,
            "min_height": null,
            "min_width": null,
            "object_fit": null,
            "object_position": null,
            "order": null,
            "overflow": null,
            "overflow_x": null,
            "overflow_y": null,
            "padding": null,
            "right": null,
            "top": null,
            "visibility": null,
            "width": null
          }
        },
        "60f1225156a241df9aa8f1962cc4d00b": {
          "model_module": "@jupyter-widgets/controls",
          "model_name": "ProgressStyleModel",
          "model_module_version": "1.5.0",
          "state": {
            "_model_module": "@jupyter-widgets/controls",
            "_model_module_version": "1.5.0",
            "_model_name": "ProgressStyleModel",
            "_view_count": null,
            "_view_module": "@jupyter-widgets/base",
            "_view_module_version": "1.2.0",
            "_view_name": "StyleView",
            "bar_color": null,
            "description_width": ""
          }
        },
        "346f144ea8ef4f6391e10c66cf24b97f": {
          "model_module": "@jupyter-widgets/base",
          "model_name": "LayoutModel",
          "model_module_version": "1.2.0",
          "state": {
            "_model_module": "@jupyter-widgets/base",
            "_model_module_version": "1.2.0",
            "_model_name": "LayoutModel",
            "_view_count": null,
            "_view_module": "@jupyter-widgets/base",
            "_view_module_version": "1.2.0",
            "_view_name": "LayoutView",
            "align_content": null,
            "align_items": null,
            "align_self": null,
            "border": null,
            "bottom": null,
            "display": null,
            "flex": null,
            "flex_flow": null,
            "grid_area": null,
            "grid_auto_columns": null,
            "grid_auto_flow": null,
            "grid_auto_rows": null,
            "grid_column": null,
            "grid_gap": null,
            "grid_row": null,
            "grid_template_areas": null,
            "grid_template_columns": null,
            "grid_template_rows": null,
            "height": null,
            "justify_content": null,
            "justify_items": null,
            "left": null,
            "margin": null,
            "max_height": null,
            "max_width": null,
            "min_height": null,
            "min_width": null,
            "object_fit": null,
            "object_position": null,
            "order": null,
            "overflow": null,
            "overflow_x": null,
            "overflow_y": null,
            "padding": null,
            "right": null,
            "top": null,
            "visibility": null,
            "width": null
          }
        },
        "bdf779451eeb442fbb3fd76e96fd2208": {
          "model_module": "@jupyter-widgets/controls",
          "model_name": "DescriptionStyleModel",
          "model_module_version": "1.5.0",
          "state": {
            "_model_module": "@jupyter-widgets/controls",
            "_model_module_version": "1.5.0",
            "_model_name": "DescriptionStyleModel",
            "_view_count": null,
            "_view_module": "@jupyter-widgets/base",
            "_view_module_version": "1.2.0",
            "_view_name": "StyleView",
            "description_width": ""
          }
        },
        "b31c35b5d11c44ffabb806c668c0a98d": {
          "model_module": "@jupyter-widgets/controls",
          "model_name": "HBoxModel",
          "model_module_version": "1.5.0",
          "state": {
            "_dom_classes": [],
            "_model_module": "@jupyter-widgets/controls",
            "_model_module_version": "1.5.0",
            "_model_name": "HBoxModel",
            "_view_count": null,
            "_view_module": "@jupyter-widgets/controls",
            "_view_module_version": "1.5.0",
            "_view_name": "HBoxView",
            "box_style": "",
            "children": [
              "IPY_MODEL_126e2205dd8a4496829990eafb396b8d",
              "IPY_MODEL_4fec8e8ea7b04c7389069b21b0da46a1",
              "IPY_MODEL_f4e69b12c87f4eb5abb26e4426a24637"
            ],
            "layout": "IPY_MODEL_a01511457eab49078c0498dcfea0d637"
          }
        },
        "126e2205dd8a4496829990eafb396b8d": {
          "model_module": "@jupyter-widgets/controls",
          "model_name": "HTMLModel",
          "model_module_version": "1.5.0",
          "state": {
            "_dom_classes": [],
            "_model_module": "@jupyter-widgets/controls",
            "_model_module_version": "1.5.0",
            "_model_name": "HTMLModel",
            "_view_count": null,
            "_view_module": "@jupyter-widgets/controls",
            "_view_module_version": "1.5.0",
            "_view_name": "HTMLView",
            "description": "",
            "description_tooltip": null,
            "layout": "IPY_MODEL_5f145858c9d44932913e21fd8f0a963c",
            "placeholder": "​",
            "style": "IPY_MODEL_46e9eb36bf8c41ddba7bbbdf7460289d",
            "value": "Downloading: 100%"
          }
        },
        "4fec8e8ea7b04c7389069b21b0da46a1": {
          "model_module": "@jupyter-widgets/controls",
          "model_name": "FloatProgressModel",
          "model_module_version": "1.5.0",
          "state": {
            "_dom_classes": [],
            "_model_module": "@jupyter-widgets/controls",
            "_model_module_version": "1.5.0",
            "_model_name": "FloatProgressModel",
            "_view_count": null,
            "_view_module": "@jupyter-widgets/controls",
            "_view_module_version": "1.5.0",
            "_view_name": "ProgressView",
            "bar_style": "success",
            "description": "",
            "description_tooltip": null,
            "layout": "IPY_MODEL_077f124847da4ab1bda56cc854ef5f06",
            "max": 28,
            "min": 0,
            "orientation": "horizontal",
            "style": "IPY_MODEL_d07cf334c4304a2fb08b36ac77260535",
            "value": 28
          }
        },
        "f4e69b12c87f4eb5abb26e4426a24637": {
          "model_module": "@jupyter-widgets/controls",
          "model_name": "HTMLModel",
          "model_module_version": "1.5.0",
          "state": {
            "_dom_classes": [],
            "_model_module": "@jupyter-widgets/controls",
            "_model_module_version": "1.5.0",
            "_model_name": "HTMLModel",
            "_view_count": null,
            "_view_module": "@jupyter-widgets/controls",
            "_view_module_version": "1.5.0",
            "_view_name": "HTMLView",
            "description": "",
            "description_tooltip": null,
            "layout": "IPY_MODEL_ce18b640ef0249d1bfa548859c1d9872",
            "placeholder": "​",
            "style": "IPY_MODEL_b930d596cc1b434f8ca05242f7dd2ae0",
            "value": " 28.0/28.0 [00:00&lt;00:00, 1.01kB/s]"
          }
        },
        "a01511457eab49078c0498dcfea0d637": {
          "model_module": "@jupyter-widgets/base",
          "model_name": "LayoutModel",
          "model_module_version": "1.2.0",
          "state": {
            "_model_module": "@jupyter-widgets/base",
            "_model_module_version": "1.2.0",
            "_model_name": "LayoutModel",
            "_view_count": null,
            "_view_module": "@jupyter-widgets/base",
            "_view_module_version": "1.2.0",
            "_view_name": "LayoutView",
            "align_content": null,
            "align_items": null,
            "align_self": null,
            "border": null,
            "bottom": null,
            "display": null,
            "flex": null,
            "flex_flow": null,
            "grid_area": null,
            "grid_auto_columns": null,
            "grid_auto_flow": null,
            "grid_auto_rows": null,
            "grid_column": null,
            "grid_gap": null,
            "grid_row": null,
            "grid_template_areas": null,
            "grid_template_columns": null,
            "grid_template_rows": null,
            "height": null,
            "justify_content": null,
            "justify_items": null,
            "left": null,
            "margin": null,
            "max_height": null,
            "max_width": null,
            "min_height": null,
            "min_width": null,
            "object_fit": null,
            "object_position": null,
            "order": null,
            "overflow": null,
            "overflow_x": null,
            "overflow_y": null,
            "padding": null,
            "right": null,
            "top": null,
            "visibility": null,
            "width": null
          }
        },
        "5f145858c9d44932913e21fd8f0a963c": {
          "model_module": "@jupyter-widgets/base",
          "model_name": "LayoutModel",
          "model_module_version": "1.2.0",
          "state": {
            "_model_module": "@jupyter-widgets/base",
            "_model_module_version": "1.2.0",
            "_model_name": "LayoutModel",
            "_view_count": null,
            "_view_module": "@jupyter-widgets/base",
            "_view_module_version": "1.2.0",
            "_view_name": "LayoutView",
            "align_content": null,
            "align_items": null,
            "align_self": null,
            "border": null,
            "bottom": null,
            "display": null,
            "flex": null,
            "flex_flow": null,
            "grid_area": null,
            "grid_auto_columns": null,
            "grid_auto_flow": null,
            "grid_auto_rows": null,
            "grid_column": null,
            "grid_gap": null,
            "grid_row": null,
            "grid_template_areas": null,
            "grid_template_columns": null,
            "grid_template_rows": null,
            "height": null,
            "justify_content": null,
            "justify_items": null,
            "left": null,
            "margin": null,
            "max_height": null,
            "max_width": null,
            "min_height": null,
            "min_width": null,
            "object_fit": null,
            "object_position": null,
            "order": null,
            "overflow": null,
            "overflow_x": null,
            "overflow_y": null,
            "padding": null,
            "right": null,
            "top": null,
            "visibility": null,
            "width": null
          }
        },
        "46e9eb36bf8c41ddba7bbbdf7460289d": {
          "model_module": "@jupyter-widgets/controls",
          "model_name": "DescriptionStyleModel",
          "model_module_version": "1.5.0",
          "state": {
            "_model_module": "@jupyter-widgets/controls",
            "_model_module_version": "1.5.0",
            "_model_name": "DescriptionStyleModel",
            "_view_count": null,
            "_view_module": "@jupyter-widgets/base",
            "_view_module_version": "1.2.0",
            "_view_name": "StyleView",
            "description_width": ""
          }
        },
        "077f124847da4ab1bda56cc854ef5f06": {
          "model_module": "@jupyter-widgets/base",
          "model_name": "LayoutModel",
          "model_module_version": "1.2.0",
          "state": {
            "_model_module": "@jupyter-widgets/base",
            "_model_module_version": "1.2.0",
            "_model_name": "LayoutModel",
            "_view_count": null,
            "_view_module": "@jupyter-widgets/base",
            "_view_module_version": "1.2.0",
            "_view_name": "LayoutView",
            "align_content": null,
            "align_items": null,
            "align_self": null,
            "border": null,
            "bottom": null,
            "display": null,
            "flex": null,
            "flex_flow": null,
            "grid_area": null,
            "grid_auto_columns": null,
            "grid_auto_flow": null,
            "grid_auto_rows": null,
            "grid_column": null,
            "grid_gap": null,
            "grid_row": null,
            "grid_template_areas": null,
            "grid_template_columns": null,
            "grid_template_rows": null,
            "height": null,
            "justify_content": null,
            "justify_items": null,
            "left": null,
            "margin": null,
            "max_height": null,
            "max_width": null,
            "min_height": null,
            "min_width": null,
            "object_fit": null,
            "object_position": null,
            "order": null,
            "overflow": null,
            "overflow_x": null,
            "overflow_y": null,
            "padding": null,
            "right": null,
            "top": null,
            "visibility": null,
            "width": null
          }
        },
        "d07cf334c4304a2fb08b36ac77260535": {
          "model_module": "@jupyter-widgets/controls",
          "model_name": "ProgressStyleModel",
          "model_module_version": "1.5.0",
          "state": {
            "_model_module": "@jupyter-widgets/controls",
            "_model_module_version": "1.5.0",
            "_model_name": "ProgressStyleModel",
            "_view_count": null,
            "_view_module": "@jupyter-widgets/base",
            "_view_module_version": "1.2.0",
            "_view_name": "StyleView",
            "bar_color": null,
            "description_width": ""
          }
        },
        "ce18b640ef0249d1bfa548859c1d9872": {
          "model_module": "@jupyter-widgets/base",
          "model_name": "LayoutModel",
          "model_module_version": "1.2.0",
          "state": {
            "_model_module": "@jupyter-widgets/base",
            "_model_module_version": "1.2.0",
            "_model_name": "LayoutModel",
            "_view_count": null,
            "_view_module": "@jupyter-widgets/base",
            "_view_module_version": "1.2.0",
            "_view_name": "LayoutView",
            "align_content": null,
            "align_items": null,
            "align_self": null,
            "border": null,
            "bottom": null,
            "display": null,
            "flex": null,
            "flex_flow": null,
            "grid_area": null,
            "grid_auto_columns": null,
            "grid_auto_flow": null,
            "grid_auto_rows": null,
            "grid_column": null,
            "grid_gap": null,
            "grid_row": null,
            "grid_template_areas": null,
            "grid_template_columns": null,
            "grid_template_rows": null,
            "height": null,
            "justify_content": null,
            "justify_items": null,
            "left": null,
            "margin": null,
            "max_height": null,
            "max_width": null,
            "min_height": null,
            "min_width": null,
            "object_fit": null,
            "object_position": null,
            "order": null,
            "overflow": null,
            "overflow_x": null,
            "overflow_y": null,
            "padding": null,
            "right": null,
            "top": null,
            "visibility": null,
            "width": null
          }
        },
        "b930d596cc1b434f8ca05242f7dd2ae0": {
          "model_module": "@jupyter-widgets/controls",
          "model_name": "DescriptionStyleModel",
          "model_module_version": "1.5.0",
          "state": {
            "_model_module": "@jupyter-widgets/controls",
            "_model_module_version": "1.5.0",
            "_model_name": "DescriptionStyleModel",
            "_view_count": null,
            "_view_module": "@jupyter-widgets/base",
            "_view_module_version": "1.2.0",
            "_view_name": "StyleView",
            "description_width": ""
          }
        },
        "2eab8b9d07584321b5c7936697a70fe8": {
          "model_module": "@jupyter-widgets/controls",
          "model_name": "HBoxModel",
          "model_module_version": "1.5.0",
          "state": {
            "_dom_classes": [],
            "_model_module": "@jupyter-widgets/controls",
            "_model_module_version": "1.5.0",
            "_model_name": "HBoxModel",
            "_view_count": null,
            "_view_module": "@jupyter-widgets/controls",
            "_view_module_version": "1.5.0",
            "_view_name": "HBoxView",
            "box_style": "",
            "children": [
              "IPY_MODEL_44aea291e47344adb46b8711fa34a9f6",
              "IPY_MODEL_2ad4d11428bf44bd91ab585a58dd22cc",
              "IPY_MODEL_a69ae616144f4db588614e098f9dfe2a"
            ],
            "layout": "IPY_MODEL_7eb86b72d3cc4c4aae956c3cb3188fb6"
          }
        },
        "44aea291e47344adb46b8711fa34a9f6": {
          "model_module": "@jupyter-widgets/controls",
          "model_name": "HTMLModel",
          "model_module_version": "1.5.0",
          "state": {
            "_dom_classes": [],
            "_model_module": "@jupyter-widgets/controls",
            "_model_module_version": "1.5.0",
            "_model_name": "HTMLModel",
            "_view_count": null,
            "_view_module": "@jupyter-widgets/controls",
            "_view_module_version": "1.5.0",
            "_view_name": "HTMLView",
            "description": "",
            "description_tooltip": null,
            "layout": "IPY_MODEL_21568fcc06ad41e881c0c6125bce1b74",
            "placeholder": "​",
            "style": "IPY_MODEL_830e92262bad4ab3957021baff02f025",
            "value": "Downloading: 100%"
          }
        },
        "2ad4d11428bf44bd91ab585a58dd22cc": {
          "model_module": "@jupyter-widgets/controls",
          "model_name": "FloatProgressModel",
          "model_module_version": "1.5.0",
          "state": {
            "_dom_classes": [],
            "_model_module": "@jupyter-widgets/controls",
            "_model_module_version": "1.5.0",
            "_model_name": "FloatProgressModel",
            "_view_count": null,
            "_view_module": "@jupyter-widgets/controls",
            "_view_module_version": "1.5.0",
            "_view_name": "ProgressView",
            "bar_style": "success",
            "description": "",
            "description_tooltip": null,
            "layout": "IPY_MODEL_9f0e361d8f93494fa6d2469701cccd4b",
            "max": 570,
            "min": 0,
            "orientation": "horizontal",
            "style": "IPY_MODEL_58d6bdea93f34e5c8cecd4813970159d",
            "value": 570
          }
        },
        "a69ae616144f4db588614e098f9dfe2a": {
          "model_module": "@jupyter-widgets/controls",
          "model_name": "HTMLModel",
          "model_module_version": "1.5.0",
          "state": {
            "_dom_classes": [],
            "_model_module": "@jupyter-widgets/controls",
            "_model_module_version": "1.5.0",
            "_model_name": "HTMLModel",
            "_view_count": null,
            "_view_module": "@jupyter-widgets/controls",
            "_view_module_version": "1.5.0",
            "_view_name": "HTMLView",
            "description": "",
            "description_tooltip": null,
            "layout": "IPY_MODEL_0b8d0b28e48b4af6a9210b78abf82fd0",
            "placeholder": "​",
            "style": "IPY_MODEL_95c7953aba4e41dcb67f4193a060b2cc",
            "value": " 570/570 [00:00&lt;00:00, 15.8kB/s]"
          }
        },
        "7eb86b72d3cc4c4aae956c3cb3188fb6": {
          "model_module": "@jupyter-widgets/base",
          "model_name": "LayoutModel",
          "model_module_version": "1.2.0",
          "state": {
            "_model_module": "@jupyter-widgets/base",
            "_model_module_version": "1.2.0",
            "_model_name": "LayoutModel",
            "_view_count": null,
            "_view_module": "@jupyter-widgets/base",
            "_view_module_version": "1.2.0",
            "_view_name": "LayoutView",
            "align_content": null,
            "align_items": null,
            "align_self": null,
            "border": null,
            "bottom": null,
            "display": null,
            "flex": null,
            "flex_flow": null,
            "grid_area": null,
            "grid_auto_columns": null,
            "grid_auto_flow": null,
            "grid_auto_rows": null,
            "grid_column": null,
            "grid_gap": null,
            "grid_row": null,
            "grid_template_areas": null,
            "grid_template_columns": null,
            "grid_template_rows": null,
            "height": null,
            "justify_content": null,
            "justify_items": null,
            "left": null,
            "margin": null,
            "max_height": null,
            "max_width": null,
            "min_height": null,
            "min_width": null,
            "object_fit": null,
            "object_position": null,
            "order": null,
            "overflow": null,
            "overflow_x": null,
            "overflow_y": null,
            "padding": null,
            "right": null,
            "top": null,
            "visibility": null,
            "width": null
          }
        },
        "21568fcc06ad41e881c0c6125bce1b74": {
          "model_module": "@jupyter-widgets/base",
          "model_name": "LayoutModel",
          "model_module_version": "1.2.0",
          "state": {
            "_model_module": "@jupyter-widgets/base",
            "_model_module_version": "1.2.0",
            "_model_name": "LayoutModel",
            "_view_count": null,
            "_view_module": "@jupyter-widgets/base",
            "_view_module_version": "1.2.0",
            "_view_name": "LayoutView",
            "align_content": null,
            "align_items": null,
            "align_self": null,
            "border": null,
            "bottom": null,
            "display": null,
            "flex": null,
            "flex_flow": null,
            "grid_area": null,
            "grid_auto_columns": null,
            "grid_auto_flow": null,
            "grid_auto_rows": null,
            "grid_column": null,
            "grid_gap": null,
            "grid_row": null,
            "grid_template_areas": null,
            "grid_template_columns": null,
            "grid_template_rows": null,
            "height": null,
            "justify_content": null,
            "justify_items": null,
            "left": null,
            "margin": null,
            "max_height": null,
            "max_width": null,
            "min_height": null,
            "min_width": null,
            "object_fit": null,
            "object_position": null,
            "order": null,
            "overflow": null,
            "overflow_x": null,
            "overflow_y": null,
            "padding": null,
            "right": null,
            "top": null,
            "visibility": null,
            "width": null
          }
        },
        "830e92262bad4ab3957021baff02f025": {
          "model_module": "@jupyter-widgets/controls",
          "model_name": "DescriptionStyleModel",
          "model_module_version": "1.5.0",
          "state": {
            "_model_module": "@jupyter-widgets/controls",
            "_model_module_version": "1.5.0",
            "_model_name": "DescriptionStyleModel",
            "_view_count": null,
            "_view_module": "@jupyter-widgets/base",
            "_view_module_version": "1.2.0",
            "_view_name": "StyleView",
            "description_width": ""
          }
        },
        "9f0e361d8f93494fa6d2469701cccd4b": {
          "model_module": "@jupyter-widgets/base",
          "model_name": "LayoutModel",
          "model_module_version": "1.2.0",
          "state": {
            "_model_module": "@jupyter-widgets/base",
            "_model_module_version": "1.2.0",
            "_model_name": "LayoutModel",
            "_view_count": null,
            "_view_module": "@jupyter-widgets/base",
            "_view_module_version": "1.2.0",
            "_view_name": "LayoutView",
            "align_content": null,
            "align_items": null,
            "align_self": null,
            "border": null,
            "bottom": null,
            "display": null,
            "flex": null,
            "flex_flow": null,
            "grid_area": null,
            "grid_auto_columns": null,
            "grid_auto_flow": null,
            "grid_auto_rows": null,
            "grid_column": null,
            "grid_gap": null,
            "grid_row": null,
            "grid_template_areas": null,
            "grid_template_columns": null,
            "grid_template_rows": null,
            "height": null,
            "justify_content": null,
            "justify_items": null,
            "left": null,
            "margin": null,
            "max_height": null,
            "max_width": null,
            "min_height": null,
            "min_width": null,
            "object_fit": null,
            "object_position": null,
            "order": null,
            "overflow": null,
            "overflow_x": null,
            "overflow_y": null,
            "padding": null,
            "right": null,
            "top": null,
            "visibility": null,
            "width": null
          }
        },
        "58d6bdea93f34e5c8cecd4813970159d": {
          "model_module": "@jupyter-widgets/controls",
          "model_name": "ProgressStyleModel",
          "model_module_version": "1.5.0",
          "state": {
            "_model_module": "@jupyter-widgets/controls",
            "_model_module_version": "1.5.0",
            "_model_name": "ProgressStyleModel",
            "_view_count": null,
            "_view_module": "@jupyter-widgets/base",
            "_view_module_version": "1.2.0",
            "_view_name": "StyleView",
            "bar_color": null,
            "description_width": ""
          }
        },
        "0b8d0b28e48b4af6a9210b78abf82fd0": {
          "model_module": "@jupyter-widgets/base",
          "model_name": "LayoutModel",
          "model_module_version": "1.2.0",
          "state": {
            "_model_module": "@jupyter-widgets/base",
            "_model_module_version": "1.2.0",
            "_model_name": "LayoutModel",
            "_view_count": null,
            "_view_module": "@jupyter-widgets/base",
            "_view_module_version": "1.2.0",
            "_view_name": "LayoutView",
            "align_content": null,
            "align_items": null,
            "align_self": null,
            "border": null,
            "bottom": null,
            "display": null,
            "flex": null,
            "flex_flow": null,
            "grid_area": null,
            "grid_auto_columns": null,
            "grid_auto_flow": null,
            "grid_auto_rows": null,
            "grid_column": null,
            "grid_gap": null,
            "grid_row": null,
            "grid_template_areas": null,
            "grid_template_columns": null,
            "grid_template_rows": null,
            "height": null,
            "justify_content": null,
            "justify_items": null,
            "left": null,
            "margin": null,
            "max_height": null,
            "max_width": null,
            "min_height": null,
            "min_width": null,
            "object_fit": null,
            "object_position": null,
            "order": null,
            "overflow": null,
            "overflow_x": null,
            "overflow_y": null,
            "padding": null,
            "right": null,
            "top": null,
            "visibility": null,
            "width": null
          }
        },
        "95c7953aba4e41dcb67f4193a060b2cc": {
          "model_module": "@jupyter-widgets/controls",
          "model_name": "DescriptionStyleModel",
          "model_module_version": "1.5.0",
          "state": {
            "_model_module": "@jupyter-widgets/controls",
            "_model_module_version": "1.5.0",
            "_model_name": "DescriptionStyleModel",
            "_view_count": null,
            "_view_module": "@jupyter-widgets/base",
            "_view_module_version": "1.2.0",
            "_view_name": "StyleView",
            "description_width": ""
          }
        }
      }
    }
  },
  "nbformat": 4,
  "nbformat_minor": 0
}