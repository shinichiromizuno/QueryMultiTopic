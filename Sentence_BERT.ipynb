{
  "nbformat": 4,
  "nbformat_minor": 0,
  "metadata": {
    "colab": {
      "provenance": [],
      "machine_shape": "hm",
      "collapsed_sections": [],
      "mount_file_id": "13fkMHuh_lePNGe7WjHRLlsJS_te7UnCA",
      "authorship_tag": "ABX9TyMp//Orgj6DqEuZUtG+017M",
      "include_colab_link": true
    },
    "kernelspec": {
      "name": "python3",
      "display_name": "Python 3"
    },
    "language_info": {
      "name": "python"
    },
    "accelerator": "GPU",
    "widgets": {
      "application/vnd.jupyter.widget-state+json": {
        "e85a34bd9f5a483b98e1c67a8be136dc": {
          "model_module": "@jupyter-widgets/controls",
          "model_name": "HBoxModel",
          "model_module_version": "1.5.0",
          "state": {
            "_dom_classes": [],
            "_model_module": "@jupyter-widgets/controls",
            "_model_module_version": "1.5.0",
            "_model_name": "HBoxModel",
            "_view_count": null,
            "_view_module": "@jupyter-widgets/controls",
            "_view_module_version": "1.5.0",
            "_view_name": "HBoxView",
            "box_style": "",
            "children": [
              "IPY_MODEL_85ba576fd73444dd9308b474bce7c62f",
              "IPY_MODEL_32c452497e274360956ae204b718282f",
              "IPY_MODEL_f25853d004fe4bc1968f35fdc3f0e295"
            ],
            "layout": "IPY_MODEL_b6989551844d480fb9798345b5b854e3"
          }
        },
        "85ba576fd73444dd9308b474bce7c62f": {
          "model_module": "@jupyter-widgets/controls",
          "model_name": "HTMLModel",
          "model_module_version": "1.5.0",
          "state": {
            "_dom_classes": [],
            "_model_module": "@jupyter-widgets/controls",
            "_model_module_version": "1.5.0",
            "_model_name": "HTMLModel",
            "_view_count": null,
            "_view_module": "@jupyter-widgets/controls",
            "_view_module_version": "1.5.0",
            "_view_name": "HTMLView",
            "description": "",
            "description_tooltip": null,
            "layout": "IPY_MODEL_fd7e9c1b6a1441f8b4d263d18f3ac962",
            "placeholder": "​",
            "style": "IPY_MODEL_0c23b471f2cc4668aacd85c36a055865",
            "value": "Epoch: 100%"
          }
        },
        "32c452497e274360956ae204b718282f": {
          "model_module": "@jupyter-widgets/controls",
          "model_name": "FloatProgressModel",
          "model_module_version": "1.5.0",
          "state": {
            "_dom_classes": [],
            "_model_module": "@jupyter-widgets/controls",
            "_model_module_version": "1.5.0",
            "_model_name": "FloatProgressModel",
            "_view_count": null,
            "_view_module": "@jupyter-widgets/controls",
            "_view_module_version": "1.5.0",
            "_view_name": "ProgressView",
            "bar_style": "success",
            "description": "",
            "description_tooltip": null,
            "layout": "IPY_MODEL_33cd3130e00f47c4af643045104dd7ae",
            "max": 1,
            "min": 0,
            "orientation": "horizontal",
            "style": "IPY_MODEL_0e12c6cfffd847a9a83abdbee26128b2",
            "value": 1
          }
        },
        "f25853d004fe4bc1968f35fdc3f0e295": {
          "model_module": "@jupyter-widgets/controls",
          "model_name": "HTMLModel",
          "model_module_version": "1.5.0",
          "state": {
            "_dom_classes": [],
            "_model_module": "@jupyter-widgets/controls",
            "_model_module_version": "1.5.0",
            "_model_name": "HTMLModel",
            "_view_count": null,
            "_view_module": "@jupyter-widgets/controls",
            "_view_module_version": "1.5.0",
            "_view_name": "HTMLView",
            "description": "",
            "description_tooltip": null,
            "layout": "IPY_MODEL_b6b2fba020a4460491e3aa0e07daabcd",
            "placeholder": "​",
            "style": "IPY_MODEL_48a2e7f044204a4fb04213455cf3bad0",
            "value": " 1/1 [6:42:29&lt;00:00, 24149.70s/it]"
          }
        },
        "b6989551844d480fb9798345b5b854e3": {
          "model_module": "@jupyter-widgets/base",
          "model_name": "LayoutModel",
          "model_module_version": "1.2.0",
          "state": {
            "_model_module": "@jupyter-widgets/base",
            "_model_module_version": "1.2.0",
            "_model_name": "LayoutModel",
            "_view_count": null,
            "_view_module": "@jupyter-widgets/base",
            "_view_module_version": "1.2.0",
            "_view_name": "LayoutView",
            "align_content": null,
            "align_items": null,
            "align_self": null,
            "border": null,
            "bottom": null,
            "display": null,
            "flex": null,
            "flex_flow": null,
            "grid_area": null,
            "grid_auto_columns": null,
            "grid_auto_flow": null,
            "grid_auto_rows": null,
            "grid_column": null,
            "grid_gap": null,
            "grid_row": null,
            "grid_template_areas": null,
            "grid_template_columns": null,
            "grid_template_rows": null,
            "height": null,
            "justify_content": null,
            "justify_items": null,
            "left": null,
            "margin": null,
            "max_height": null,
            "max_width": null,
            "min_height": null,
            "min_width": null,
            "object_fit": null,
            "object_position": null,
            "order": null,
            "overflow": null,
            "overflow_x": null,
            "overflow_y": null,
            "padding": null,
            "right": null,
            "top": null,
            "visibility": null,
            "width": null
          }
        },
        "fd7e9c1b6a1441f8b4d263d18f3ac962": {
          "model_module": "@jupyter-widgets/base",
          "model_name": "LayoutModel",
          "model_module_version": "1.2.0",
          "state": {
            "_model_module": "@jupyter-widgets/base",
            "_model_module_version": "1.2.0",
            "_model_name": "LayoutModel",
            "_view_count": null,
            "_view_module": "@jupyter-widgets/base",
            "_view_module_version": "1.2.0",
            "_view_name": "LayoutView",
            "align_content": null,
            "align_items": null,
            "align_self": null,
            "border": null,
            "bottom": null,
            "display": null,
            "flex": null,
            "flex_flow": null,
            "grid_area": null,
            "grid_auto_columns": null,
            "grid_auto_flow": null,
            "grid_auto_rows": null,
            "grid_column": null,
            "grid_gap": null,
            "grid_row": null,
            "grid_template_areas": null,
            "grid_template_columns": null,
            "grid_template_rows": null,
            "height": null,
            "justify_content": null,
            "justify_items": null,
            "left": null,
            "margin": null,
            "max_height": null,
            "max_width": null,
            "min_height": null,
            "min_width": null,
            "object_fit": null,
            "object_position": null,
            "order": null,
            "overflow": null,
            "overflow_x": null,
            "overflow_y": null,
            "padding": null,
            "right": null,
            "top": null,
            "visibility": null,
            "width": null
          }
        },
        "0c23b471f2cc4668aacd85c36a055865": {
          "model_module": "@jupyter-widgets/controls",
          "model_name": "DescriptionStyleModel",
          "model_module_version": "1.5.0",
          "state": {
            "_model_module": "@jupyter-widgets/controls",
            "_model_module_version": "1.5.0",
            "_model_name": "DescriptionStyleModel",
            "_view_count": null,
            "_view_module": "@jupyter-widgets/base",
            "_view_module_version": "1.2.0",
            "_view_name": "StyleView",
            "description_width": ""
          }
        },
        "33cd3130e00f47c4af643045104dd7ae": {
          "model_module": "@jupyter-widgets/base",
          "model_name": "LayoutModel",
          "model_module_version": "1.2.0",
          "state": {
            "_model_module": "@jupyter-widgets/base",
            "_model_module_version": "1.2.0",
            "_model_name": "LayoutModel",
            "_view_count": null,
            "_view_module": "@jupyter-widgets/base",
            "_view_module_version": "1.2.0",
            "_view_name": "LayoutView",
            "align_content": null,
            "align_items": null,
            "align_self": null,
            "border": null,
            "bottom": null,
            "display": null,
            "flex": null,
            "flex_flow": null,
            "grid_area": null,
            "grid_auto_columns": null,
            "grid_auto_flow": null,
            "grid_auto_rows": null,
            "grid_column": null,
            "grid_gap": null,
            "grid_row": null,
            "grid_template_areas": null,
            "grid_template_columns": null,
            "grid_template_rows": null,
            "height": null,
            "justify_content": null,
            "justify_items": null,
            "left": null,
            "margin": null,
            "max_height": null,
            "max_width": null,
            "min_height": null,
            "min_width": null,
            "object_fit": null,
            "object_position": null,
            "order": null,
            "overflow": null,
            "overflow_x": null,
            "overflow_y": null,
            "padding": null,
            "right": null,
            "top": null,
            "visibility": null,
            "width": null
          }
        },
        "0e12c6cfffd847a9a83abdbee26128b2": {
          "model_module": "@jupyter-widgets/controls",
          "model_name": "ProgressStyleModel",
          "model_module_version": "1.5.0",
          "state": {
            "_model_module": "@jupyter-widgets/controls",
            "_model_module_version": "1.5.0",
            "_model_name": "ProgressStyleModel",
            "_view_count": null,
            "_view_module": "@jupyter-widgets/base",
            "_view_module_version": "1.2.0",
            "_view_name": "StyleView",
            "bar_color": null,
            "description_width": ""
          }
        },
        "b6b2fba020a4460491e3aa0e07daabcd": {
          "model_module": "@jupyter-widgets/base",
          "model_name": "LayoutModel",
          "model_module_version": "1.2.0",
          "state": {
            "_model_module": "@jupyter-widgets/base",
            "_model_module_version": "1.2.0",
            "_model_name": "LayoutModel",
            "_view_count": null,
            "_view_module": "@jupyter-widgets/base",
            "_view_module_version": "1.2.0",
            "_view_name": "LayoutView",
            "align_content": null,
            "align_items": null,
            "align_self": null,
            "border": null,
            "bottom": null,
            "display": null,
            "flex": null,
            "flex_flow": null,
            "grid_area": null,
            "grid_auto_columns": null,
            "grid_auto_flow": null,
            "grid_auto_rows": null,
            "grid_column": null,
            "grid_gap": null,
            "grid_row": null,
            "grid_template_areas": null,
            "grid_template_columns": null,
            "grid_template_rows": null,
            "height": null,
            "justify_content": null,
            "justify_items": null,
            "left": null,
            "margin": null,
            "max_height": null,
            "max_width": null,
            "min_height": null,
            "min_width": null,
            "object_fit": null,
            "object_position": null,
            "order": null,
            "overflow": null,
            "overflow_x": null,
            "overflow_y": null,
            "padding": null,
            "right": null,
            "top": null,
            "visibility": null,
            "width": null
          }
        },
        "48a2e7f044204a4fb04213455cf3bad0": {
          "model_module": "@jupyter-widgets/controls",
          "model_name": "DescriptionStyleModel",
          "model_module_version": "1.5.0",
          "state": {
            "_model_module": "@jupyter-widgets/controls",
            "_model_module_version": "1.5.0",
            "_model_name": "DescriptionStyleModel",
            "_view_count": null,
            "_view_module": "@jupyter-widgets/base",
            "_view_module_version": "1.2.0",
            "_view_name": "StyleView",
            "description_width": ""
          }
        },
        "98791888298a4c20807b95020fdb7a4f": {
          "model_module": "@jupyter-widgets/controls",
          "model_name": "HBoxModel",
          "model_module_version": "1.5.0",
          "state": {
            "_dom_classes": [],
            "_model_module": "@jupyter-widgets/controls",
            "_model_module_version": "1.5.0",
            "_model_name": "HBoxModel",
            "_view_count": null,
            "_view_module": "@jupyter-widgets/controls",
            "_view_module_version": "1.5.0",
            "_view_name": "HBoxView",
            "box_style": "",
            "children": [
              "IPY_MODEL_c9fb37114b58481fa245d6ec08b28387",
              "IPY_MODEL_2db1daffbe834c15a6a4b757bda332e0",
              "IPY_MODEL_b6d6950279014a9fa64858f30bba2dcb"
            ],
            "layout": "IPY_MODEL_c280c172ac9041da9152dbd5bebc0aea"
          }
        },
        "c9fb37114b58481fa245d6ec08b28387": {
          "model_module": "@jupyter-widgets/controls",
          "model_name": "HTMLModel",
          "model_module_version": "1.5.0",
          "state": {
            "_dom_classes": [],
            "_model_module": "@jupyter-widgets/controls",
            "_model_module_version": "1.5.0",
            "_model_name": "HTMLModel",
            "_view_count": null,
            "_view_module": "@jupyter-widgets/controls",
            "_view_module_version": "1.5.0",
            "_view_name": "HTMLView",
            "description": "",
            "description_tooltip": null,
            "layout": "IPY_MODEL_2b77eac83fe945fc88991abad3efcae7",
            "placeholder": "​",
            "style": "IPY_MODEL_3bbbb10e285b4d048e48ae9b7bf290d1",
            "value": "Iteration: 100%"
          }
        },
        "2db1daffbe834c15a6a4b757bda332e0": {
          "model_module": "@jupyter-widgets/controls",
          "model_name": "FloatProgressModel",
          "model_module_version": "1.5.0",
          "state": {
            "_dom_classes": [],
            "_model_module": "@jupyter-widgets/controls",
            "_model_module_version": "1.5.0",
            "_model_name": "FloatProgressModel",
            "_view_count": null,
            "_view_module": "@jupyter-widgets/controls",
            "_view_module_version": "1.5.0",
            "_view_name": "ProgressView",
            "bar_style": "success",
            "description": "",
            "description_tooltip": null,
            "layout": "IPY_MODEL_07bddfcda327437283b004c334367ea5",
            "max": 69746,
            "min": 0,
            "orientation": "horizontal",
            "style": "IPY_MODEL_3877ba9e016d466697b47d1d7f4184c9",
            "value": 69746
          }
        },
        "b6d6950279014a9fa64858f30bba2dcb": {
          "model_module": "@jupyter-widgets/controls",
          "model_name": "HTMLModel",
          "model_module_version": "1.5.0",
          "state": {
            "_dom_classes": [],
            "_model_module": "@jupyter-widgets/controls",
            "_model_module_version": "1.5.0",
            "_model_name": "HTMLModel",
            "_view_count": null,
            "_view_module": "@jupyter-widgets/controls",
            "_view_module_version": "1.5.0",
            "_view_name": "HTMLView",
            "description": "",
            "description_tooltip": null,
            "layout": "IPY_MODEL_fb4ced55ce4f4ab0888f676774bf828b",
            "placeholder": "​",
            "style": "IPY_MODEL_3af2f6720ea04d019ef297659aca099c",
            "value": " 69746/69746 [6:42:29&lt;00:00,  2.80it/s]"
          }
        },
        "c280c172ac9041da9152dbd5bebc0aea": {
          "model_module": "@jupyter-widgets/base",
          "model_name": "LayoutModel",
          "model_module_version": "1.2.0",
          "state": {
            "_model_module": "@jupyter-widgets/base",
            "_model_module_version": "1.2.0",
            "_model_name": "LayoutModel",
            "_view_count": null,
            "_view_module": "@jupyter-widgets/base",
            "_view_module_version": "1.2.0",
            "_view_name": "LayoutView",
            "align_content": null,
            "align_items": null,
            "align_self": null,
            "border": null,
            "bottom": null,
            "display": null,
            "flex": null,
            "flex_flow": null,
            "grid_area": null,
            "grid_auto_columns": null,
            "grid_auto_flow": null,
            "grid_auto_rows": null,
            "grid_column": null,
            "grid_gap": null,
            "grid_row": null,
            "grid_template_areas": null,
            "grid_template_columns": null,
            "grid_template_rows": null,
            "height": null,
            "justify_content": null,
            "justify_items": null,
            "left": null,
            "margin": null,
            "max_height": null,
            "max_width": null,
            "min_height": null,
            "min_width": null,
            "object_fit": null,
            "object_position": null,
            "order": null,
            "overflow": null,
            "overflow_x": null,
            "overflow_y": null,
            "padding": null,
            "right": null,
            "top": null,
            "visibility": null,
            "width": null
          }
        },
        "2b77eac83fe945fc88991abad3efcae7": {
          "model_module": "@jupyter-widgets/base",
          "model_name": "LayoutModel",
          "model_module_version": "1.2.0",
          "state": {
            "_model_module": "@jupyter-widgets/base",
            "_model_module_version": "1.2.0",
            "_model_name": "LayoutModel",
            "_view_count": null,
            "_view_module": "@jupyter-widgets/base",
            "_view_module_version": "1.2.0",
            "_view_name": "LayoutView",
            "align_content": null,
            "align_items": null,
            "align_self": null,
            "border": null,
            "bottom": null,
            "display": null,
            "flex": null,
            "flex_flow": null,
            "grid_area": null,
            "grid_auto_columns": null,
            "grid_auto_flow": null,
            "grid_auto_rows": null,
            "grid_column": null,
            "grid_gap": null,
            "grid_row": null,
            "grid_template_areas": null,
            "grid_template_columns": null,
            "grid_template_rows": null,
            "height": null,
            "justify_content": null,
            "justify_items": null,
            "left": null,
            "margin": null,
            "max_height": null,
            "max_width": null,
            "min_height": null,
            "min_width": null,
            "object_fit": null,
            "object_position": null,
            "order": null,
            "overflow": null,
            "overflow_x": null,
            "overflow_y": null,
            "padding": null,
            "right": null,
            "top": null,
            "visibility": null,
            "width": null
          }
        },
        "3bbbb10e285b4d048e48ae9b7bf290d1": {
          "model_module": "@jupyter-widgets/controls",
          "model_name": "DescriptionStyleModel",
          "model_module_version": "1.5.0",
          "state": {
            "_model_module": "@jupyter-widgets/controls",
            "_model_module_version": "1.5.0",
            "_model_name": "DescriptionStyleModel",
            "_view_count": null,
            "_view_module": "@jupyter-widgets/base",
            "_view_module_version": "1.2.0",
            "_view_name": "StyleView",
            "description_width": ""
          }
        },
        "07bddfcda327437283b004c334367ea5": {
          "model_module": "@jupyter-widgets/base",
          "model_name": "LayoutModel",
          "model_module_version": "1.2.0",
          "state": {
            "_model_module": "@jupyter-widgets/base",
            "_model_module_version": "1.2.0",
            "_model_name": "LayoutModel",
            "_view_count": null,
            "_view_module": "@jupyter-widgets/base",
            "_view_module_version": "1.2.0",
            "_view_name": "LayoutView",
            "align_content": null,
            "align_items": null,
            "align_self": null,
            "border": null,
            "bottom": null,
            "display": null,
            "flex": null,
            "flex_flow": null,
            "grid_area": null,
            "grid_auto_columns": null,
            "grid_auto_flow": null,
            "grid_auto_rows": null,
            "grid_column": null,
            "grid_gap": null,
            "grid_row": null,
            "grid_template_areas": null,
            "grid_template_columns": null,
            "grid_template_rows": null,
            "height": null,
            "justify_content": null,
            "justify_items": null,
            "left": null,
            "margin": null,
            "max_height": null,
            "max_width": null,
            "min_height": null,
            "min_width": null,
            "object_fit": null,
            "object_position": null,
            "order": null,
            "overflow": null,
            "overflow_x": null,
            "overflow_y": null,
            "padding": null,
            "right": null,
            "top": null,
            "visibility": null,
            "width": null
          }
        },
        "3877ba9e016d466697b47d1d7f4184c9": {
          "model_module": "@jupyter-widgets/controls",
          "model_name": "ProgressStyleModel",
          "model_module_version": "1.5.0",
          "state": {
            "_model_module": "@jupyter-widgets/controls",
            "_model_module_version": "1.5.0",
            "_model_name": "ProgressStyleModel",
            "_view_count": null,
            "_view_module": "@jupyter-widgets/base",
            "_view_module_version": "1.2.0",
            "_view_name": "StyleView",
            "bar_color": null,
            "description_width": ""
          }
        },
        "fb4ced55ce4f4ab0888f676774bf828b": {
          "model_module": "@jupyter-widgets/base",
          "model_name": "LayoutModel",
          "model_module_version": "1.2.0",
          "state": {
            "_model_module": "@jupyter-widgets/base",
            "_model_module_version": "1.2.0",
            "_model_name": "LayoutModel",
            "_view_count": null,
            "_view_module": "@jupyter-widgets/base",
            "_view_module_version": "1.2.0",
            "_view_name": "LayoutView",
            "align_content": null,
            "align_items": null,
            "align_self": null,
            "border": null,
            "bottom": null,
            "display": null,
            "flex": null,
            "flex_flow": null,
            "grid_area": null,
            "grid_auto_columns": null,
            "grid_auto_flow": null,
            "grid_auto_rows": null,
            "grid_column": null,
            "grid_gap": null,
            "grid_row": null,
            "grid_template_areas": null,
            "grid_template_columns": null,
            "grid_template_rows": null,
            "height": null,
            "justify_content": null,
            "justify_items": null,
            "left": null,
            "margin": null,
            "max_height": null,
            "max_width": null,
            "min_height": null,
            "min_width": null,
            "object_fit": null,
            "object_position": null,
            "order": null,
            "overflow": null,
            "overflow_x": null,
            "overflow_y": null,
            "padding": null,
            "right": null,
            "top": null,
            "visibility": null,
            "width": null
          }
        },
        "3af2f6720ea04d019ef297659aca099c": {
          "model_module": "@jupyter-widgets/controls",
          "model_name": "DescriptionStyleModel",
          "model_module_version": "1.5.0",
          "state": {
            "_model_module": "@jupyter-widgets/controls",
            "_model_module_version": "1.5.0",
            "_model_name": "DescriptionStyleModel",
            "_view_count": null,
            "_view_module": "@jupyter-widgets/base",
            "_view_module_version": "1.2.0",
            "_view_name": "StyleView",
            "description_width": ""
          }
        }
      }
    }
  },
  "cells": [
    {
      "cell_type": "markdown",
      "metadata": {
        "id": "view-in-github",
        "colab_type": "text"
      },
      "source": [
        "<a href=\"https://colab.research.google.com/github/shinichiromizuno/QueryMultiTopic/blob/master/Sentence_BERT.ipynb\" target=\"_parent\"><img src=\"https://colab.research.google.com/assets/colab-badge.svg\" alt=\"Open In Colab\"/></a>"
      ]
    },
    {
      "cell_type": "code",
      "source": [
        "# Mount your Google Drive.\n",
        "# Connect to GPU in Google Colab."
      ],
      "metadata": {
        "id": "1TwtDcdnDjyg"
      },
      "execution_count": null,
      "outputs": []
    },
    {
      "cell_type": "code",
      "source": [
        "################ Preprocess ################"
      ],
      "metadata": {
        "id": "xG7pkA2_DsjK"
      },
      "execution_count": null,
      "outputs": []
    },
    {
      "cell_type": "code",
      "execution_count": null,
      "metadata": {
        "id": "c0MhLKx39Wxp"
      },
      "outputs": [],
      "source": [
        "# Configure working directories.　We use the preprocessed dataset output of Multi-BERTSum by configuring it as the source directory.\n",
        "work_dir = '/content/drive/MyDrive/work_Sentence_BERT'\n",
        "source_dir = '/content/drive/MyDrive/work_Multi_BERTSum'"
      ]
    },
    {
      "cell_type": "code",
      "source": [
        "# Install required packages.\n",
        "!pip install sentence-transformers"
      ],
      "metadata": {
        "id": "8vOuTkQy-YQG"
      },
      "execution_count": null,
      "outputs": []
    },
    {
      "cell_type": "code",
      "source": [
        "# Skipping Step1~4, as we use the preprocessed dataset output of Multi-BERTSum."
      ],
      "metadata": {
        "id": "pSowIAGv9i2B"
      },
      "execution_count": null,
      "outputs": []
    },
    {
      "cell_type": "code",
      "source": [
        "# Preparing Data for Validation & Test\n",
        "import json\n",
        "import random\n",
        "from glob import glob\n",
        "import torch\n",
        "\n",
        "src_doc_train = []\n",
        "tgt_list_train = []\n",
        "src_doc_valid = []\n",
        "tgt_list_valid = []\n",
        "src_doc_test = []\n",
        "tgt_list_test = []\n",
        "for data in sorted(glob(source_dir + '/json_data_labeled/*')):\n",
        "  filetype = data.split('/')[-1].split('.')[1]\n",
        "  json_open = open(data)\n",
        "  json_load = json.load(json_open)\n",
        "  src_txt = json_load['src_txt']\n",
        "  if filetype == 'train':\n",
        "    src_doc_train.append(src_txt)\n",
        "    tgt_list = []\n",
        "    for i in range(1,18):\n",
        "      tgt_list.append(json_load['tgt'+str(i)])\n",
        "    tgt_list_train.append(tgt_list)\n",
        "  if filetype == 'valid':\n",
        "    src_doc_valid.append(src_txt)\n",
        "    tgt_list = []\n",
        "    for i in range(1,18):\n",
        "      tgt_list.append(json_load['tgt'+str(i)])\n",
        "    tgt_list_valid.append(tgt_list)\n",
        "  if filetype == 'test':\n",
        "    src_doc_test.append(src_txt)\n",
        "    tgt_list = []\n",
        "    for i in range(1,18):\n",
        "      tgt_list.append(json_load['tgt'+str(i)])\n",
        "    tgt_list_test.append(tgt_list)\n",
        "\n",
        "# Incorporate SDGs goal text in query text\n",
        "sdgsdir = '/content/drive/MyDrive/DatasetSDGs/0-SDGs/'\n",
        "\n",
        "all_query_txt = []\n",
        "for goal in sorted(glob(sdgsdir + '/*')):\n",
        "  query_txt = []\n",
        "  with open(goal, mode='r') as f:\n",
        "    for line in f:\n",
        "      query_txt.append(line.strip())\n",
        "      break\n",
        "  all_query_txt.append(' '.join(query_txt))\n",
        "\n",
        "dataset = {'src_doc_train': src_doc_train, 'tgt_list_train': tgt_list_train, 'src_doc_valid': src_doc_valid, 'tgt_list_valid': tgt_list_valid, 'src_doc_test': src_doc_test, 'tgt_list_test': tgt_list_test, 'all_query_txt': all_query_txt}\n",
        "torch.save(dataset, work_dir + '/dataset.pt')  "
      ],
      "metadata": {
        "id": "WbBjnYkWi90t"
      },
      "execution_count": null,
      "outputs": []
    },
    {
      "cell_type": "code",
      "source": [
        "import torch\n",
        "from glob import glob\n",
        "from sentence_transformers import SentenceTransformer, InputExample, losses, util\n",
        "\n",
        "dataset = torch.load(glob(work_dir + '/dataset.pt')[0])\n",
        "train_examples = []\n",
        "for src_doc, tgt_list in zip(dataset['src_doc_train'], dataset['tgt_list_train']):\n",
        "  for i in range(17):\n",
        "    qry = dataset['all_query_txt'][i]\n",
        "    for src, tgt in zip(src_doc, tgt_list[i]):\n",
        "      train_examples.append(InputExample(texts=[qry, src], label=float(tgt)))"
      ],
      "metadata": {
        "id": "JUOhNCm4Ktm_"
      },
      "execution_count": null,
      "outputs": []
    },
    {
      "cell_type": "code",
      "source": [
        "# Check Statistics\n",
        "len(train_examples)"
      ],
      "metadata": {
        "colab": {
          "base_uri": "https://localhost:8080/"
        },
        "id": "WFTYhJW4KwA6",
        "outputId": "79ca7fd3-c801-4ed6-ef1e-6a7a8eaaf26c"
      },
      "execution_count": null,
      "outputs": [
        {
          "output_type": "execute_result",
          "data": {
            "text/plain": [
              "2092377"
            ]
          },
          "metadata": {},
          "execution_count": 4
        }
      ]
    },
    {
      "cell_type": "code",
      "source": [
        "################ Training ################"
      ],
      "metadata": {
        "id": "kwTTq2PZGx6x"
      },
      "execution_count": null,
      "outputs": []
    },
    {
      "cell_type": "code",
      "source": [
        "from torch.utils.data import DataLoader\n",
        "\n",
        "import json\n",
        "import torch\n",
        "from transformers import BertTokenizer\n",
        "import os\n",
        "import shutil\n",
        "from glob import glob\n",
        "\n",
        "for i in range(7, 8):\n",
        "  dir = work_dir + '/model_epoch' + str(i)\n",
        "  if os.path.exists(dir):\n",
        "    shutil.rmtree(dir)\n",
        "  os.mkdir(dir)\n",
        "\n",
        "  #Define the model. Either from scratch of by loading a pre-trained model\n",
        "  if i == 1:\n",
        "    model = SentenceTransformer('all-mpnet-base-v2')\n",
        "  else:\n",
        "    last_model = work_dir + '/model_epoch' + str((i-1))\n",
        "    model = SentenceTransformer(last_model)\n",
        "\n",
        "  #Define your train dataset, the dataloader and the train loss\n",
        "  train_dataloader = DataLoader(train_examples, shuffle=True, batch_size=30)\n",
        "  train_loss = losses.CosineSimilarityLoss(model)\n",
        "\n",
        "  #Tune the model\n",
        "  model.fit(train_objectives=[(train_dataloader, train_loss)], epochs=1, warmup_steps=100)\n",
        "\n",
        "  #Save the model\n",
        "  modelPath = dir\n",
        "  model.save(modelPath)"
      ],
      "metadata": {
        "colab": {
          "base_uri": "https://localhost:8080/",
          "height": 136,
          "referenced_widgets": [
            "e85a34bd9f5a483b98e1c67a8be136dc",
            "85ba576fd73444dd9308b474bce7c62f",
            "32c452497e274360956ae204b718282f",
            "f25853d004fe4bc1968f35fdc3f0e295",
            "b6989551844d480fb9798345b5b854e3",
            "fd7e9c1b6a1441f8b4d263d18f3ac962",
            "0c23b471f2cc4668aacd85c36a055865",
            "33cd3130e00f47c4af643045104dd7ae",
            "0e12c6cfffd847a9a83abdbee26128b2",
            "b6b2fba020a4460491e3aa0e07daabcd",
            "48a2e7f044204a4fb04213455cf3bad0",
            "98791888298a4c20807b95020fdb7a4f",
            "c9fb37114b58481fa245d6ec08b28387",
            "2db1daffbe834c15a6a4b757bda332e0",
            "b6d6950279014a9fa64858f30bba2dcb",
            "c280c172ac9041da9152dbd5bebc0aea",
            "2b77eac83fe945fc88991abad3efcae7",
            "3bbbb10e285b4d048e48ae9b7bf290d1",
            "07bddfcda327437283b004c334367ea5",
            "3877ba9e016d466697b47d1d7f4184c9",
            "fb4ced55ce4f4ab0888f676774bf828b",
            "3af2f6720ea04d019ef297659aca099c"
          ]
        },
        "id": "E2PgtbYHKz8R",
        "outputId": "6aa130e0-964c-4491-da08-c7f8bfc3e05c"
      },
      "execution_count": null,
      "outputs": [
        {
          "output_type": "stream",
          "name": "stderr",
          "text": [
            "/usr/local/lib/python3.7/dist-packages/transformers/optimization.py:309: FutureWarning: This implementation of AdamW is deprecated and will be removed in a future version. Use the PyTorch implementation torch.optim.AdamW instead, or set `no_deprecation_warning=True` to disable this warning\n",
            "  FutureWarning,\n"
          ]
        },
        {
          "output_type": "display_data",
          "data": {
            "text/plain": [
              "Epoch:   0%|          | 0/1 [00:00<?, ?it/s]"
            ],
            "application/vnd.jupyter.widget-view+json": {
              "version_major": 2,
              "version_minor": 0,
              "model_id": "e85a34bd9f5a483b98e1c67a8be136dc"
            }
          },
          "metadata": {}
        },
        {
          "output_type": "display_data",
          "data": {
            "text/plain": [
              "Iteration:   0%|          | 0/69746 [00:00<?, ?it/s]"
            ],
            "application/vnd.jupyter.widget-view+json": {
              "version_major": 2,
              "version_minor": 0,
              "model_id": "98791888298a4c20807b95020fdb7a4f"
            }
          },
          "metadata": {}
        }
      ]
    },
    {
      "cell_type": "code",
      "source": [
        "################ Validation ################"
      ],
      "metadata": {
        "id": "kp3pSaO0wzxk"
      },
      "execution_count": null,
      "outputs": []
    },
    {
      "cell_type": "code",
      "source": [
        "def sentence_smilarity(src_doc_test, all_query_txt, model):\n",
        "  cos_sim_list = []\n",
        "  for src_doc in src_doc_test:\n",
        "    emb1 = model.encode(all_query_txt)\n",
        "    emb2 = model.encode(src_doc)\n",
        "    cos_sim = util.cos_sim(emb1, emb2)\n",
        "    cos_sim_list.append(cos_sim)\n",
        "  return cos_sim_list\n",
        "\n",
        "def predict_goals(cos_sim_list, threshold):\n",
        "  src_pred_list = []\n",
        "  for cos_sim in cos_sim_list:\n",
        "    ones = torch.ones(cos_sim.shape).int()\n",
        "    zeros = torch.zeros(cos_sim.shape).int()\n",
        "    pred = torch.where(cos_sim > threshold, ones, zeros)\n",
        "    src_pred_list.append(pred.tolist())\n",
        "  return src_pred_list"
      ],
      "metadata": {
        "id": "dOKXDMmkSA_N"
      },
      "execution_count": null,
      "outputs": []
    },
    {
      "cell_type": "code",
      "source": [
        "# Showing F1 Score and Accuracy in all an by qry\n",
        "import numpy as np\n",
        "from sklearn.metrics import f1_score, accuracy_score\n",
        "\n",
        "def show_statistics(all_predited_list, all_tgt_list, thres_list):\n",
        "  best_all_predited_list = []\n",
        "  for i in range(17):\n",
        "    by_thres_predicted = []\n",
        "    f1_list, acc_list = [], []\n",
        "    for j, thres in enumerate(thres_list):\n",
        "      by_qry_predicted = []\n",
        "      by_qry_tgt = []\n",
        "      for doc_pred, doc_tgt in zip(all_predited_list, all_tgt_list):\n",
        "        by_qry_predicted += doc_pred[j][i]\n",
        "        by_qry_tgt += doc_tgt[i]\n",
        "      f1 = f1_score(by_qry_predicted, by_qry_tgt)\n",
        "      acc = accuracy_score(by_qry_predicted, by_qry_tgt)\n",
        "      f1_list.append(f1)\n",
        "      acc_list.append(acc)\n",
        "    bs = np.argmax(f1_list)\n",
        "    print(f'Goal{i+1}, threshold: {thres_list[bs]}, f1_score: {round(f1_list[bs], 3)}, accuracy: {round(acc_list[bs], 3)}')\n",
        "    best_all_predited_list.append([doc_pred[bs][i] for doc_pred in all_predited_list])\n",
        "  \n",
        "  best_all_predited_list_t = np.array(best_all_predited_list).T.tolist()\n",
        "  single_predicted = []\n",
        "  single_tgt = []\n",
        "  for doc_pred, doc_tgt in zip(best_all_predited_list_t, all_tgt_list):\n",
        "    for qry_pred, qry_tgt in zip(doc_pred, doc_tgt):\n",
        "      single_predicted += qry_pred\n",
        "      single_tgt += qry_tgt\n",
        "  best_f1 = f1_score(single_predicted, single_tgt)\n",
        "  best_acc = accuracy_score(single_predicted, single_tgt)\n",
        "  print(f'Total Best f1_score:{round(best_f1, 3)}, accuracy:{round(best_acc, 3)}')"
      ],
      "metadata": {
        "id": "n8LQNA7DymAf"
      },
      "execution_count": null,
      "outputs": []
    },
    {
      "cell_type": "code",
      "source": [
        "# Showing Optimal Hyperparameters\n",
        "import numpy as np\n",
        "import torch\n",
        "from glob import glob\n",
        "from sentence_transformers import SentenceTransformer, InputExample, losses, util\n",
        "\n",
        "dataset = torch.load(glob(work_dir + '/dataset.pt')[0])\n",
        "\n",
        "# Specify the number of iteration executed in the range.\n",
        "for m in range(1, 7):\n",
        "  print(m)\n",
        "  src_pred_list = []\n",
        "  cos_sim_list = []\n",
        "  thres_range = range(0, 70, 1)\n",
        "  for i in range(17):\n",
        "    saved_model = SentenceTransformer(work_dir + '/model_epoch' + str(m))\n",
        "    cos_sim_list = sentence_smilarity(dataset['src_doc_valid'], [dataset['all_query_txt'][i]], saved_model)\n",
        "    src_pred_list_by_thres = []\n",
        "    for j in thres_range:\n",
        "      src_pred = predict_goals(cos_sim_list, threshold=(j/100))\n",
        "      src_pred_list_by_thres.append(src_pred)\n",
        "    src_pred_list.append(src_pred_list_by_thres)\n",
        "  src_pred_list_t = np.squeeze(np.array(src_pred_list), 3).T.tolist()\n",
        "  show_statistics(src_pred_list_t, dataset['tgt_list_valid'], [i/100 for i in thres_range])"
      ],
      "metadata": {
        "colab": {
          "base_uri": "https://localhost:8080/"
        },
        "id": "-4sqy7ugSJuz",
        "outputId": "b10b3bc6-7b4f-43b7-bcd9-bca88ef2c9b2"
      },
      "execution_count": null,
      "outputs": [
        {
          "output_type": "stream",
          "name": "stdout",
          "text": [
            "1\n"
          ]
        },
        {
          "output_type": "stream",
          "name": "stderr",
          "text": [
            "/usr/local/lib/python3.7/dist-packages/ipykernel_launcher.py:22: VisibleDeprecationWarning: Creating an ndarray from ragged nested sequences (which is a list-or-tuple of lists-or-tuples-or ndarrays with different lengths or shapes) is deprecated. If you meant to do this, you must specify 'dtype=object' when creating the ndarray.\n"
          ]
        },
        {
          "output_type": "stream",
          "name": "stdout",
          "text": [
            "Goal1, threshold: 0.07, f1_score: 0.182, accuracy: 0.973\n",
            "Goal2, threshold: 0.21, f1_score: 0.303, accuracy: 0.989\n",
            "Goal3, threshold: 0.13, f1_score: 0.321, accuracy: 0.886\n",
            "Goal4, threshold: 0.21, f1_score: 0.302, accuracy: 0.965\n",
            "Goal5, threshold: 0.1, f1_score: 0.346, accuracy: 0.935\n",
            "Goal6, threshold: 0.27, f1_score: 0.302, accuracy: 0.987\n",
            "Goal7, threshold: 0.24, f1_score: 0.43, accuracy: 0.944\n",
            "Goal8, threshold: 0.11, f1_score: 0.407, accuracy: 0.894\n",
            "Goal9, threshold: 0.13, f1_score: 0.3, accuracy: 0.893\n",
            "Goal10, threshold: 0.25, f1_score: 0.251, accuracy: 0.966\n",
            "Goal11, threshold: 0.19, f1_score: 0.322, accuracy: 0.944\n",
            "Goal12, threshold: 0.17, f1_score: 0.413, accuracy: 0.918\n",
            "Goal13, threshold: 0.17, f1_score: 0.414, accuracy: 0.93\n",
            "Goal14, threshold: 0.1, f1_score: 0.313, accuracy: 0.956\n",
            "Goal15, threshold: 0.11, f1_score: 0.352, accuracy: 0.946\n",
            "Goal16, threshold: 0.12, f1_score: 0.24, accuracy: 0.951\n",
            "Goal17, threshold: 0.1, f1_score: 0.227, accuracy: 0.894\n"
          ]
        },
        {
          "output_type": "stream",
          "name": "stderr",
          "text": [
            "/usr/local/lib/python3.7/dist-packages/ipykernel_launcher.py:24: VisibleDeprecationWarning: Creating an ndarray from ragged nested sequences (which is a list-or-tuple of lists-or-tuples-or ndarrays with different lengths or shapes) is deprecated. If you meant to do this, you must specify 'dtype=object' when creating the ndarray.\n"
          ]
        },
        {
          "output_type": "stream",
          "name": "stdout",
          "text": [
            "Total Best f1_score:0.336, accuracy:0.939\n",
            "2\n"
          ]
        },
        {
          "output_type": "stream",
          "name": "stderr",
          "text": [
            "/usr/local/lib/python3.7/dist-packages/ipykernel_launcher.py:22: VisibleDeprecationWarning: Creating an ndarray from ragged nested sequences (which is a list-or-tuple of lists-or-tuples-or ndarrays with different lengths or shapes) is deprecated. If you meant to do this, you must specify 'dtype=object' when creating the ndarray.\n"
          ]
        },
        {
          "output_type": "stream",
          "name": "stdout",
          "text": [
            "Goal1, threshold: 0.15, f1_score: 0.177, accuracy: 0.983\n",
            "Goal2, threshold: 0.15, f1_score: 0.29, accuracy: 0.988\n",
            "Goal3, threshold: 0.15, f1_score: 0.322, accuracy: 0.901\n",
            "Goal4, threshold: 0.24, f1_score: 0.303, accuracy: 0.97\n",
            "Goal5, threshold: 0.16, f1_score: 0.337, accuracy: 0.948\n",
            "Goal6, threshold: 0.39, f1_score: 0.295, accuracy: 0.989\n",
            "Goal7, threshold: 0.16, f1_score: 0.429, accuracy: 0.935\n",
            "Goal8, threshold: 0.13, f1_score: 0.4, accuracy: 0.906\n",
            "Goal9, threshold: 0.16, f1_score: 0.304, accuracy: 0.911\n",
            "Goal10, threshold: 0.23, f1_score: 0.265, accuracy: 0.967\n",
            "Goal11, threshold: 0.22, f1_score: 0.324, accuracy: 0.95\n",
            "Goal12, threshold: 0.17, f1_score: 0.41, accuracy: 0.921\n",
            "Goal13, threshold: 0.2, f1_score: 0.405, accuracy: 0.934\n",
            "Goal14, threshold: 0.12, f1_score: 0.28, accuracy: 0.963\n",
            "Goal15, threshold: 0.14, f1_score: 0.379, accuracy: 0.958\n",
            "Goal16, threshold: 0.18, f1_score: 0.247, accuracy: 0.968\n",
            "Goal17, threshold: 0.09, f1_score: 0.233, accuracy: 0.882\n"
          ]
        },
        {
          "output_type": "stream",
          "name": "stderr",
          "text": [
            "/usr/local/lib/python3.7/dist-packages/ipykernel_launcher.py:24: VisibleDeprecationWarning: Creating an ndarray from ragged nested sequences (which is a list-or-tuple of lists-or-tuples-or ndarrays with different lengths or shapes) is deprecated. If you meant to do this, you must specify 'dtype=object' when creating the ndarray.\n"
          ]
        },
        {
          "output_type": "stream",
          "name": "stdout",
          "text": [
            "Total Best f1_score:0.338, accuracy:0.946\n",
            "3\n"
          ]
        },
        {
          "output_type": "stream",
          "name": "stderr",
          "text": [
            "/usr/local/lib/python3.7/dist-packages/ipykernel_launcher.py:22: VisibleDeprecationWarning: Creating an ndarray from ragged nested sequences (which is a list-or-tuple of lists-or-tuples-or ndarrays with different lengths or shapes) is deprecated. If you meant to do this, you must specify 'dtype=object' when creating the ndarray.\n"
          ]
        },
        {
          "output_type": "stream",
          "name": "stdout",
          "text": [
            "Goal1, threshold: 0.16, f1_score: 0.178, accuracy: 0.983\n",
            "Goal2, threshold: 0.15, f1_score: 0.256, accuracy: 0.986\n",
            "Goal3, threshold: 0.16, f1_score: 0.323, accuracy: 0.907\n",
            "Goal4, threshold: 0.26, f1_score: 0.341, accuracy: 0.971\n",
            "Goal5, threshold: 0.13, f1_score: 0.33, accuracy: 0.943\n",
            "Goal6, threshold: 0.33, f1_score: 0.334, accuracy: 0.988\n",
            "Goal7, threshold: 0.13, f1_score: 0.418, accuracy: 0.933\n",
            "Goal8, threshold: 0.1, f1_score: 0.398, accuracy: 0.897\n",
            "Goal9, threshold: 0.1, f1_score: 0.306, accuracy: 0.889\n",
            "Goal10, threshold: 0.16, f1_score: 0.28, accuracy: 0.962\n",
            "Goal11, threshold: 0.32, f1_score: 0.32, accuracy: 0.959\n",
            "Goal12, threshold: 0.19, f1_score: 0.414, accuracy: 0.925\n",
            "Goal13, threshold: 0.16, f1_score: 0.398, accuracy: 0.929\n",
            "Goal14, threshold: 0.21, f1_score: 0.294, accuracy: 0.969\n",
            "Goal15, threshold: 0.19, f1_score: 0.376, accuracy: 0.96\n",
            "Goal16, threshold: 0.15, f1_score: 0.264, accuracy: 0.963\n",
            "Goal17, threshold: 0.1, f1_score: 0.232, accuracy: 0.894\n"
          ]
        },
        {
          "output_type": "stream",
          "name": "stderr",
          "text": [
            "/usr/local/lib/python3.7/dist-packages/ipykernel_launcher.py:24: VisibleDeprecationWarning: Creating an ndarray from ragged nested sequences (which is a list-or-tuple of lists-or-tuples-or ndarrays with different lengths or shapes) is deprecated. If you meant to do this, you must specify 'dtype=object' when creating the ndarray.\n"
          ]
        },
        {
          "output_type": "stream",
          "name": "stdout",
          "text": [
            "Total Best f1_score:0.339, accuracy:0.945\n",
            "4\n"
          ]
        },
        {
          "output_type": "stream",
          "name": "stderr",
          "text": [
            "/usr/local/lib/python3.7/dist-packages/ipykernel_launcher.py:22: VisibleDeprecationWarning: Creating an ndarray from ragged nested sequences (which is a list-or-tuple of lists-or-tuples-or ndarrays with different lengths or shapes) is deprecated. If you meant to do this, you must specify 'dtype=object' when creating the ndarray.\n"
          ]
        },
        {
          "output_type": "stream",
          "name": "stdout",
          "text": [
            "Goal1, threshold: 0.1, f1_score: 0.169, accuracy: 0.977\n",
            "Goal2, threshold: 0.16, f1_score: 0.27, accuracy: 0.987\n",
            "Goal3, threshold: 0.27, f1_score: 0.34, accuracy: 0.927\n",
            "Goal4, threshold: 0.22, f1_score: 0.343, accuracy: 0.971\n",
            "Goal5, threshold: 0.17, f1_score: 0.334, accuracy: 0.95\n",
            "Goal6, threshold: 0.35, f1_score: 0.315, accuracy: 0.988\n",
            "Goal7, threshold: 0.14, f1_score: 0.414, accuracy: 0.933\n",
            "Goal8, threshold: 0.1, f1_score: 0.393, accuracy: 0.899\n",
            "Goal9, threshold: 0.16, f1_score: 0.31, accuracy: 0.912\n",
            "Goal10, threshold: 0.28, f1_score: 0.285, accuracy: 0.971\n",
            "Goal11, threshold: 0.27, f1_score: 0.329, accuracy: 0.955\n",
            "Goal12, threshold: 0.24, f1_score: 0.419, accuracy: 0.933\n",
            "Goal13, threshold: 0.23, f1_score: 0.393, accuracy: 0.935\n",
            "Goal14, threshold: 0.14, f1_score: 0.282, accuracy: 0.967\n",
            "Goal15, threshold: 0.17, f1_score: 0.403, accuracy: 0.963\n",
            "Goal16, threshold: 0.26, f1_score: 0.248, accuracy: 0.972\n",
            "Goal17, threshold: 0.08, f1_score: 0.233, accuracy: 0.892\n"
          ]
        },
        {
          "output_type": "stream",
          "name": "stderr",
          "text": [
            "/usr/local/lib/python3.7/dist-packages/ipykernel_launcher.py:24: VisibleDeprecationWarning: Creating an ndarray from ragged nested sequences (which is a list-or-tuple of lists-or-tuples-or ndarrays with different lengths or shapes) is deprecated. If you meant to do this, you must specify 'dtype=object' when creating the ndarray.\n"
          ]
        },
        {
          "output_type": "stream",
          "name": "stdout",
          "text": [
            "Total Best f1_score:0.341, accuracy:0.949\n",
            "5\n"
          ]
        },
        {
          "output_type": "stream",
          "name": "stderr",
          "text": [
            "/usr/local/lib/python3.7/dist-packages/ipykernel_launcher.py:22: VisibleDeprecationWarning: Creating an ndarray from ragged nested sequences (which is a list-or-tuple of lists-or-tuples-or ndarrays with different lengths or shapes) is deprecated. If you meant to do this, you must specify 'dtype=object' when creating the ndarray.\n"
          ]
        },
        {
          "output_type": "stream",
          "name": "stdout",
          "text": [
            "Goal1, threshold: 0.28, f1_score: 0.158, accuracy: 0.987\n",
            "Goal2, threshold: 0.18, f1_score: 0.306, accuracy: 0.989\n",
            "Goal3, threshold: 0.23, f1_score: 0.335, accuracy: 0.923\n",
            "Goal4, threshold: 0.26, f1_score: 0.345, accuracy: 0.972\n",
            "Goal5, threshold: 0.14, f1_score: 0.337, accuracy: 0.946\n",
            "Goal6, threshold: 0.34, f1_score: 0.315, accuracy: 0.987\n",
            "Goal7, threshold: 0.16, f1_score: 0.42, accuracy: 0.937\n",
            "Goal8, threshold: 0.12, f1_score: 0.398, accuracy: 0.907\n",
            "Goal9, threshold: 0.11, f1_score: 0.316, accuracy: 0.9\n",
            "Goal10, threshold: 0.2, f1_score: 0.289, accuracy: 0.967\n",
            "Goal11, threshold: 0.34, f1_score: 0.343, accuracy: 0.961\n",
            "Goal12, threshold: 0.18, f1_score: 0.421, accuracy: 0.925\n",
            "Goal13, threshold: 0.24, f1_score: 0.407, accuracy: 0.938\n",
            "Goal14, threshold: 0.19, f1_score: 0.276, accuracy: 0.968\n",
            "Goal15, threshold: 0.27, f1_score: 0.386, accuracy: 0.965\n",
            "Goal16, threshold: 0.14, f1_score: 0.265, accuracy: 0.96\n",
            "Goal17, threshold: 0.14, f1_score: 0.241, accuracy: 0.915\n"
          ]
        },
        {
          "output_type": "stream",
          "name": "stderr",
          "text": [
            "/usr/local/lib/python3.7/dist-packages/ipykernel_launcher.py:24: VisibleDeprecationWarning: Creating an ndarray from ragged nested sequences (which is a list-or-tuple of lists-or-tuples-or ndarrays with different lengths or shapes) is deprecated. If you meant to do this, you must specify 'dtype=object' when creating the ndarray.\n"
          ]
        },
        {
          "output_type": "stream",
          "name": "stdout",
          "text": [
            "Total Best f1_score:0.347, accuracy:0.95\n",
            "6\n"
          ]
        },
        {
          "output_type": "stream",
          "name": "stderr",
          "text": [
            "/usr/local/lib/python3.7/dist-packages/ipykernel_launcher.py:22: VisibleDeprecationWarning: Creating an ndarray from ragged nested sequences (which is a list-or-tuple of lists-or-tuples-or ndarrays with different lengths or shapes) is deprecated. If you meant to do this, you must specify 'dtype=object' when creating the ndarray.\n"
          ]
        },
        {
          "output_type": "stream",
          "name": "stdout",
          "text": [
            "Goal1, threshold: 0.06, f1_score: 0.16, accuracy: 0.972\n",
            "Goal2, threshold: 0.2, f1_score: 0.299, accuracy: 0.989\n",
            "Goal3, threshold: 0.14, f1_score: 0.333, accuracy: 0.913\n",
            "Goal4, threshold: 0.26, f1_score: 0.347, accuracy: 0.973\n",
            "Goal5, threshold: 0.21, f1_score: 0.343, accuracy: 0.953\n",
            "Goal6, threshold: 0.35, f1_score: 0.312, accuracy: 0.988\n",
            "Goal7, threshold: 0.12, f1_score: 0.421, accuracy: 0.936\n",
            "Goal8, threshold: 0.13, f1_score: 0.392, accuracy: 0.91\n",
            "Goal9, threshold: 0.1, f1_score: 0.316, accuracy: 0.906\n",
            "Goal10, threshold: 0.27, f1_score: 0.296, accuracy: 0.972\n",
            "Goal11, threshold: 0.22, f1_score: 0.331, accuracy: 0.952\n",
            "Goal12, threshold: 0.16, f1_score: 0.423, accuracy: 0.922\n",
            "Goal13, threshold: 0.18, f1_score: 0.399, accuracy: 0.935\n",
            "Goal14, threshold: 0.24, f1_score: 0.301, accuracy: 0.973\n",
            "Goal15, threshold: 0.16, f1_score: 0.392, accuracy: 0.961\n",
            "Goal16, threshold: 0.2, f1_score: 0.289, accuracy: 0.967\n",
            "Goal17, threshold: 0.11, f1_score: 0.245, accuracy: 0.915\n"
          ]
        },
        {
          "output_type": "stream",
          "name": "stderr",
          "text": [
            "/usr/local/lib/python3.7/dist-packages/ipykernel_launcher.py:24: VisibleDeprecationWarning: Creating an ndarray from ragged nested sequences (which is a list-or-tuple of lists-or-tuples-or ndarrays with different lengths or shapes) is deprecated. If you meant to do this, you must specify 'dtype=object' when creating the ndarray.\n"
          ]
        },
        {
          "output_type": "stream",
          "name": "stdout",
          "text": [
            "Total Best f1_score:0.347, accuracy:0.949\n"
          ]
        }
      ]
    },
    {
      "cell_type": "code",
      "source": [
        "################ Test ################"
      ],
      "metadata": {
        "id": "dqQxmHQC59Ag"
      },
      "execution_count": null,
      "outputs": []
    },
    {
      "cell_type": "code",
      "source": [
        "# Showing F1 Score and Accuracy in all an by qry\n",
        "import numpy as np\n",
        "from sklearn.metrics import f1_score, accuracy_score\n",
        "\n",
        "def show_statistics_test(all_predited_list, all_tgt_list):\n",
        "  by_qry_tgt_list = []\n",
        "  by_qry_pred_list = []\n",
        "  for i in range(17):\n",
        "    by_qry_tgt = []\n",
        "    for data in all_tgt_list:\n",
        "      by_qry_tgt += data[i]\n",
        "    by_qry_pred = []\n",
        "    for data in all_predited_list:\n",
        "      by_qry_pred += data[i]\n",
        "    f1 = f1_score(by_qry_pred, by_qry_tgt)\n",
        "    acc = accuracy_score(by_qry_pred, by_qry_tgt)\n",
        "    print(f'Goal{i+1}, f1_score: {round(f1, 3)}, accuracy: {round(acc, 3)}')\n",
        "\n",
        "    by_qry_tgt_list.append(by_qry_tgt)\n",
        "    by_qry_pred_list.append(by_qry_pred)\n",
        "  \n",
        "  tgt_list_all = []\n",
        "  pred_list_all = []\n",
        "  for by_qry_tgt in by_qry_tgt_list:\n",
        "    tgt_list_all += by_qry_tgt\n",
        "  for by_qry_pred in by_qry_pred_list:\n",
        "    pred_list_all += by_qry_pred\n",
        "  \n",
        "  f1_all = f1_score(pred_list_all, tgt_list_all)\n",
        "  acc_all = accuracy_score(pred_list_all, tgt_list_all)\n",
        "  print(f'Total, f1_score: {round(f1_all, 3)}, accuracy: {round(acc_all, 3)}')"
      ],
      "metadata": {
        "id": "xRVVoe0d62I_"
      },
      "execution_count": null,
      "outputs": []
    },
    {
      "cell_type": "code",
      "source": [
        "import numpy as np\n",
        "import torch\n",
        "from glob import glob\n",
        "from sentence_transformers import SentenceTransformer, InputExample, losses, util\n",
        "\n",
        "def test_execute(m, thres_list):\n",
        "  dataset = torch.load(glob(work_dir + '/dataset.pt')[0])\n",
        "  saved_model = SentenceTransformer(work_dir + '/model_epoch' + str(m))\n",
        "  src_pred_list = []\n",
        "  cos_sim_list = []\n",
        "  for i in range(17):\n",
        "    cos_sim_list = sentence_smilarity(dataset['src_doc_test'], [dataset['all_query_txt'][i]], saved_model)\n",
        "    src_pred = predict_goals(cos_sim_list, threshold=thres_list[i])\n",
        "    src_pred_list.append(src_pred)\n",
        "  src_pred_list_t = np.squeeze(src_pred_list).T.tolist()\n",
        "  show_statistics_test(src_pred_list_t, dataset['tgt_list_test'])"
      ],
      "metadata": {
        "id": "F1kXTeYO59Cy"
      },
      "execution_count": null,
      "outputs": []
    },
    {
      "cell_type": "code",
      "source": [
        "# Showing Test Results\n",
        "thres_list = [0.32, 0.17, 0.24, 0.25, 0.15, 0.36, 0.19, 0.11, 0.15, 0.28, 0.27, 0.14, 0.39, 0.23, 0.23, 0.32, 0.16]\n",
        "test_execute(7, thres_list)"
      ],
      "metadata": {
        "id": "syHiTPcW6o9B",
        "colab": {
          "base_uri": "https://localhost:8080/"
        },
        "outputId": "d48c8a80-63ee-4ebc-ec4e-b1aa60c72b1d"
      },
      "execution_count": null,
      "outputs": [
        {
          "output_type": "stream",
          "name": "stderr",
          "text": [
            "/usr/local/lib/python3.7/dist-packages/numpy/core/fromnumeric.py:43: VisibleDeprecationWarning: Creating an ndarray from ragged nested sequences (which is a list-or-tuple of lists-or-tuples-or ndarrays with different lengths or shapes) is deprecated. If you meant to do this, you must specify 'dtype=object' when creating the ndarray.\n",
            "  result = getattr(asarray(obj), method)(*args, **kwds)\n"
          ]
        },
        {
          "output_type": "stream",
          "name": "stdout",
          "text": [
            "Goal1, f1_score: 0.042, accuracy: 0.989\n",
            "Goal2, f1_score: 0.175, accuracy: 0.984\n",
            "Goal3, f1_score: 0.279, accuracy: 0.926\n",
            "Goal4, f1_score: 0.269, accuracy: 0.966\n",
            "Goal5, f1_score: 0.309, accuracy: 0.939\n",
            "Goal6, f1_score: 0.424, accuracy: 0.981\n",
            "Goal7, f1_score: 0.328, accuracy: 0.932\n",
            "Goal8, f1_score: 0.287, accuracy: 0.885\n",
            "Goal9, f1_score: 0.317, accuracy: 0.916\n",
            "Goal10, f1_score: 0.253, accuracy: 0.963\n",
            "Goal11, f1_score: 0.253, accuracy: 0.945\n",
            "Goal12, f1_score: 0.33, accuracy: 0.905\n",
            "Goal13, f1_score: 0.402, accuracy: 0.933\n",
            "Goal14, f1_score: 0.336, accuracy: 0.973\n",
            "Goal15, f1_score: 0.349, accuracy: 0.965\n",
            "Goal16, f1_score: 0.178, accuracy: 0.973\n",
            "Goal17, f1_score: 0.173, accuracy: 0.925\n",
            "Total, f1_score: 0.298, accuracy: 0.947\n"
          ]
        }
      ]
    },
    {
      "cell_type": "code",
      "source": [],
      "metadata": {
        "id": "_LdDgQKjNA0L"
      },
      "execution_count": null,
      "outputs": []
    }
  ]
}